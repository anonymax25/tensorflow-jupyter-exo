{
  "nbformat": 4,
  "nbformat_minor": 5,
  "metadata": {
    "kernelspec": {
      "display_name": "Python 3",
      "language": "python",
      "name": "python3"
    },
    "language_info": {
      "codemirror_mode": {
        "name": "ipython",
        "version": 3
      },
      "file_extension": ".py",
      "mimetype": "text/x-python",
      "name": "python",
      "nbconvert_exporter": "python",
      "pygments_lexer": "ipython3",
      "version": "3.7.10"
    },
    "colab": {
      "name": "01_Introduction_a_tensorflow.ipynb",
      "provenance": [],
      "collapsed_sections": [
        "bc540a25-1ee3-4e07-bf18-f6276f28924f",
        "f0154657-aa1b-4477-aa99-20afa204bd66",
        "d99b6d19-c13a-477c-bfd7-b257ea77cb5c"
      ],
      "toc_visible": true,
      "include_colab_link": true
    }
  },
  "cells": [
    {
      "cell_type": "markdown",
      "metadata": {
        "id": "view-in-github",
        "colab_type": "text"
      },
      "source": [
        "<a href=\"https://colab.research.google.com/github/anonymax25/tensorflow-jupyter-exo/blob/master/01_Introduction_a_tensorflow.ipynb\" target=\"_parent\"><img src=\"https://colab.research.google.com/assets/colab-badge.svg\" alt=\"Open In Colab\"/></a>"
      ]
    },
    {
      "cell_type": "markdown",
      "metadata": {
        "id": "008766ff-6b2a-48ba-8609-02a6e49c0a5a"
      },
      "source": [
        "# Introduction à TensorFlow : notions de base"
      ],
      "id": "008766ff-6b2a-48ba-8609-02a6e49c0a5a"
    },
    {
      "cell_type": "markdown",
      "metadata": {
        "id": "1d76a7e2-9862-4dce-88f8-e39516faffef"
      },
      "source": [
        "Nous allons ici couvrir dans ce premier notebook les bases de TensorFlow et des tenseurs, éléments de base de TensorFlow :\n",
        "- introduction aux tenseurs\n",
        "- création et manipulation des tenseurs\n",
        "- différence entre tenseurs et les tableaux numpy\n",
        "- utilisation des GPUs avec TensorFlow\n",
        "\n",
        "Lien vers la documentation officielle : https://www.tensorflow.org/api_docs/python/tf"
      ],
      "id": "1d76a7e2-9862-4dce-88f8-e39516faffef"
    },
    {
      "cell_type": "markdown",
      "metadata": {
        "id": "cdc5b052-e0ac-4e08-a86a-f5240858b477"
      },
      "source": [
        "## 1. Introduction aux tenseurs"
      ],
      "id": "cdc5b052-e0ac-4e08-a86a-f5240858b477"
    },
    {
      "cell_type": "markdown",
      "metadata": {
        "id": "1fd100a5-db26-4480-8340-451c4c92ac06"
      },
      "source": [
        "### 1.1 Rappel\n",
        "\n",
        "Vous pouvez voir le tenseur comme une représentation numérique à plusieurs dimensions (*n-dimensions*) de l'élément, la donnée que vous cherchez à représenter :\n",
        "- une image (ex : tenseurs utilisés pour représenter les pixels de l'image)\n",
        "- du texte (ex : tenseurs utilisés pour représenter des mots)\n",
        "- directement des nombres (ex : tenseurs utilisés pour représenter le prix d'un bien immobilier)\n",
        "- ou tout autre forme d'information (des données) que l'on veut représenter avec des nombres.\n",
        "\n",
        "Les tenseurs sont équivalents aux tableaux NumPy (*NumPy arrays*) ; la différence majeure est que les tenseurs peuvent engendrer l'utilisation des GPUs (et TPUs si présents) (plus de détails dans le chapitre 3).\n",
        "\n",
        "L'avantage de l'utilisation des GPUs (et TPUs) est que les calculs seront plus rapides."
      ],
      "id": "1fd100a5-db26-4480-8340-451c4c92ac06"
    },
    {
      "cell_type": "markdown",
      "metadata": {
        "id": "0b0724dc-13a3-4fa9-9683-0d276a359853"
      },
      "source": [
        "### 1.2. Créer un tenseur avec `tf.constant()`\n",
        "\n",
        "Nous devons d'abord importer TensorFlow (nous allons utiliser l'alias `tf` par la suite) :"
      ],
      "id": "0b0724dc-13a3-4fa9-9683-0d276a359853"
    },
    {
      "cell_type": "code",
      "metadata": {
        "colab": {
          "base_uri": "https://localhost:8080/"
        },
        "id": "b5ff060a-594f-4a37-8505-5771e15c089f",
        "outputId": "4d6fbc0a-36be-461e-bfe1-5728dd1e8ab7"
      },
      "source": [
        "import tensorflow as tf\n",
        "print(tf.__version__)"
      ],
      "id": "b5ff060a-594f-4a37-8505-5771e15c089f",
      "execution_count": 3,
      "outputs": [
        {
          "output_type": "stream",
          "text": [
            "2.5.0\n"
          ],
          "name": "stdout"
        }
      ]
    },
    {
      "cell_type": "markdown",
      "metadata": {
        "id": "3be5155f-08d2-4a52-ae13-e3f0f21e63b2"
      },
      "source": [
        "En général, pour créer nos tenseurs, nous ne les créons pas nous-mêmes : nous utilisons les modules disponibles dans TensorFlow (par exemple `tf.io` ou `tf.data`).\n",
        "\n",
        "Ces modules peuvent directement lire nos sources de données et automatiquement les convertir en tenseurs : les modèles de réseaux de neurones pourront ainsi par la suite les traiter.\n",
        "\n",
        "Cependant, dans cette partie, afin de se familiariser avec les tenseurs, nous allons les créer par nous-mêmes et nous allons utiliser `tf.constant()` pour ce faire :"
      ],
      "id": "3be5155f-08d2-4a52-ae13-e3f0f21e63b2"
    },
    {
      "cell_type": "code",
      "metadata": {
        "id": "a0a6c26f-5b73-4f56-b8a8-b36d9fa0eff0",
        "outputId": "ddaeda7c-cb0d-4636-8e1d-8f8889508b01"
      },
      "source": [
        "scalaire = \n",
        "scalaire"
      ],
      "id": "a0a6c26f-5b73-4f56-b8a8-b36d9fa0eff0",
      "execution_count": null,
      "outputs": [
        {
          "output_type": "execute_result",
          "data": {
            "text/plain": [
              "<tf.Tensor: shape=(), dtype=int32, numpy=6>"
            ]
          },
          "metadata": {
            "tags": []
          },
          "execution_count": 2
        }
      ]
    },
    {
      "cell_type": "code",
      "metadata": {
        "colab": {
          "base_uri": "https://localhost:8080/"
        },
        "id": "YzNoUh92LXz_",
        "outputId": "75f3def4-e124-4a92-b4c4-d35cc9dd7a59"
      },
      "source": [
        "scalaire = tf.constant(6)\n",
        "scalaire"
      ],
      "id": "YzNoUh92LXz_",
      "execution_count": null,
      "outputs": [
        {
          "output_type": "execute_result",
          "data": {
            "text/plain": [
              "<tf.Tensor: shape=(), dtype=int32, numpy=6>"
            ]
          },
          "metadata": {
            "tags": []
          },
          "execution_count": 5
        }
      ]
    },
    {
      "cell_type": "markdown",
      "metadata": {
        "id": "a74f72c4-eb00-4f66-b9ec-a4b561054457"
      },
      "source": [
        "Un scalaire peut être vu comme un tenseur de rang 0, parce qu'il n'a pas de dimension (c'est simplement un nombre). On peut vérifier la dimension d'un tenseur avec l'attribut `ndim` :"
      ],
      "id": "a74f72c4-eb00-4f66-b9ec-a4b561054457"
    },
    {
      "cell_type": "code",
      "metadata": {
        "id": "e1faa68e-6a00-465f-957d-88272cc35814",
        "outputId": "7bdc70d2-d155-4571-a6fe-4cea2013fc60"
      },
      "source": [
        "# Dimension du tenseur\n"
      ],
      "id": "e1faa68e-6a00-465f-957d-88272cc35814",
      "execution_count": null,
      "outputs": [
        {
          "output_type": "execute_result",
          "data": {
            "text/plain": [
              "0"
            ]
          },
          "metadata": {
            "tags": []
          },
          "execution_count": 3
        }
      ]
    },
    {
      "cell_type": "code",
      "metadata": {
        "colab": {
          "base_uri": "https://localhost:8080/"
        },
        "id": "2_JKtMkSKhbs",
        "outputId": "5c4e2e95-e69d-4cd7-df6f-a3d727efe34d"
      },
      "source": [
        "scalaire.ndim"
      ],
      "id": "2_JKtMkSKhbs",
      "execution_count": null,
      "outputs": [
        {
          "output_type": "execute_result",
          "data": {
            "text/plain": [
              "0"
            ]
          },
          "metadata": {
            "tags": []
          },
          "execution_count": 6
        }
      ]
    },
    {
      "cell_type": "markdown",
      "metadata": {
        "id": "489eae79-c6fb-4c62-9aec-93075c5e280b"
      },
      "source": [
        "Créons maintenant un vecteur de dimension 1 :"
      ],
      "id": "489eae79-c6fb-4c62-9aec-93075c5e280b"
    },
    {
      "cell_type": "code",
      "metadata": {
        "id": "d02867d8-7d1f-4194-81ba-11c311169e7f",
        "outputId": "b423fcd5-5a4d-4f67-af80-bf28d6fdb06c"
      },
      "source": [
        "vecteur =\n",
        "vecteur"
      ],
      "id": "d02867d8-7d1f-4194-81ba-11c311169e7f",
      "execution_count": null,
      "outputs": [
        {
          "output_type": "execute_result",
          "data": {
            "text/plain": [
              "<tf.Tensor: shape=(3,), dtype=int32, numpy=array([6, 7, 8])>"
            ]
          },
          "metadata": {
            "tags": []
          },
          "execution_count": 4
        }
      ]
    },
    {
      "cell_type": "code",
      "metadata": {
        "id": "b7f0426e-951f-4ef3-8eb3-5be7bb8bd11f",
        "outputId": "784b7885-3d3e-45b2-9511-6b21150ab6ee"
      },
      "source": [
        "# Dimension du tenseur\n"
      ],
      "id": "b7f0426e-951f-4ef3-8eb3-5be7bb8bd11f",
      "execution_count": null,
      "outputs": [
        {
          "output_type": "execute_result",
          "data": {
            "text/plain": [
              "1"
            ]
          },
          "metadata": {
            "tags": []
          },
          "execution_count": 5
        }
      ]
    },
    {
      "cell_type": "code",
      "metadata": {
        "colab": {
          "base_uri": "https://localhost:8080/"
        },
        "id": "P09p5PKBLyf9",
        "outputId": "1400c14c-41b1-45f9-e211-ec9313e9dac5"
      },
      "source": [
        "vecteur = tf.constant([6, 7, 8])\n",
        "vecteur"
      ],
      "id": "P09p5PKBLyf9",
      "execution_count": null,
      "outputs": [
        {
          "output_type": "execute_result",
          "data": {
            "text/plain": [
              "<tf.Tensor: shape=(3,), dtype=int32, numpy=array([6, 7, 8], dtype=int32)>"
            ]
          },
          "metadata": {
            "tags": []
          },
          "execution_count": 8
        }
      ]
    },
    {
      "cell_type": "markdown",
      "metadata": {
        "id": "4b64ce40-9007-4063-8339-7a0aa61bdd1b"
      },
      "source": [
        "Même exercice pour une matrice (rang 2) :"
      ],
      "id": "4b64ce40-9007-4063-8339-7a0aa61bdd1b"
    },
    {
      "cell_type": "code",
      "metadata": {
        "id": "c5b68bd8-e833-4fc3-9a6a-0768a3d94e52",
        "outputId": "6b93daf3-1f6f-4c1d-c70a-1d0ced2264d0"
      },
      "source": [
        "matrice =\n",
        "matrice"
      ],
      "id": "c5b68bd8-e833-4fc3-9a6a-0768a3d94e52",
      "execution_count": null,
      "outputs": [
        {
          "output_type": "execute_result",
          "data": {
            "text/plain": [
              "<tf.Tensor: shape=(2, 2), dtype=int32, numpy=\n",
              "array([[ 5,  6],\n",
              "       [ 8, 10]])>"
            ]
          },
          "metadata": {
            "tags": []
          },
          "execution_count": 6
        }
      ]
    },
    {
      "cell_type": "code",
      "metadata": {
        "id": "e8ecf600-4e0d-428e-bbd0-c065d346a22b",
        "outputId": "3487445a-a56c-4dd4-bddd-b4c0079967b2"
      },
      "source": [
        "# Dimension du tenseur\n"
      ],
      "id": "e8ecf600-4e0d-428e-bbd0-c065d346a22b",
      "execution_count": null,
      "outputs": [
        {
          "output_type": "execute_result",
          "data": {
            "text/plain": [
              "2"
            ]
          },
          "metadata": {
            "tags": []
          },
          "execution_count": 7
        }
      ]
    },
    {
      "cell_type": "code",
      "metadata": {
        "colab": {
          "base_uri": "https://localhost:8080/"
        },
        "id": "t4u9qDLDMtlL",
        "outputId": "34c39e8b-0c05-41e3-ac5a-a8395ecbaf64"
      },
      "source": [
        "matrice = tf.constant([[ 5,  6],\n",
        "       [ 8, 10]])\n",
        "matrice"
      ],
      "id": "t4u9qDLDMtlL",
      "execution_count": null,
      "outputs": [
        {
          "output_type": "execute_result",
          "data": {
            "text/plain": [
              "<tf.Tensor: shape=(2, 2), dtype=int32, numpy=\n",
              "array([[ 5,  6],\n",
              "       [ 8, 10]], dtype=int32)>"
            ]
          },
          "metadata": {
            "tags": []
          },
          "execution_count": 9
        }
      ]
    },
    {
      "cell_type": "markdown",
      "metadata": {
        "id": "3d0ccc45-19e8-48bd-8535-15d476d2260b"
      },
      "source": [
        "Par défaut, TensorFlow crée des tenseurs de type `int32` ou `float32`.\n",
        "\n",
        "Modifions le datatype par défaut (par exemple `float16`) en modifiant le paramètre `dtype` pour un nouveau tenseur de type matrice :"
      ],
      "id": "3d0ccc45-19e8-48bd-8535-15d476d2260b"
    },
    {
      "cell_type": "code",
      "metadata": {
        "colab": {
          "base_uri": "https://localhost:8080/"
        },
        "id": "80e5855d-b849-4568-85b4-a2fb3988da60",
        "outputId": "be8e9116-de00-47b3-e02a-81ef2fda052c"
      },
      "source": [
        "matrice2 = tf.constant([[5., 1.],\n",
        "       [3., 4.],\n",
        "       [7., 9.]], \"float16\")\n",
        "matrice2"
      ],
      "id": "80e5855d-b849-4568-85b4-a2fb3988da60",
      "execution_count": null,
      "outputs": [
        {
          "output_type": "execute_result",
          "data": {
            "text/plain": [
              "<tf.Tensor: shape=(3, 2), dtype=float16, numpy=\n",
              "array([[5., 1.],\n",
              "       [3., 4.],\n",
              "       [7., 9.]], dtype=float16)>"
            ]
          },
          "metadata": {
            "tags": []
          },
          "execution_count": 13
        }
      ]
    },
    {
      "cell_type": "code",
      "metadata": {
        "id": "71e124ac-976b-40a8-9bbe-529c34c82ee1",
        "outputId": "45cbf2df-4356-4ccf-8e35-84656987db64"
      },
      "source": [
        "# Dimension du tenseur\n"
      ],
      "id": "71e124ac-976b-40a8-9bbe-529c34c82ee1",
      "execution_count": null,
      "outputs": [
        {
          "output_type": "execute_result",
          "data": {
            "text/plain": [
              "2"
            ]
          },
          "metadata": {
            "tags": []
          },
          "execution_count": 9
        }
      ]
    },
    {
      "cell_type": "code",
      "metadata": {
        "colab": {
          "base_uri": "https://localhost:8080/"
        },
        "id": "Xrs2QnywNw94",
        "outputId": "00c49281-d65e-4d0f-bc71-f5916209d6f5"
      },
      "source": [
        "matrice2.ndim"
      ],
      "id": "Xrs2QnywNw94",
      "execution_count": null,
      "outputs": [
        {
          "output_type": "execute_result",
          "data": {
            "text/plain": [
              "2"
            ]
          },
          "metadata": {
            "tags": []
          },
          "execution_count": 14
        }
      ]
    },
    {
      "cell_type": "markdown",
      "metadata": {
        "id": "191a839a-a4c3-48e6-804b-0eadd1123294"
      },
      "source": [
        "Voici un autre exemple de tenseur, cette fois-ci de dimension 3 :"
      ],
      "id": "191a839a-a4c3-48e6-804b-0eadd1123294"
    },
    {
      "cell_type": "code",
      "metadata": {
        "tags": [],
        "id": "89ca56f9-3c37-4dd3-bbab-3d8f3988b8db",
        "outputId": "dc1e174b-0265-4942-d31c-406986591f2b"
      },
      "source": [
        "tenseur = \n",
        "tenseur"
      ],
      "id": "89ca56f9-3c37-4dd3-bbab-3d8f3988b8db",
      "execution_count": null,
      "outputs": [
        {
          "output_type": "execute_result",
          "data": {
            "text/plain": [
              "<tf.Tensor: shape=(3, 2, 3), dtype=int32, numpy=\n",
              "array([[[ 1,  2,  3],\n",
              "        [ 4,  5,  6]],\n",
              "\n",
              "       [[ 7,  8,  9],\n",
              "        [10, 11, 12]],\n",
              "\n",
              "       [[13, 14, 15],\n",
              "        [16, 17, 18]]])>"
            ]
          },
          "metadata": {
            "tags": []
          },
          "execution_count": 10
        }
      ]
    },
    {
      "cell_type": "code",
      "metadata": {
        "colab": {
          "base_uri": "https://localhost:8080/"
        },
        "id": "dada750f-de91-4610-8e9d-9bd6eb18a7c8",
        "outputId": "9fddf6da-d918-4d35-b161-5aeb3fe1f297"
      },
      "source": [
        "tenseur = tf.constant([[[ 1,  2,  3],\n",
        "        [ 4,  5,  6]],\n",
        "\n",
        "       [[ 7,  8,  9],\n",
        "        [10, 11, 12]],\n",
        "\n",
        "       [[13, 14, 15],\n",
        "        [16, 17, 18]]])\n",
        "tenseur"
      ],
      "id": "dada750f-de91-4610-8e9d-9bd6eb18a7c8",
      "execution_count": null,
      "outputs": [
        {
          "output_type": "execute_result",
          "data": {
            "text/plain": [
              "<tf.Tensor: shape=(3, 2, 3), dtype=int32, numpy=\n",
              "array([[[ 1,  2,  3],\n",
              "        [ 4,  5,  6]],\n",
              "\n",
              "       [[ 7,  8,  9],\n",
              "        [10, 11, 12]],\n",
              "\n",
              "       [[13, 14, 15],\n",
              "        [16, 17, 18]]], dtype=int32)>"
            ]
          },
          "metadata": {
            "tags": []
          },
          "execution_count": 15
        }
      ]
    },
    {
      "cell_type": "code",
      "metadata": {
        "id": "9383f0ba-1769-4229-9734-2daf23457bff",
        "outputId": "9ac7b559-5f23-4e89-80a2-f98bfed9d108"
      },
      "source": [
        "# Dimension du tenseur\n"
      ],
      "id": "9383f0ba-1769-4229-9734-2daf23457bff",
      "execution_count": null,
      "outputs": [
        {
          "output_type": "execute_result",
          "data": {
            "text/plain": [
              "3"
            ]
          },
          "metadata": {
            "tags": []
          },
          "execution_count": 11
        }
      ]
    },
    {
      "cell_type": "code",
      "metadata": {
        "colab": {
          "base_uri": "https://localhost:8080/"
        },
        "id": "poaBt2iWN4mq",
        "outputId": "7d636eee-af65-4480-b495-d36f7889d8f3"
      },
      "source": [
        "tenseur.ndim"
      ],
      "id": "poaBt2iWN4mq",
      "execution_count": null,
      "outputs": [
        {
          "output_type": "execute_result",
          "data": {
            "text/plain": [
              "3"
            ]
          },
          "metadata": {
            "tags": []
          },
          "execution_count": 16
        }
      ]
    },
    {
      "cell_type": "markdown",
      "metadata": {
        "id": "bfed061e-6c77-42db-b17f-e0bd53956666"
      },
      "source": [
        "### 1.3. Créer un tenseur avec `tf.Variable()`\n",
        "\n",
        "Nous pouvons également utiliser la fonction `tf.Variable()` pour créer un tenseur :"
      ],
      "id": "bfed061e-6c77-42db-b17f-e0bd53956666"
    },
    {
      "cell_type": "code",
      "metadata": {
        "id": "652004af-9035-4cca-8870-0be922860448",
        "outputId": "2c9e78f8-2b7f-4444-8392-8a7a767f9929"
      },
      "source": [
        "tenseur_variable =\n",
        "tenseur_non_modifiable =\n",
        "tenseur_variable, tenseur_non_modifiable"
      ],
      "id": "652004af-9035-4cca-8870-0be922860448",
      "execution_count": null,
      "outputs": [
        {
          "output_type": "execute_result",
          "data": {
            "text/plain": [
              "(<tf.Variable 'Variable:0' shape=(2,) dtype=int32, numpy=array([10,  7])>,\n",
              " <tf.Tensor: shape=(2,), dtype=int32, numpy=array([10,  7])>)"
            ]
          },
          "metadata": {
            "tags": []
          },
          "execution_count": 12
        }
      ]
    },
    {
      "cell_type": "code",
      "metadata": {
        "colab": {
          "base_uri": "https://localhost:8080/"
        },
        "id": "G34omIeCOMBM",
        "outputId": "94e063a1-3550-4fed-d182-2cb96f63a1b7"
      },
      "source": [
        "tenseur_variable = tf.Variable([10,  7])\n",
        "tenseur_non_modifiable = tf.constant([10,  7])\n",
        "tenseur_variable, tenseur_non_modifiable"
      ],
      "id": "G34omIeCOMBM",
      "execution_count": null,
      "outputs": [
        {
          "output_type": "execute_result",
          "data": {
            "text/plain": [
              "(<tf.Variable 'Variable:0' shape=(2,) dtype=int32, numpy=array([10,  7], dtype=int32)>,\n",
              " <tf.Tensor: shape=(2,), dtype=int32, numpy=array([10,  7], dtype=int32)>)"
            ]
          },
          "metadata": {
            "tags": []
          },
          "execution_count": 17
        }
      ]
    },
    {
      "cell_type": "markdown",
      "metadata": {
        "id": "936bbc6b-df2c-412a-8dfc-47cd92c8d6fe"
      },
      "source": [
        "La différence entre `tf.constant()` et `tf.Variable()` est que les tenseurs créés avec `tf.constant()` sont immuables (ils ne peuvent pas être modifiés) alors que les tenseurs créés avec `tf.Variable()` peuvent être modifiés."
      ],
      "id": "936bbc6b-df2c-412a-8dfc-47cd92c8d6fe"
    },
    {
      "cell_type": "markdown",
      "metadata": {
        "id": "18d6b292-bff4-4b8a-81d6-ff32930343f8"
      },
      "source": [
        "Essayons justement de modifier un des éléments du tenseur modifiable :"
      ],
      "id": "18d6b292-bff4-4b8a-81d6-ff32930343f8"
    },
    {
      "cell_type": "code",
      "metadata": {
        "id": "42935ca2-21e7-47e2-92d7-af4b66d9f872",
        "outputId": "5d37ba9f-90d3-4b84-e329-b8f35c38933f"
      },
      "source": [
        "tenseur_variable [0] =\n",
        "tenseur_variable"
      ],
      "id": "42935ca2-21e7-47e2-92d7-af4b66d9f872",
      "execution_count": null,
      "outputs": [
        {
          "output_type": "error",
          "ename": "TypeError",
          "evalue": "'ResourceVariable' object does not support item assignment",
          "traceback": [
            "\u001b[1;31m---------------------------------------------------------------------------\u001b[0m",
            "\u001b[1;31mTypeError\u001b[0m                                 Traceback (most recent call last)",
            "\u001b[1;32m<ipython-input-14-feba6604f33e>\u001b[0m in \u001b[0;36m<module>\u001b[1;34m\u001b[0m\n\u001b[1;32m----> 1\u001b[1;33m \u001b[0mtenseur_variable\u001b[0m \u001b[1;33m[\u001b[0m\u001b[1;36m0\u001b[0m\u001b[1;33m]\u001b[0m \u001b[1;33m=\u001b[0m \u001b[1;36m1\u001b[0m\u001b[1;33m\u001b[0m\u001b[1;33m\u001b[0m\u001b[0m\n\u001b[0m\u001b[0;32m      2\u001b[0m \u001b[0mtenseur_variable\u001b[0m\u001b[1;33m\u001b[0m\u001b[1;33m\u001b[0m\u001b[0m\n",
            "\u001b[1;31mTypeError\u001b[0m: 'ResourceVariable' object does not support item assignment"
          ]
        }
      ]
    },
    {
      "cell_type": "code",
      "metadata": {
        "colab": {
          "base_uri": "https://localhost:8080/",
          "height": 180
        },
        "id": "dqrzYI8zO6NQ",
        "outputId": "cd16ac3d-da5b-43cb-9c86-7bbedc10e8e7"
      },
      "source": [
        "tenseur_variable [0] = 1\n",
        "tenseur_variable"
      ],
      "id": "dqrzYI8zO6NQ",
      "execution_count": null,
      "outputs": [
        {
          "output_type": "error",
          "ename": "TypeError",
          "evalue": "ignored",
          "traceback": [
            "\u001b[0;31m---------------------------------------------------------------------------\u001b[0m",
            "\u001b[0;31mTypeError\u001b[0m                                 Traceback (most recent call last)",
            "\u001b[0;32m<ipython-input-19-feba6604f33e>\u001b[0m in \u001b[0;36m<module>\u001b[0;34m()\u001b[0m\n\u001b[0;32m----> 1\u001b[0;31m \u001b[0mtenseur_variable\u001b[0m \u001b[0;34m[\u001b[0m\u001b[0;36m0\u001b[0m\u001b[0;34m]\u001b[0m \u001b[0;34m=\u001b[0m \u001b[0;36m1\u001b[0m\u001b[0;34m\u001b[0m\u001b[0;34m\u001b[0m\u001b[0m\n\u001b[0m\u001b[1;32m      2\u001b[0m \u001b[0mtenseur_variable\u001b[0m\u001b[0;34m\u001b[0m\u001b[0;34m\u001b[0m\u001b[0m\n",
            "\u001b[0;31mTypeError\u001b[0m: 'ResourceVariable' object does not support item assignment"
          ]
        }
      ]
    },
    {
      "cell_type": "markdown",
      "metadata": {
        "id": "1416a6d4-8b25-4832-ae79-5613365953e8"
      },
      "source": [
        "Oups ! On obtient une erreur !\n",
        "Il faut passer par la méthode `assign()` pour pouvoir faire la modification souhaitée :"
      ],
      "id": "1416a6d4-8b25-4832-ae79-5613365953e8"
    },
    {
      "cell_type": "code",
      "metadata": {
        "id": "88b9f475-531b-47f1-b2d8-2510266805c1",
        "outputId": "799a5262-e092-4c13-b18b-e2e3f32a4a7a"
      },
      "source": [
        "tenseur_variable[0].\n",
        "tenseur_variable"
      ],
      "id": "88b9f475-531b-47f1-b2d8-2510266805c1",
      "execution_count": null,
      "outputs": [
        {
          "output_type": "execute_result",
          "data": {
            "text/plain": [
              "<tf.Variable 'Variable:0' shape=(2,) dtype=int32, numpy=array([1, 7])>"
            ]
          },
          "metadata": {
            "tags": []
          },
          "execution_count": 15
        }
      ]
    },
    {
      "cell_type": "code",
      "metadata": {
        "colab": {
          "base_uri": "https://localhost:8080/"
        },
        "id": "jT7PyGf6PAZo",
        "outputId": "72a03ba6-9bed-413a-cd28-92a5306ff5d0"
      },
      "source": [
        "tenseur_variable[0].assign(1)\n",
        "tenseur_variable"
      ],
      "id": "jT7PyGf6PAZo",
      "execution_count": null,
      "outputs": [
        {
          "output_type": "execute_result",
          "data": {
            "text/plain": [
              "<tf.Variable 'Variable:0' shape=(2,) dtype=int32, numpy=array([1, 7], dtype=int32)>"
            ]
          },
          "metadata": {
            "tags": []
          },
          "execution_count": 20
        }
      ]
    },
    {
      "cell_type": "markdown",
      "metadata": {
        "id": "d2aed353-8b52-4da4-a89a-de30e2e2802c"
      },
      "source": [
        "Nous pouvons vérifier que le tenseur créé à partir de `tf.constant()` ne peut pas être modifié :"
      ],
      "id": "d2aed353-8b52-4da4-a89a-de30e2e2802c"
    },
    {
      "cell_type": "code",
      "metadata": {
        "id": "146d3d52-3c41-4f4c-9adc-22f8a301a410",
        "outputId": "b370806f-45d6-4db3-f489-e6b2bc248943"
      },
      "source": [
        "tenseur_non_modifiable[0] ="
      ],
      "id": "146d3d52-3c41-4f4c-9adc-22f8a301a410",
      "execution_count": null,
      "outputs": [
        {
          "output_type": "error",
          "ename": "TypeError",
          "evalue": "'tensorflow.python.framework.ops.EagerTensor' object does not support item assignment",
          "traceback": [
            "\u001b[1;31m---------------------------------------------------------------------------\u001b[0m",
            "\u001b[1;31mTypeError\u001b[0m                                 Traceback (most recent call last)",
            "\u001b[1;32m<ipython-input-16-e8d2d3d3e3ad>\u001b[0m in \u001b[0;36m<module>\u001b[1;34m\u001b[0m\n\u001b[1;32m----> 1\u001b[1;33m \u001b[0mtenseur_non_modifiable\u001b[0m\u001b[1;33m[\u001b[0m\u001b[1;36m0\u001b[0m\u001b[1;33m]\u001b[0m \u001b[1;33m=\u001b[0m \u001b[1;36m2\u001b[0m\u001b[1;33m\u001b[0m\u001b[1;33m\u001b[0m\u001b[0m\n\u001b[0m",
            "\u001b[1;31mTypeError\u001b[0m: 'tensorflow.python.framework.ops.EagerTensor' object does not support item assignment"
          ]
        }
      ]
    },
    {
      "cell_type": "code",
      "metadata": {
        "id": "5f5e64bc-6f70-48a0-a2fa-a00dfd595570",
        "outputId": "05c9188a-6df7-4157-e697-8cc1f5cee44f"
      },
      "source": [
        "tenseur_non_modifiable[0]."
      ],
      "id": "5f5e64bc-6f70-48a0-a2fa-a00dfd595570",
      "execution_count": null,
      "outputs": [
        {
          "output_type": "error",
          "ename": "AttributeError",
          "evalue": "'tensorflow.python.framework.ops.EagerTensor' object has no attribute 'assign'",
          "traceback": [
            "\u001b[1;31m---------------------------------------------------------------------------\u001b[0m",
            "\u001b[1;31mAttributeError\u001b[0m                            Traceback (most recent call last)",
            "\u001b[1;32m<ipython-input-17-de4895c8c08d>\u001b[0m in \u001b[0;36m<module>\u001b[1;34m\u001b[0m\n\u001b[1;32m----> 1\u001b[1;33m \u001b[0mtenseur_non_modifiable\u001b[0m\u001b[1;33m[\u001b[0m\u001b[1;36m0\u001b[0m\u001b[1;33m]\u001b[0m\u001b[1;33m.\u001b[0m\u001b[0massign\u001b[0m\u001b[1;33m(\u001b[0m\u001b[1;36m2\u001b[0m\u001b[1;33m)\u001b[0m\u001b[1;33m\u001b[0m\u001b[1;33m\u001b[0m\u001b[0m\n\u001b[0m",
            "\u001b[1;31mAttributeError\u001b[0m: 'tensorflow.python.framework.ops.EagerTensor' object has no attribute 'assign'"
          ]
        }
      ]
    },
    {
      "cell_type": "code",
      "metadata": {
        "colab": {
          "base_uri": "https://localhost:8080/",
          "height": 163
        },
        "id": "0oooxYK4PQWp",
        "outputId": "4e6b02aa-ed89-4798-9583-235cb0e3e413"
      },
      "source": [
        "tenseur_non_modifiable[0] = 2"
      ],
      "id": "0oooxYK4PQWp",
      "execution_count": null,
      "outputs": [
        {
          "output_type": "error",
          "ename": "TypeError",
          "evalue": "ignored",
          "traceback": [
            "\u001b[0;31m---------------------------------------------------------------------------\u001b[0m",
            "\u001b[0;31mTypeError\u001b[0m                                 Traceback (most recent call last)",
            "\u001b[0;32m<ipython-input-21-e8d2d3d3e3ad>\u001b[0m in \u001b[0;36m<module>\u001b[0;34m()\u001b[0m\n\u001b[0;32m----> 1\u001b[0;31m \u001b[0mtenseur_non_modifiable\u001b[0m\u001b[0;34m[\u001b[0m\u001b[0;36m0\u001b[0m\u001b[0;34m]\u001b[0m \u001b[0;34m=\u001b[0m \u001b[0;36m2\u001b[0m\u001b[0;34m\u001b[0m\u001b[0;34m\u001b[0m\u001b[0m\n\u001b[0m",
            "\u001b[0;31mTypeError\u001b[0m: 'tensorflow.python.framework.ops.EagerTensor' object does not support item assignment"
          ]
        }
      ]
    },
    {
      "cell_type": "code",
      "metadata": {
        "colab": {
          "base_uri": "https://localhost:8080/",
          "height": 282
        },
        "id": "q_ea5OhpPVkm",
        "outputId": "28aa338b-9431-4a01-a6d4-6484c4f4598e"
      },
      "source": [
        "tenseur_non_modifiable[0].assign(2)"
      ],
      "id": "q_ea5OhpPVkm",
      "execution_count": null,
      "outputs": [
        {
          "output_type": "error",
          "ename": "AttributeError",
          "evalue": "ignored",
          "traceback": [
            "\u001b[0;31m---------------------------------------------------------------------------\u001b[0m",
            "\u001b[0;31mAttributeError\u001b[0m                            Traceback (most recent call last)",
            "\u001b[0;32m<ipython-input-22-de4895c8c08d>\u001b[0m in \u001b[0;36m<module>\u001b[0;34m()\u001b[0m\n\u001b[0;32m----> 1\u001b[0;31m \u001b[0mtenseur_non_modifiable\u001b[0m\u001b[0;34m[\u001b[0m\u001b[0;36m0\u001b[0m\u001b[0;34m]\u001b[0m\u001b[0;34m.\u001b[0m\u001b[0massign\u001b[0m\u001b[0;34m(\u001b[0m\u001b[0;36m2\u001b[0m\u001b[0;34m)\u001b[0m\u001b[0;34m\u001b[0m\u001b[0;34m\u001b[0m\u001b[0m\n\u001b[0m",
            "\u001b[0;32m/usr/local/lib/python3.7/dist-packages/tensorflow/python/framework/ops.py\u001b[0m in \u001b[0;36m__getattr__\u001b[0;34m(self, name)\u001b[0m\n\u001b[1;32m    399\u001b[0m         \u001b[0;32mimport\u001b[0m \u001b[0mtensorflow\u001b[0m\u001b[0;34m.\u001b[0m\u001b[0mpython\u001b[0m\u001b[0;34m.\u001b[0m\u001b[0mops\u001b[0m\u001b[0;34m.\u001b[0m\u001b[0mnumpy_ops\u001b[0m\u001b[0;34m.\u001b[0m\u001b[0mnp_config\u001b[0m\u001b[0;34m\u001b[0m\u001b[0;34m\u001b[0m\u001b[0m\n\u001b[1;32m    400\u001b[0m         np_config.enable_numpy_behavior()\"\"\".format(type(self).__name__, name))\n\u001b[0;32m--> 401\u001b[0;31m     \u001b[0mself\u001b[0m\u001b[0;34m.\u001b[0m\u001b[0m__getattribute__\u001b[0m\u001b[0;34m(\u001b[0m\u001b[0mname\u001b[0m\u001b[0;34m)\u001b[0m\u001b[0;34m\u001b[0m\u001b[0;34m\u001b[0m\u001b[0m\n\u001b[0m\u001b[1;32m    402\u001b[0m \u001b[0;34m\u001b[0m\u001b[0m\n\u001b[1;32m    403\u001b[0m   \u001b[0;34m@\u001b[0m\u001b[0mstaticmethod\u001b[0m\u001b[0;34m\u001b[0m\u001b[0;34m\u001b[0m\u001b[0m\n",
            "\u001b[0;31mAttributeError\u001b[0m: 'tensorflow.python.framework.ops.EagerTensor' object has no attribute 'assign'"
          ]
        }
      ]
    },
    {
      "cell_type": "markdown",
      "metadata": {
        "id": "bc540a25-1ee3-4e07-bf18-f6276f28924f"
      },
      "source": [
        "### 1.4. Créer des tenseurs aléatoires\n",
        "\n",
        "Les tenseurs aléatoires sont des tenseurs de taille aléatoire qui contiennent des nombres ... aléatoires !\n",
        "\n",
        "Pourquoi vouloir créer de tels tenseurs ?\n",
        "\n",
        "C'est en fait ce que les réseaux de neurones utilisent pour initialiser les *poids* (*weights* en anglais), les poids représentant le schéma que les réseaux de neurones essayent d'apprendre à partir des données.\n",
        "\n",
        "Par exemple, le processus d'apprentissage d'un réseau de neurone consiste à :\n",
        "- choisir un tableau aléatoire de nombres de n-dimensions\n",
        "- puis d'affiner ce tableau jusqu'à ce qu'il représente une sorte de modèle, de schéma (*pattern*) (une manière compressée de représenter les données d'origine)\n",
        "\n",
        "Créons des tenseurs aléatoires avec la classe `tf.random.Generator` (par exemple avec la \"graine aléatoire\" (*seed* ou *random seed* en anglais) égale à 42) :"
      ],
      "id": "bc540a25-1ee3-4e07-bf18-f6276f28924f"
    },
    {
      "cell_type": "code",
      "metadata": {
        "id": "1c6084c2-e756-4535-8f2c-661a5efb68ce"
      },
      "source": [
        "tf1 = \n",
        "tf2 = \n",
        "\n",
        "#choix d'une distribution normale et de dimension 3x2 pour nos deux tenseurs\n",
        "tf1 = tf1.\n",
        "tf2 = tf2."
      ],
      "id": "1c6084c2-e756-4535-8f2c-661a5efb68ce",
      "execution_count": null,
      "outputs": []
    },
    {
      "cell_type": "markdown",
      "metadata": {
        "id": "588bdce7-a1ce-4d77-9ac7-0c871eafa565"
      },
      "source": [
        "Vérifions si nos deux tenseurs sont égaux :"
      ],
      "id": "588bdce7-a1ce-4d77-9ac7-0c871eafa565"
    },
    {
      "cell_type": "code",
      "metadata": {
        "id": "753d45c6-4718-4594-bc6c-be6f030dfbe9",
        "outputId": "51ee14fb-0136-4136-cbc1-89d80d5c886b"
      },
      "source": [
        "tf1, tf2, tf1 == tf2"
      ],
      "id": "753d45c6-4718-4594-bc6c-be6f030dfbe9",
      "execution_count": null,
      "outputs": [
        {
          "output_type": "execute_result",
          "data": {
            "text/plain": [
              "(<tf.Tensor: shape=(3, 2), dtype=float32, numpy=\n",
              " array([[-0.7565803 , -0.06854702],\n",
              "        [ 0.07595026, -1.2573844 ],\n",
              "        [-0.23193763, -1.8107855 ]], dtype=float32)>,\n",
              " <tf.Tensor: shape=(3, 2), dtype=float32, numpy=\n",
              " array([[-0.7565803 , -0.06854702],\n",
              "        [ 0.07595026, -1.2573844 ],\n",
              "        [-0.23193763, -1.8107855 ]], dtype=float32)>,\n",
              " <tf.Tensor: shape=(3, 2), dtype=bool, numpy=\n",
              " array([[ True,  True],\n",
              "        [ True,  True],\n",
              "        [ True,  True]])>)"
            ]
          },
          "metadata": {
            "tags": []
          },
          "execution_count": 19
        }
      ]
    },
    {
      "cell_type": "code",
      "metadata": {
        "colab": {
          "base_uri": "https://localhost:8080/"
        },
        "id": "mqdVXuFpPveE",
        "outputId": "227bec33-18c5-4338-8048-0b3641f8970b"
      },
      "source": [
        "tf1 = tf.random.Generator.from_seed(42)\n",
        "tf2 = tf.random.Generator.from_seed(42)\n",
        "\n",
        "#choix d'une distribution normale et de dimension 3x2 pour nos deux tenseurs\n",
        "tf1 = tf1.normal(shape=(3, 2))\n",
        "tf2 = tf2.normal(shape=(3, 2))\n",
        "\n",
        "tf1, tf2, tf1 == tf2"
      ],
      "id": "mqdVXuFpPveE",
      "execution_count": null,
      "outputs": [
        {
          "output_type": "execute_result",
          "data": {
            "text/plain": [
              "(<tf.Tensor: shape=(3, 2), dtype=float32, numpy=\n",
              " array([[-0.7565803 , -0.06854702],\n",
              "        [ 0.07595026, -1.2573844 ],\n",
              "        [-0.23193763, -1.8107855 ]], dtype=float32)>,\n",
              " <tf.Tensor: shape=(3, 2), dtype=float32, numpy=\n",
              " array([[-0.7565803 , -0.06854702],\n",
              "        [ 0.07595026, -1.2573844 ],\n",
              "        [-0.23193763, -1.8107855 ]], dtype=float32)>,\n",
              " <tf.Tensor: shape=(3, 2), dtype=bool, numpy=\n",
              " array([[ True,  True],\n",
              "        [ True,  True],\n",
              "        [ True,  True]])>)"
            ]
          },
          "metadata": {
            "tags": []
          },
          "execution_count": 27
        }
      ]
    },
    {
      "cell_type": "markdown",
      "metadata": {
        "id": "2cfeeb8c-555e-4934-8cfd-8ae185d7cc30"
      },
      "source": [
        "Du fait de l'utilisation d'un nombre (le paramètre de la méthode `from_seed()`), les tenseurs aléatoires que nous avons créés sont en en fait des nombres *pseudo-aléatoires* : on voit qu'en utilisant le même nombre, on obtient le même tenseur.\n",
        "\n",
        "Voyons ce qu'il se passe si l'on change le paramètre d'entrée de la méthode `from_seed()` (par exemple pour la graine aléatoire égale à 10 pour le tenseur `tf4`) :"
      ],
      "id": "2cfeeb8c-555e-4934-8cfd-8ae185d7cc30"
    },
    {
      "cell_type": "code",
      "metadata": {
        "id": "c417fc9b-e09d-45fa-a651-5cf9c63e403d"
      },
      "source": [
        "tf3 = tf.\n",
        "tf4 = tf.\n",
        "\n",
        "#choix d'une distribution normale et de dimension 3x2 pour nos deux tenseurs\n",
        "tf3 = tf3.\n",
        "tf4 = tf4."
      ],
      "id": "c417fc9b-e09d-45fa-a651-5cf9c63e403d",
      "execution_count": null,
      "outputs": []
    },
    {
      "cell_type": "code",
      "metadata": {
        "id": "07662827-d9a6-45db-bf76-f1f256fe3569",
        "outputId": "15888471-d3a8-4174-c951-ef3a2cd4925b"
      },
      "source": [
        "tf3, tf4, tf1 == tf3, tf3 == tf4"
      ],
      "id": "07662827-d9a6-45db-bf76-f1f256fe3569",
      "execution_count": null,
      "outputs": [
        {
          "output_type": "execute_result",
          "data": {
            "text/plain": [
              "(<tf.Tensor: shape=(3, 2), dtype=float32, numpy=\n",
              " array([[-0.7565803 , -0.06854702],\n",
              "        [ 0.07595026, -1.2573844 ],\n",
              "        [-0.23193763, -1.8107855 ]], dtype=float32)>,\n",
              " <tf.Tensor: shape=(3, 2), dtype=float32, numpy=\n",
              " array([[-0.29604465, -0.21134205],\n",
              "        [ 0.01063002,  1.5165398 ],\n",
              "        [ 0.27305737, -0.29925638]], dtype=float32)>,\n",
              " <tf.Tensor: shape=(3, 2), dtype=bool, numpy=\n",
              " array([[ True,  True],\n",
              "        [ True,  True],\n",
              "        [ True,  True]])>,\n",
              " <tf.Tensor: shape=(3, 2), dtype=bool, numpy=\n",
              " array([[False, False],\n",
              "        [False, False],\n",
              "        [False, False]])>)"
            ]
          },
          "metadata": {
            "tags": []
          },
          "execution_count": 21
        }
      ]
    },
    {
      "cell_type": "code",
      "metadata": {
        "colab": {
          "base_uri": "https://localhost:8080/"
        },
        "id": "J5NZCG2RRC-W",
        "outputId": "e4e9fe31-0758-4dc9-f82c-bfe6e05e2358"
      },
      "source": [
        "tf3 = tf.random.Generator.from_seed(42)\n",
        "tf4 = tf.random.Generator.from_seed(10)\n",
        "\n",
        "#choix d'une distribution normale et de dimension 3x2 pour nos deux tenseurs\n",
        "tf3 = tf3.normal(shape=(3, 2))\n",
        "tf4 = tf4.normal(shape=(3, 2))\n",
        "\n",
        "tf3, tf4, tf3 == tf4"
      ],
      "id": "J5NZCG2RRC-W",
      "execution_count": null,
      "outputs": [
        {
          "output_type": "execute_result",
          "data": {
            "text/plain": [
              "(<tf.Tensor: shape=(3, 2), dtype=float32, numpy=\n",
              " array([[-0.7565803 , -0.06854702],\n",
              "        [ 0.07595026, -1.2573844 ],\n",
              "        [-0.23193763, -1.8107855 ]], dtype=float32)>,\n",
              " <tf.Tensor: shape=(3, 2), dtype=float32, numpy=\n",
              " array([[-0.29604465, -0.21134205],\n",
              "        [ 0.01063002,  1.5165398 ],\n",
              "        [ 0.27305737, -0.29925638]], dtype=float32)>,\n",
              " <tf.Tensor: shape=(3, 2), dtype=bool, numpy=\n",
              " array([[False, False],\n",
              "        [False, False],\n",
              "        [False, False]])>)"
            ]
          },
          "metadata": {
            "tags": []
          },
          "execution_count": 28
        }
      ]
    },
    {
      "cell_type": "markdown",
      "metadata": {
        "id": "adea3ffc-34db-4e33-80bf-7b9440c7b27d"
      },
      "source": [
        "Maintenant, comment faire si l'on veut mélanger l'ordre des éléments d'un tenseur ?\n",
        "\n",
        "D'abord, pourquoi voudrions-nous faire cela ?\n",
        "\n",
        "Supposons que vous travaillez avec 1000 images de voitures et de vélos et que les 200 premières images sont celles représentant des voitures et les 800 dernières des motos. Cet ordre pourrait affecter la façon dont le réseau de neurones apprendra (il peut surajuster en apprenant l'ordre des données).\n",
        "\n",
        "Cela peut ainsi être une bonne idée de mélanger les données avant d'entraîner notre modèle.\n",
        "\n",
        "Voyons comme faire cela sur un exemple simple avec un tenseur de type constant :"
      ],
      "id": "adea3ffc-34db-4e33-80bf-7b9440c7b27d"
    },
    {
      "cell_type": "code",
      "metadata": {
        "id": "8ccf48d2-2441-4806-ba6f-948616346d76",
        "outputId": "57874747-a5fd-4990-b020-6c87e968fda0"
      },
      "source": [
        "tenseur_non_melange = \n",
        "tenseur_non_melange"
      ],
      "id": "8ccf48d2-2441-4806-ba6f-948616346d76",
      "execution_count": null,
      "outputs": [
        {
          "output_type": "execute_result",
          "data": {
            "text/plain": [
              "<tf.Tensor: shape=(3, 2), dtype=int32, numpy=\n",
              "array([[10,  9],\n",
              "       [ 8,  7],\n",
              "       [ 6,  5]])>"
            ]
          },
          "metadata": {
            "tags": []
          },
          "execution_count": 22
        }
      ]
    },
    {
      "cell_type": "code",
      "metadata": {
        "colab": {
          "base_uri": "https://localhost:8080/"
        },
        "id": "DiuUtzklRaZQ",
        "outputId": "b9b0d27d-f32d-4551-d038-ba664ac012ac"
      },
      "source": [
        "tenseur_non_melange = tf.constant([[10,  9],\n",
        "       [ 8,  7],\n",
        "       [ 6,  5]])\n",
        "tenseur_non_melange"
      ],
      "id": "DiuUtzklRaZQ",
      "execution_count": null,
      "outputs": [
        {
          "output_type": "execute_result",
          "data": {
            "text/plain": [
              "<tf.Tensor: shape=(3, 2), dtype=int32, numpy=\n",
              "array([[10,  9],\n",
              "       [ 8,  7],\n",
              "       [ 6,  5]], dtype=int32)>"
            ]
          },
          "metadata": {
            "tags": []
          },
          "execution_count": 29
        }
      ]
    },
    {
      "cell_type": "markdown",
      "metadata": {
        "id": "2aab4550-f062-4bb4-bc03-70d9f236aa8d"
      },
      "source": [
        "Mélangeons-le en utilisant la méthode `shuffle()` de la classe `random` :"
      ],
      "id": "2aab4550-f062-4bb4-bc03-70d9f236aa8d"
    },
    {
      "cell_type": "code",
      "metadata": {
        "id": "46170541-055c-4123-a0c9-fac3af393c8c",
        "outputId": "8ecf6c32-4bed-41a3-c1bd-12bb4b16bd8c"
      },
      "source": [
        ""
      ],
      "id": "46170541-055c-4123-a0c9-fac3af393c8c",
      "execution_count": null,
      "outputs": [
        {
          "output_type": "execute_result",
          "data": {
            "text/plain": [
              "<tf.Tensor: shape=(3, 2), dtype=int32, numpy=\n",
              "array([[10,  9],\n",
              "       [ 6,  5],\n",
              "       [ 8,  7]])>"
            ]
          },
          "metadata": {
            "tags": []
          },
          "execution_count": 23
        }
      ]
    },
    {
      "cell_type": "code",
      "metadata": {
        "colab": {
          "base_uri": "https://localhost:8080/"
        },
        "id": "yLlsAXwoRhJ5",
        "outputId": "b884a544-6bc5-49d9-cd40-1228fff0dc6f"
      },
      "source": [
        "tf.random.shuffle(tenseur_non_melange)"
      ],
      "id": "yLlsAXwoRhJ5",
      "execution_count": null,
      "outputs": [
        {
          "output_type": "execute_result",
          "data": {
            "text/plain": [
              "<tf.Tensor: shape=(3, 2), dtype=int32, numpy=\n",
              "array([[10,  9],\n",
              "       [ 6,  5],\n",
              "       [ 8,  7]], dtype=int32)>"
            ]
          },
          "metadata": {
            "tags": []
          },
          "execution_count": 46
        }
      ]
    },
    {
      "cell_type": "markdown",
      "metadata": {
        "id": "0441f42e-06f5-4dac-8e2a-ffa09c20fe37"
      },
      "source": [
        "On obtiendra à chaque essai un résultat différent.\n",
        "\n",
        "Pour obtenir le même tenseur mélangé à chaque fois, on peut spécifier le paramètre `seed` (par exemple 42) :"
      ],
      "id": "0441f42e-06f5-4dac-8e2a-ffa09c20fe37"
    },
    {
      "cell_type": "code",
      "metadata": {
        "id": "68f4d07c-fea7-4018-bb35-41f5b2e7060d",
        "outputId": "80bb9478-6f53-4778-9c6d-a9054195102b"
      },
      "source": [
        ""
      ],
      "id": "68f4d07c-fea7-4018-bb35-41f5b2e7060d",
      "execution_count": null,
      "outputs": [
        {
          "output_type": "execute_result",
          "data": {
            "text/plain": [
              "<tf.Tensor: shape=(3, 2), dtype=int32, numpy=\n",
              "array([[ 6,  5],\n",
              "       [ 8,  7],\n",
              "       [10,  9]])>"
            ]
          },
          "metadata": {
            "tags": []
          },
          "execution_count": 24
        }
      ]
    },
    {
      "cell_type": "code",
      "metadata": {
        "colab": {
          "base_uri": "https://localhost:8080/"
        },
        "id": "mDQVtS9GRzqM",
        "outputId": "cdf17075-2d52-4329-dd26-30a7f3f01914"
      },
      "source": [
        "tf.random.shuffle(tenseur_non_melange, 42)"
      ],
      "id": "mDQVtS9GRzqM",
      "execution_count": null,
      "outputs": [
        {
          "output_type": "execute_result",
          "data": {
            "text/plain": [
              "<tf.Tensor: shape=(3, 2), dtype=int32, numpy=\n",
              "array([[ 6,  5],\n",
              "       [10,  9],\n",
              "       [ 8,  7]], dtype=int32)>"
            ]
          },
          "metadata": {
            "tags": []
          },
          "execution_count": 48
        }
      ]
    },
    {
      "cell_type": "markdown",
      "metadata": {
        "id": "6d5ebf3b-e2b8-40d8-80df-b8c7ca46b1f9"
      },
      "source": [
        "En réalité, on n'obtient toujours pas le même tenseur mélangé ! On peut voir que l'ordre n'est pas toujours le même !\n",
        "\n",
        "Pourquoi ? Cela est dû à la méthode `set_seed()` du module `tf.random` : `tf.random.set_seed(*nombre*)` spécifie le paramètre aléatoire (*seed*) au niveau global et le paramètre *seed* dans `tf.random.shuffle(seed=*nombre*)` le spécifie au niveau de l'opération effectuée (lien vers la règle 4 de la documentation de la méthode [set_seed()](https://www.tensorflow.org/api_docs/python/tf/random/set_seed)).\n",
        "\n",
        "Si on spécifie le paramètre `seed` de la méthode `shuffle()`, il faut également spécifier le paramètre du niveau global pour pouvoir récupérer le même tenseur mélangé à chaque fois :"
      ],
      "id": "6d5ebf3b-e2b8-40d8-80df-b8c7ca46b1f9"
    },
    {
      "cell_type": "code",
      "metadata": {
        "id": "80701243-830a-4b68-a371-5da4f6cab303",
        "outputId": "af3051c2-032a-49a0-f127-42323dbab0c2"
      },
      "source": [
        "tf.\n",
        "\n",
        "tf."
      ],
      "id": "80701243-830a-4b68-a371-5da4f6cab303",
      "execution_count": null,
      "outputs": [
        {
          "output_type": "execute_result",
          "data": {
            "text/plain": [
              "<tf.Tensor: shape=(3, 2), dtype=int32, numpy=\n",
              "array([[ 6,  5],\n",
              "       [ 8,  7],\n",
              "       [10,  9]])>"
            ]
          },
          "metadata": {
            "tags": []
          },
          "execution_count": 25
        }
      ]
    },
    {
      "cell_type": "code",
      "metadata": {
        "colab": {
          "base_uri": "https://localhost:8080/"
        },
        "id": "iqvtY43eSJ0C",
        "outputId": "962c1826-6831-4247-af54-63d011c51650"
      },
      "source": [
        "tf.random.set_seed(42)\n",
        "tenseur_non_melange = tf.random.shuffle(tenseur_non_melange,seed=42)\n",
        "tenseur_non_melange"
      ],
      "id": "iqvtY43eSJ0C",
      "execution_count": null,
      "outputs": [
        {
          "output_type": "execute_result",
          "data": {
            "text/plain": [
              "<tf.Tensor: shape=(3, 2), dtype=int32, numpy=\n",
              "array([[10,  9],\n",
              "       [ 8,  7],\n",
              "       [ 6,  5]], dtype=int32)>"
            ]
          },
          "metadata": {
            "tags": []
          },
          "execution_count": 52
        }
      ]
    },
    {
      "cell_type": "markdown",
      "metadata": {
        "id": "d90fd96a-8f33-4e16-8030-2ba2b1c2edde"
      },
      "source": [
        "On peut aussi seulement spécifier le niveau global :"
      ],
      "id": "d90fd96a-8f33-4e16-8030-2ba2b1c2edde"
    },
    {
      "cell_type": "code",
      "metadata": {
        "id": "75087de1-9436-4531-b634-02de3f7c8e6f",
        "outputId": "0521e9b9-40b7-4ed3-a1d5-179d1dca7567"
      },
      "source": [
        "# en commentant la ligne ci-dessous, vous obtiendrez des résultats différents à chaque essai\n",
        "tf.\n",
        "\n",
        "tf."
      ],
      "id": "75087de1-9436-4531-b634-02de3f7c8e6f",
      "execution_count": null,
      "outputs": [
        {
          "output_type": "execute_result",
          "data": {
            "text/plain": [
              "<tf.Tensor: shape=(3, 2), dtype=int32, numpy=\n",
              "array([[ 6,  5],\n",
              "       [10,  9],\n",
              "       [ 8,  7]])>"
            ]
          },
          "metadata": {
            "tags": []
          },
          "execution_count": 26
        }
      ]
    },
    {
      "cell_type": "code",
      "metadata": {
        "colab": {
          "base_uri": "https://localhost:8080/"
        },
        "id": "gT9-dBgqSRaD",
        "outputId": "a8d46a86-f8e9-4114-ada1-b4bfbb1512a0"
      },
      "source": [
        "tf.random.set_seed(42)\n",
        "\n",
        "tf.random.shuffle(tenseur_non_melange)"
      ],
      "id": "gT9-dBgqSRaD",
      "execution_count": null,
      "outputs": [
        {
          "output_type": "execute_result",
          "data": {
            "text/plain": [
              "<tf.Tensor: shape=(3, 2), dtype=int32, numpy=\n",
              "array([[ 8,  7],\n",
              "       [ 6,  5],\n",
              "       [10,  9]], dtype=int32)>"
            ]
          },
          "metadata": {
            "tags": []
          },
          "execution_count": 53
        }
      ]
    },
    {
      "cell_type": "markdown",
      "metadata": {
        "id": "f0154657-aa1b-4477-aa99-20afa204bd66"
      },
      "source": [
        "### 1.5. Autres façons de créer des tenseurs\n",
        "\n",
        "On peut utiliser `tf.ones()` et `tf.zeros()` pour créer des tenseurs unitaires et nuls :"
      ],
      "id": "f0154657-aa1b-4477-aa99-20afa204bd66"
    },
    {
      "cell_type": "code",
      "metadata": {
        "id": "de29f10b-30f1-47dc-a804-f6619af00cc1",
        "outputId": "3165bcc1-7cb2-4061-ccea-0a7f357678d4"
      },
      "source": [
        ""
      ],
      "id": "de29f10b-30f1-47dc-a804-f6619af00cc1",
      "execution_count": null,
      "outputs": [
        {
          "output_type": "execute_result",
          "data": {
            "text/plain": [
              "<tf.Tensor: shape=(4, 3), dtype=float32, numpy=\n",
              "array([[1., 1., 1.],\n",
              "       [1., 1., 1.],\n",
              "       [1., 1., 1.],\n",
              "       [1., 1., 1.]], dtype=float32)>"
            ]
          },
          "metadata": {
            "tags": []
          },
          "execution_count": 27
        }
      ]
    },
    {
      "cell_type": "code",
      "metadata": {
        "colab": {
          "base_uri": "https://localhost:8080/"
        },
        "id": "L8lRS4__Sr6K",
        "outputId": "ae77b0e8-f7f7-4dd2-ee41-0ea6f8c9e6a5"
      },
      "source": [
        "tf.ones((4, 3), \"float32\")"
      ],
      "id": "L8lRS4__Sr6K",
      "execution_count": null,
      "outputs": [
        {
          "output_type": "execute_result",
          "data": {
            "text/plain": [
              "<tf.Tensor: shape=(4, 3), dtype=float32, numpy=\n",
              "array([[1., 1., 1.],\n",
              "       [1., 1., 1.],\n",
              "       [1., 1., 1.],\n",
              "       [1., 1., 1.]], dtype=float32)>"
            ]
          },
          "metadata": {
            "tags": []
          },
          "execution_count": 55
        }
      ]
    },
    {
      "cell_type": "code",
      "metadata": {
        "id": "c16bb511-9523-404c-b9ee-23110898580c",
        "outputId": "30922c54-cd38-4511-bf56-de57db80c3d0"
      },
      "source": [
        ""
      ],
      "id": "c16bb511-9523-404c-b9ee-23110898580c",
      "execution_count": null,
      "outputs": [
        {
          "output_type": "execute_result",
          "data": {
            "text/plain": [
              "<tf.Tensor: shape=(4, 3), dtype=float32, numpy=\n",
              "array([[0., 0., 0.],\n",
              "       [0., 0., 0.],\n",
              "       [0., 0., 0.],\n",
              "       [0., 0., 0.]], dtype=float32)>"
            ]
          },
          "metadata": {
            "tags": []
          },
          "execution_count": 28
        }
      ]
    },
    {
      "cell_type": "code",
      "metadata": {
        "colab": {
          "base_uri": "https://localhost:8080/"
        },
        "id": "eEwB5hO2St9H",
        "outputId": "a2da29d8-3871-423e-c568-0d84b2c4b055"
      },
      "source": [
        "tf.zeros((4, 3), \"float32\")"
      ],
      "id": "eEwB5hO2St9H",
      "execution_count": null,
      "outputs": [
        {
          "output_type": "execute_result",
          "data": {
            "text/plain": [
              "<tf.Tensor: shape=(4, 3), dtype=float32, numpy=\n",
              "array([[0., 0., 0.],\n",
              "       [0., 0., 0.],\n",
              "       [0., 0., 0.],\n",
              "       [0., 0., 0.]], dtype=float32)>"
            ]
          },
          "metadata": {
            "tags": []
          },
          "execution_count": 57
        }
      ]
    },
    {
      "cell_type": "markdown",
      "metadata": {
        "id": "6d5c4f7d-3524-45ac-85e6-bbf277e2d67e"
      },
      "source": [
        "Vous pouvez également convertir des tableaux `NumPy` en tenseurs (indication : la forme du tenseur (*shape*) doit correspondre au nombre d'éléments du tableau `NumPy`) :"
      ],
      "id": "6d5c4f7d-3524-45ac-85e6-bbf277e2d67e"
    },
    {
      "cell_type": "code",
      "metadata": {
        "id": "7bc2a29b-7476-4faf-9482-738d19706747",
        "outputId": "af01bf23-d617-445b-efab-c8b810bab186"
      },
      "source": [
        "import numpy as np\n",
        "\n",
        "array_A = np.\n",
        "tenseur_T = tf.constant()\n",
        "\n",
        "array_A, tenseur_T"
      ],
      "id": "7bc2a29b-7476-4faf-9482-738d19706747",
      "execution_count": null,
      "outputs": [
        {
          "output_type": "execute_result",
          "data": {
            "text/plain": [
              "(array([ 1,  2,  3,  4,  5,  6,  7,  8,  9, 10, 11, 12, 13, 14, 15, 16, 17,\n",
              "        18]),\n",
              " <tf.Tensor: shape=(2, 3, 3), dtype=int32, numpy=\n",
              " array([[[ 1,  2,  3],\n",
              "         [ 4,  5,  6],\n",
              "         [ 7,  8,  9]],\n",
              " \n",
              "        [[10, 11, 12],\n",
              "         [13, 14, 15],\n",
              "         [16, 17, 18]]])>)"
            ]
          },
          "metadata": {
            "tags": []
          },
          "execution_count": 29
        }
      ]
    },
    {
      "cell_type": "code",
      "metadata": {
        "colab": {
          "base_uri": "https://localhost:8080/"
        },
        "id": "qioNjn5MTMxH",
        "outputId": "237c45f3-d9e7-4a19-9acd-a7364748d3b8"
      },
      "source": [
        "import numpy as np\n",
        "\n",
        "array_A = np.array( [1,2,3,4,5,6,7,8,9,10,11,12,13,14,15,16,17,18] )\n",
        "tenseur_T = tf.constant(array_A,shape=(2,3,3))\n",
        "\n",
        "array_A, tenseur_T"
      ],
      "id": "qioNjn5MTMxH",
      "execution_count": null,
      "outputs": [
        {
          "output_type": "execute_result",
          "data": {
            "text/plain": [
              "(array([ 1,  2,  3,  4,  5,  6,  7,  8,  9, 10, 11, 12, 13, 14, 15, 16, 17,\n",
              "        18]), <tf.Tensor: shape=(2, 3, 3), dtype=int64, numpy=\n",
              " array([[[ 1,  2,  3],\n",
              "         [ 4,  5,  6],\n",
              "         [ 7,  8,  9]],\n",
              " \n",
              "        [[10, 11, 12],\n",
              "         [13, 14, 15],\n",
              "         [16, 17, 18]]])>)"
            ]
          },
          "metadata": {
            "tags": []
          },
          "execution_count": 58
        }
      ]
    },
    {
      "cell_type": "markdown",
      "metadata": {
        "id": "d99b6d19-c13a-477c-bfd7-b257ea77cb5c"
      },
      "source": [
        "### 1.6. Informations relatives aux tenseurs\n",
        "\n",
        "Nous pouvons accéder à plusieurs attributs des tenseurs nous informant sur :\n",
        "- la forme : la taille de chaque dimension d'un tenseur\n",
        "- le rang : le nombre de dimension du tenseur\n",
        "- les dimensions\n",
        "- la taille : le nombre d'éléments du tenseur\n",
        "\n",
        "Ces informations peuvent être utiles lors des différentes étapes de notre calcul (par exemple, on peut vouloir s'assurer par exemple que les tenseurs de sortie sont de la même forme que les tenseurs en entrée).\n",
        "\n",
        "Nous avons déjà vu l'attribut `ndim` qui nous donne la dimension du tenseur.\n",
        "\n",
        "Nous allons maintenant voir l'attribut `shape` et la méthode `tf.size()`. Crééons un tenseur de dimension 4 :"
      ],
      "id": "d99b6d19-c13a-477c-bfd7-b257ea77cb5c"
    },
    {
      "cell_type": "code",
      "metadata": {
        "id": "d5898a76-4185-4b26-afa2-b14e140e657e",
        "outputId": "512edab3-9ee5-46f4-d4ef-2e1df55c8426"
      },
      "source": [
        "tenseur_4 = \n",
        "tenseur_4"
      ],
      "id": "d5898a76-4185-4b26-afa2-b14e140e657e",
      "execution_count": null,
      "outputs": [
        {
          "output_type": "execute_result",
          "data": {
            "text/plain": [
              "<tf.Tensor: shape=(2, 3, 4, 5), dtype=float32, numpy=\n",
              "array([[[[0., 0., 0., 0., 0.],\n",
              "         [0., 0., 0., 0., 0.],\n",
              "         [0., 0., 0., 0., 0.],\n",
              "         [0., 0., 0., 0., 0.]],\n",
              "\n",
              "        [[0., 0., 0., 0., 0.],\n",
              "         [0., 0., 0., 0., 0.],\n",
              "         [0., 0., 0., 0., 0.],\n",
              "         [0., 0., 0., 0., 0.]],\n",
              "\n",
              "        [[0., 0., 0., 0., 0.],\n",
              "         [0., 0., 0., 0., 0.],\n",
              "         [0., 0., 0., 0., 0.],\n",
              "         [0., 0., 0., 0., 0.]]],\n",
              "\n",
              "\n",
              "       [[[0., 0., 0., 0., 0.],\n",
              "         [0., 0., 0., 0., 0.],\n",
              "         [0., 0., 0., 0., 0.],\n",
              "         [0., 0., 0., 0., 0.]],\n",
              "\n",
              "        [[0., 0., 0., 0., 0.],\n",
              "         [0., 0., 0., 0., 0.],\n",
              "         [0., 0., 0., 0., 0.],\n",
              "         [0., 0., 0., 0., 0.]],\n",
              "\n",
              "        [[0., 0., 0., 0., 0.],\n",
              "         [0., 0., 0., 0., 0.],\n",
              "         [0., 0., 0., 0., 0.],\n",
              "         [0., 0., 0., 0., 0.]]]], dtype=float32)>"
            ]
          },
          "metadata": {
            "tags": []
          },
          "execution_count": 30
        }
      ]
    },
    {
      "cell_type": "code",
      "metadata": {
        "colab": {
          "base_uri": "https://localhost:8080/"
        },
        "id": "ivtqIAb9UVlI",
        "outputId": "eb7c561f-c219-4e33-d3b7-c3885162a175"
      },
      "source": [
        "tenseur_4 = tf.zeros((2, 3, 4, 5), \"float32\")\n",
        "tenseur_4"
      ],
      "id": "ivtqIAb9UVlI",
      "execution_count": null,
      "outputs": [
        {
          "output_type": "execute_result",
          "data": {
            "text/plain": [
              "<tf.Tensor: shape=(2, 3, 4, 5), dtype=float32, numpy=\n",
              "array([[[[0., 0., 0., 0., 0.],\n",
              "         [0., 0., 0., 0., 0.],\n",
              "         [0., 0., 0., 0., 0.],\n",
              "         [0., 0., 0., 0., 0.]],\n",
              "\n",
              "        [[0., 0., 0., 0., 0.],\n",
              "         [0., 0., 0., 0., 0.],\n",
              "         [0., 0., 0., 0., 0.],\n",
              "         [0., 0., 0., 0., 0.]],\n",
              "\n",
              "        [[0., 0., 0., 0., 0.],\n",
              "         [0., 0., 0., 0., 0.],\n",
              "         [0., 0., 0., 0., 0.],\n",
              "         [0., 0., 0., 0., 0.]]],\n",
              "\n",
              "\n",
              "       [[[0., 0., 0., 0., 0.],\n",
              "         [0., 0., 0., 0., 0.],\n",
              "         [0., 0., 0., 0., 0.],\n",
              "         [0., 0., 0., 0., 0.]],\n",
              "\n",
              "        [[0., 0., 0., 0., 0.],\n",
              "         [0., 0., 0., 0., 0.],\n",
              "         [0., 0., 0., 0., 0.],\n",
              "         [0., 0., 0., 0., 0.]],\n",
              "\n",
              "        [[0., 0., 0., 0., 0.],\n",
              "         [0., 0., 0., 0., 0.],\n",
              "         [0., 0., 0., 0., 0.],\n",
              "         [0., 0., 0., 0., 0.]]]], dtype=float32)>"
            ]
          },
          "metadata": {
            "tags": []
          },
          "execution_count": 59
        }
      ]
    },
    {
      "cell_type": "code",
      "metadata": {
        "id": "a0640132-0b1b-41ab-8063-f23a635a1595",
        "outputId": "c935242a-daad-470b-cc4a-7b4178e27685"
      },
      "source": [
        "tenseur_4., tenseur_4., tf."
      ],
      "id": "a0640132-0b1b-41ab-8063-f23a635a1595",
      "execution_count": null,
      "outputs": [
        {
          "output_type": "execute_result",
          "data": {
            "text/plain": [
              "(4, TensorShape([2, 3, 4, 5]), <tf.Tensor: shape=(), dtype=int32, numpy=120>)"
            ]
          },
          "metadata": {
            "tags": []
          },
          "execution_count": 31
        }
      ]
    },
    {
      "cell_type": "code",
      "metadata": {
        "colab": {
          "base_uri": "https://localhost:8080/"
        },
        "id": "z0tkYSV7Uh9g",
        "outputId": "a2523ec0-8ca9-428c-ffc7-6bb987ccf4e9"
      },
      "source": [
        "tenseur_4.ndim, tenseur_4.shape, tf.size(tenseur_4)"
      ],
      "id": "z0tkYSV7Uh9g",
      "execution_count": null,
      "outputs": [
        {
          "output_type": "execute_result",
          "data": {
            "text/plain": [
              "(4, TensorShape([2, 3, 4, 5]), <tf.Tensor: shape=(), dtype=int32, numpy=120>)"
            ]
          },
          "metadata": {
            "tags": []
          },
          "execution_count": 63
        }
      ]
    },
    {
      "cell_type": "markdown",
      "metadata": {
        "id": "151a5e82-3119-4260-9cce-d8a28fecf296"
      },
      "source": [
        "On peut en fait accéder à différents attributs du tenseur :"
      ],
      "id": "151a5e82-3119-4260-9cce-d8a28fecf296"
    },
    {
      "cell_type": "code",
      "metadata": {
        "id": "4e576401-684e-401a-9769-2adb274e7eca",
        "outputId": "2dd706a9-acbb-4cb3-dbe5-92f0ef9be9c4"
      },
      "source": [
        "print(\"Datatype de chaque élement :\", tenseur_4.)\n",
        "print(\"Nombre de dimensions (rang) :\", tenseur_4.)\n",
        "print(\"Forme du tenseur:\", tenseur_4.)\n",
        "print(\"Elements sur l'axe 0 du tenseur :\", tenseur_4.)\n",
        "print(\"Elements sur le dernier axe du tenseur :\", tenseur_4.)\n",
        "\n",
        "# .numpy() permet de convertir en NumPy arrays\n",
        "# on trouve bien (2*3*4*5) = 120\n",
        "print(\"Nombre total d'éléments :\", )"
      ],
      "id": "4e576401-684e-401a-9769-2adb274e7eca",
      "execution_count": null,
      "outputs": [
        {
          "output_type": "stream",
          "text": [
            "Datatype de chaque élement : <dtype: 'float32'>\n",
            "Nombre de dimensions (rang) : 4\n",
            "Forme du tenseur: (2, 3, 4, 5)\n",
            "Elements sur l'axe 0 du tenseur : 2\n",
            "Elements sur le dernier axe du tenseur : 5\n",
            "Nombre total d'éléments : 120\n"
          ],
          "name": "stdout"
        }
      ]
    },
    {
      "cell_type": "code",
      "metadata": {
        "colab": {
          "base_uri": "https://localhost:8080/"
        },
        "id": "Uhw8-RKnVDC-",
        "outputId": "1e07151e-20f1-42b0-9b44-abf4e564b451"
      },
      "source": [
        "print(\"Datatype de chaque élement :\", tenseur_4.dtype)\n",
        "print(\"Nombre de dimensions (rang) :\", tenseur_4.ndim)\n",
        "print(\"Forme du tenseur:\", tenseur_4.shape)\n",
        "print(\"Elements sur l'axe 0 du tenseur :\", tenseur_4.shape[0])\n",
        "print(\"Elements sur le dernier axe du tenseur :\", tenseur_4.shape[-1])\n",
        "\n",
        "# .numpy() permet de convertir en NumPy arrays\n",
        "# on trouve bien (2*3*4*5) = 120\n",
        "print(\"Nombre total d'éléments :\", tenseur_4.numpy().size)"
      ],
      "id": "Uhw8-RKnVDC-",
      "execution_count": null,
      "outputs": [
        {
          "output_type": "stream",
          "text": [
            "Datatype de chaque élement : <dtype: 'float32'>\n",
            "Nombre de dimensions (rang) : 4\n",
            "Forme du tenseur: (2, 3, 4, 5)\n",
            "Elements sur l'axe 0 du tenseur : 2\n",
            "Elements sur le dernier axe du tenseur : 5\n",
            "Nombre total d'éléments : 120\n"
          ],
          "name": "stdout"
        }
      ]
    },
    {
      "cell_type": "markdown",
      "metadata": {
        "id": "1bb9ba04-3bcf-4f41-b44b-71b6bc11cc74"
      },
      "source": [
        "On peut utiliser l'indexation comme sur les listes :"
      ],
      "id": "1bb9ba04-3bcf-4f41-b44b-71b6bc11cc74"
    },
    {
      "cell_type": "code",
      "metadata": {
        "id": "016358ec-fb72-4adc-8383-674551411895",
        "outputId": "4192b4bf-fed7-48ba-dd7a-945595799c9c"
      },
      "source": [
        "tenseur_4[:2, :2, :2, :2]"
      ],
      "id": "016358ec-fb72-4adc-8383-674551411895",
      "execution_count": null,
      "outputs": [
        {
          "output_type": "execute_result",
          "data": {
            "text/plain": [
              "<tf.Tensor: shape=(2, 2, 2, 2), dtype=float32, numpy=\n",
              "array([[[[0., 0.],\n",
              "         [0., 0.]],\n",
              "\n",
              "        [[0., 0.],\n",
              "         [0., 0.]]],\n",
              "\n",
              "\n",
              "       [[[0., 0.],\n",
              "         [0., 0.]],\n",
              "\n",
              "        [[0., 0.],\n",
              "         [0., 0.]]]], dtype=float32)>"
            ]
          },
          "metadata": {
            "tags": []
          },
          "execution_count": 33
        }
      ]
    },
    {
      "cell_type": "code",
      "metadata": {
        "colab": {
          "base_uri": "https://localhost:8080/"
        },
        "id": "n5RLLCStW12D",
        "outputId": "32c69254-0466-4ad4-f2ae-aa85fbce4e4c"
      },
      "source": [
        "tenseur_4[:2, :2, :2, :2]"
      ],
      "id": "n5RLLCStW12D",
      "execution_count": null,
      "outputs": [
        {
          "output_type": "execute_result",
          "data": {
            "text/plain": [
              "<tf.Tensor: shape=(2, 2, 2, 2), dtype=float32, numpy=\n",
              "array([[[[0., 0.],\n",
              "         [0., 0.]],\n",
              "\n",
              "        [[0., 0.],\n",
              "         [0., 0.]]],\n",
              "\n",
              "\n",
              "       [[[0., 0.],\n",
              "         [0., 0.]],\n",
              "\n",
              "        [[0., 0.],\n",
              "         [0., 0.]]]], dtype=float32)>"
            ]
          },
          "metadata": {
            "tags": []
          },
          "execution_count": 72
        }
      ]
    },
    {
      "cell_type": "code",
      "metadata": {
        "id": "93e62cd5-1613-40d3-ab60-f28c6c44b726",
        "outputId": "68955dd3-10f8-46ad-a97f-5c9b19e5bd3b"
      },
      "source": [
        "tenseur_4[:1, :1, :1, :]"
      ],
      "id": "93e62cd5-1613-40d3-ab60-f28c6c44b726",
      "execution_count": null,
      "outputs": [
        {
          "output_type": "execute_result",
          "data": {
            "text/plain": [
              "<tf.Tensor: shape=(1, 1, 1, 5), dtype=float32, numpy=array([[[[0., 0., 0., 0., 0.]]]], dtype=float32)>"
            ]
          },
          "metadata": {
            "tags": []
          },
          "execution_count": 34
        }
      ]
    },
    {
      "cell_type": "code",
      "metadata": {
        "colab": {
          "base_uri": "https://localhost:8080/"
        },
        "id": "fAm83slcW5Fb",
        "outputId": "8dc0683c-61a8-41c4-dbdd-2dde85f94667"
      },
      "source": [
        "tenseur_4[:1, :1, :1, :]"
      ],
      "id": "fAm83slcW5Fb",
      "execution_count": null,
      "outputs": [
        {
          "output_type": "execute_result",
          "data": {
            "text/plain": [
              "<tf.Tensor: shape=(1, 1, 1, 5), dtype=float32, numpy=array([[[[0., 0., 0., 0., 0.]]]], dtype=float32)>"
            ]
          },
          "metadata": {
            "tags": []
          },
          "execution_count": 73
        }
      ]
    },
    {
      "cell_type": "code",
      "metadata": {
        "colab": {
          "base_uri": "https://localhost:8080/"
        },
        "id": "cad8efce-e4a7-4ebf-b040-b894c84971f3",
        "outputId": "7592e2fa-632f-432e-e1bc-0e217bf55bfe"
      },
      "source": [
        "# récupérer le dernier élément par rapport au dernier axe\n",
        "tenseur_4[]"
      ],
      "id": "cad8efce-e4a7-4ebf-b040-b894c84971f3",
      "execution_count": null,
      "outputs": [
        {
          "output_type": "execute_result",
          "data": {
            "text/plain": [
              "<tf.Tensor: shape=(2, 4, 5), dtype=float32, numpy=\n",
              "array([[[0., 0., 0., 0., 0.],\n",
              "        [0., 0., 0., 0., 0.],\n",
              "        [0., 0., 0., 0., 0.],\n",
              "        [0., 0., 0., 0., 0.]],\n",
              "\n",
              "       [[0., 0., 0., 0., 0.],\n",
              "        [0., 0., 0., 0., 0.],\n",
              "        [0., 0., 0., 0., 0.],\n",
              "        [0., 0., 0., 0., 0.]]], dtype=float32)>"
            ]
          },
          "metadata": {
            "tags": []
          },
          "execution_count": 87
        }
      ]
    },
    {
      "cell_type": "code",
      "metadata": {
        "colab": {
          "base_uri": "https://localhost:8080/"
        },
        "id": "b3pN8QZjXzxC",
        "outputId": "8e6b2b0c-8fca-472b-ef68-482546e3cc8e"
      },
      "source": [
        "tenseur_4[:2,0,:4,:5]"
      ],
      "id": "b3pN8QZjXzxC",
      "execution_count": null,
      "outputs": [
        {
          "output_type": "execute_result",
          "data": {
            "text/plain": [
              "<tf.Tensor: shape=(2, 4, 5), dtype=float32, numpy=\n",
              "array([[[0., 0., 0., 0., 0.],\n",
              "        [0., 0., 0., 0., 0.],\n",
              "        [0., 0., 0., 0., 0.],\n",
              "        [0., 0., 0., 0., 0.]],\n",
              "\n",
              "       [[0., 0., 0., 0., 0.],\n",
              "        [0., 0., 0., 0., 0.],\n",
              "        [0., 0., 0., 0., 0.],\n",
              "        [0., 0., 0., 0., 0.]]], dtype=float32)>"
            ]
          },
          "metadata": {
            "tags": []
          },
          "execution_count": 86
        }
      ]
    },
    {
      "cell_type": "markdown",
      "metadata": {
        "id": "fc66a350-9560-4f5d-af36-9d3724828129"
      },
      "source": [
        "Nous pouvons également ajouter des dimensions à nos tenseurs, tout en gardant la même information en utilisant `tf.newaxis` :"
      ],
      "id": "fc66a350-9560-4f5d-af36-9d3724828129"
    },
    {
      "cell_type": "code",
      "metadata": {
        "id": "3bcbf780-9193-4d41-a333-2a4de1609fc7",
        "outputId": "fa0a5496-c286-4318-b520-3388e089f6c9"
      },
      "source": [
        "tenseur_2 = \n",
        "tenseur_2"
      ],
      "id": "3bcbf780-9193-4d41-a333-2a4de1609fc7",
      "execution_count": null,
      "outputs": [
        {
          "output_type": "execute_result",
          "data": {
            "text/plain": [
              "<tf.Tensor: shape=(2, 2), dtype=int32, numpy=\n",
              "array([[8, 5],\n",
              "       [2, 6]])>"
            ]
          },
          "metadata": {
            "tags": []
          },
          "execution_count": 36
        }
      ]
    },
    {
      "cell_type": "code",
      "metadata": {
        "colab": {
          "base_uri": "https://localhost:8080/"
        },
        "id": "cHAbt7R6ZHKB",
        "outputId": "4978f337-cd50-47fa-d08a-a90ccb5014f5"
      },
      "source": [
        "tenseur_2 = tf.constant([[8, 5],\n",
        "       [2, 6]])\n",
        "tenseur_2"
      ],
      "id": "cHAbt7R6ZHKB",
      "execution_count": null,
      "outputs": [
        {
          "output_type": "execute_result",
          "data": {
            "text/plain": [
              "<tf.Tensor: shape=(2, 2), dtype=int32, numpy=\n",
              "array([[8, 5],\n",
              "       [2, 6]], dtype=int32)>"
            ]
          },
          "metadata": {
            "tags": []
          },
          "execution_count": 89
        }
      ]
    },
    {
      "cell_type": "code",
      "metadata": {
        "id": "6ceb7a6d-091b-478f-93f3-76ad29a60a52",
        "outputId": "f9fbf52f-60f0-43ac-e82b-89d7e34025d9"
      },
      "source": [
        "tenseur_3 = tenseur_2[]\n",
        "tenseur_3"
      ],
      "id": "6ceb7a6d-091b-478f-93f3-76ad29a60a52",
      "execution_count": null,
      "outputs": [
        {
          "output_type": "execute_result",
          "data": {
            "text/plain": [
              "<tf.Tensor: shape=(2, 2, 1), dtype=int32, numpy=\n",
              "array([[[8],\n",
              "        [5]],\n",
              "\n",
              "       [[2],\n",
              "        [6]]])>"
            ]
          },
          "metadata": {
            "tags": []
          },
          "execution_count": 37
        }
      ]
    },
    {
      "cell_type": "code",
      "metadata": {
        "colab": {
          "base_uri": "https://localhost:8080/"
        },
        "id": "6cKJInYZZOwJ",
        "outputId": "896b2110-068e-4ddd-a5fb-a865dc728e70"
      },
      "source": [
        "tenseur_3 = tenseur_2[:, :, tf.newaxis]\n",
        "tenseur_3"
      ],
      "id": "6cKJInYZZOwJ",
      "execution_count": null,
      "outputs": [
        {
          "output_type": "execute_result",
          "data": {
            "text/plain": [
              "<tf.Tensor: shape=(2, 2, 1), dtype=int32, numpy=\n",
              "array([[[8],\n",
              "        [5]],\n",
              "\n",
              "       [[2],\n",
              "        [6]]], dtype=int32)>"
            ]
          },
          "metadata": {
            "tags": []
          },
          "execution_count": 96
        }
      ]
    },
    {
      "cell_type": "markdown",
      "metadata": {
        "id": "cb8f6e05-62f2-4b8e-ab6e-9e3a287d0f81"
      },
      "source": [
        "Vous pouvez également utiliser `tf.expand_dims()` pour le même résulat :"
      ],
      "id": "cb8f6e05-62f2-4b8e-ab6e-9e3a287d0f81"
    },
    {
      "cell_type": "code",
      "metadata": {
        "id": "30edd88c-efe6-4ea6-b083-8a24cb818b37",
        "outputId": "35e2c025-0130-48f0-cc2d-69df8691e046"
      },
      "source": [
        ""
      ],
      "id": "30edd88c-efe6-4ea6-b083-8a24cb818b37",
      "execution_count": null,
      "outputs": [
        {
          "output_type": "execute_result",
          "data": {
            "text/plain": [
              "<tf.Tensor: shape=(2, 2, 1), dtype=int32, numpy=\n",
              "array([[[8],\n",
              "        [5]],\n",
              "\n",
              "       [[2],\n",
              "        [6]]])>"
            ]
          },
          "metadata": {
            "tags": []
          },
          "execution_count": 38
        }
      ]
    },
    {
      "cell_type": "code",
      "metadata": {
        "colab": {
          "base_uri": "https://localhost:8080/"
        },
        "id": "DE3TZDC1a-VN",
        "outputId": "b0a5dc42-3559-497f-e1f2-58c401b4c0f2"
      },
      "source": [
        "tf.expand_dims(tenseur_2, axis=-1)"
      ],
      "id": "DE3TZDC1a-VN",
      "execution_count": null,
      "outputs": [
        {
          "output_type": "execute_result",
          "data": {
            "text/plain": [
              "<tf.Tensor: shape=(2, 2, 1), dtype=int32, numpy=\n",
              "array([[[8],\n",
              "        [5]],\n",
              "\n",
              "       [[2],\n",
              "        [6]]], dtype=int32)>"
            ]
          },
          "metadata": {
            "tags": []
          },
          "execution_count": 98
        }
      ]
    },
    {
      "cell_type": "markdown",
      "metadata": {
        "id": "eda1317d-d614-4cfc-86b6-cb5a1ca6d84e"
      },
      "source": [
        "`axis=-1` signifie le dernier axe."
      ],
      "id": "eda1317d-d614-4cfc-86b6-cb5a1ca6d84e"
    },
    {
      "cell_type": "markdown",
      "metadata": {
        "id": "7d5885cf-d2f9-42e8-bccc-3bb79905f75d"
      },
      "source": [
        "## 2. Opérations des tenseurs"
      ],
      "id": "7d5885cf-d2f9-42e8-bccc-3bb79905f75d"
    },
    {
      "cell_type": "markdown",
      "metadata": {
        "id": "57d6936d-c8ea-45a6-8b34-66519c8b49e1"
      },
      "source": [
        "### 2.1. Opérations de base\n",
        "\n",
        "Beaucoup des opérations mathématiques de base peuvent être réalisées directement sur les tenseurs en utilisant les opérateurs Python tel que `+`, `-`, `*` :"
      ],
      "id": "57d6936d-c8ea-45a6-8b34-66519c8b49e1"
    },
    {
      "cell_type": "code",
      "metadata": {
        "id": "d953eacb-c4af-445d-89f3-68fe200167b3",
        "colab": {
          "base_uri": "https://localhost:8080/",
          "height": 129
        },
        "outputId": "5462a69f-68d2-4f2b-ba0f-18f3f23505f7"
      },
      "source": [
        "tenseur = \n",
        "tenseur"
      ],
      "id": "d953eacb-c4af-445d-89f3-68fe200167b3",
      "execution_count": 4,
      "outputs": [
        {
          "output_type": "error",
          "ename": "SyntaxError",
          "evalue": "ignored",
          "traceback": [
            "\u001b[0;36m  File \u001b[0;32m\"<ipython-input-4-46f71f90a719>\"\u001b[0;36m, line \u001b[0;32m1\u001b[0m\n\u001b[0;31m    tenseur =\u001b[0m\n\u001b[0m              ^\u001b[0m\n\u001b[0;31mSyntaxError\u001b[0m\u001b[0;31m:\u001b[0m invalid syntax\n"
          ]
        }
      ]
    },
    {
      "cell_type": "code",
      "metadata": {
        "colab": {
          "base_uri": "https://localhost:8080/"
        },
        "id": "rOLon4AcbR5t",
        "outputId": "72d24687-bfe4-4afa-cc2f-f5f5d5bf4f73"
      },
      "source": [
        "tenseur = tf.constant([[8, 5],\n",
        "       [2, 6]])\n",
        "tenseur"
      ],
      "id": "rOLon4AcbR5t",
      "execution_count": 10,
      "outputs": [
        {
          "output_type": "execute_result",
          "data": {
            "text/plain": [
              "<tf.Tensor: shape=(2, 2), dtype=int32, numpy=\n",
              "array([[8, 5],\n",
              "       [2, 6]], dtype=int32)>"
            ]
          },
          "metadata": {
            "tags": []
          },
          "execution_count": 10
        }
      ]
    },
    {
      "cell_type": "code",
      "metadata": {
        "id": "472bf4f0-82f8-430d-9b90-7e1116d9902c",
        "outputId": "0f8c24dd-3927-40d3-ff96-7250176ae3c3"
      },
      "source": [
        "# ajouter 10\n"
      ],
      "id": "472bf4f0-82f8-430d-9b90-7e1116d9902c",
      "execution_count": null,
      "outputs": [
        {
          "output_type": "execute_result",
          "data": {
            "text/plain": [
              "<tf.Tensor: shape=(2, 2), dtype=int32, numpy=\n",
              "array([[18, 15],\n",
              "       [12, 16]])>"
            ]
          },
          "metadata": {
            "tags": []
          },
          "execution_count": 40
        }
      ]
    },
    {
      "cell_type": "code",
      "metadata": {
        "colab": {
          "base_uri": "https://localhost:8080/"
        },
        "id": "VFp80sS8bT5y",
        "outputId": "9adee14d-7aec-45cb-9130-08a2f9a1400d"
      },
      "source": [
        "tenseur = tenseur + 10\n",
        "tenseur"
      ],
      "id": "VFp80sS8bT5y",
      "execution_count": 11,
      "outputs": [
        {
          "output_type": "execute_result",
          "data": {
            "text/plain": [
              "<tf.Tensor: shape=(2, 2), dtype=int32, numpy=\n",
              "array([[18, 15],\n",
              "       [12, 16]], dtype=int32)>"
            ]
          },
          "metadata": {
            "tags": []
          },
          "execution_count": 11
        }
      ]
    },
    {
      "cell_type": "markdown",
      "metadata": {
        "id": "f37de5d4-99e4-48e8-9220-5379339bc119"
      },
      "source": [
        "Puisque nous avons utilisé `tf.constant()`, le tenseur d'origine reste inchangé (l'addition est faite sur une copie du tenseur) :"
      ],
      "id": "f37de5d4-99e4-48e8-9220-5379339bc119"
    },
    {
      "cell_type": "code",
      "metadata": {
        "id": "5ba1c6d2-d2ce-4aa3-b3ce-952d67fd86d4",
        "outputId": "313e1bc2-7c3c-48b0-c97e-72fbe58827f5"
      },
      "source": [
        "tenseur ="
      ],
      "id": "5ba1c6d2-d2ce-4aa3-b3ce-952d67fd86d4",
      "execution_count": null,
      "outputs": [
        {
          "output_type": "execute_result",
          "data": {
            "text/plain": [
              "<tf.Tensor: shape=(2, 2), dtype=int32, numpy=\n",
              "array([[8, 5],\n",
              "       [2, 6]])>"
            ]
          },
          "metadata": {
            "tags": []
          },
          "execution_count": 41
        }
      ]
    },
    {
      "cell_type": "code",
      "metadata": {
        "colab": {
          "base_uri": "https://localhost:8080/"
        },
        "id": "PAC3xb2pbx3K",
        "outputId": "abe29c81-f0a2-4037-d2a6-2deca703eace"
      },
      "source": [
        "tenseur = tf.constant([[8, 5],\n",
        "       [2, 6]])\n",
        "tenseur"
      ],
      "id": "PAC3xb2pbx3K",
      "execution_count": 20,
      "outputs": [
        {
          "output_type": "execute_result",
          "data": {
            "text/plain": [
              "<tf.Tensor: shape=(2, 2), dtype=int32, numpy=\n",
              "array([[8, 5],\n",
              "       [2, 6]], dtype=int32)>"
            ]
          },
          "metadata": {
            "tags": []
          },
          "execution_count": 20
        }
      ]
    },
    {
      "cell_type": "markdown",
      "metadata": {
        "id": "1fb34475-a7fd-48de-b4d0-3280bbdf6ff5"
      },
      "source": [
        "Les opérations avec `-` et `*` fonctionnent de la même manière :"
      ],
      "id": "1fb34475-a7fd-48de-b4d0-3280bbdf6ff5"
    },
    {
      "cell_type": "code",
      "metadata": {
        "id": "65e4299b-a063-43bb-b594-64863397522b"
      },
      "source": [
        ""
      ],
      "id": "65e4299b-a063-43bb-b594-64863397522b",
      "execution_count": null,
      "outputs": []
    },
    {
      "cell_type": "code",
      "metadata": {
        "colab": {
          "base_uri": "https://localhost:8080/"
        },
        "id": "jzyUtUeGb1ph",
        "outputId": "a21dcaab-2b0f-4e8a-8a97-5a43c4b9e575"
      },
      "source": [
        "tenseur -= 10\n",
        "tenseur"
      ],
      "id": "jzyUtUeGb1ph",
      "execution_count": 13,
      "outputs": [
        {
          "output_type": "execute_result",
          "data": {
            "text/plain": [
              "<tf.Tensor: shape=(2, 2), dtype=int32, numpy=\n",
              "array([[-2, -5],\n",
              "       [-8, -4]], dtype=int32)>"
            ]
          },
          "metadata": {
            "tags": []
          },
          "execution_count": 13
        }
      ]
    },
    {
      "cell_type": "code",
      "metadata": {
        "id": "beeac601-3f6d-4f61-ab01-ef72b30bb009",
        "outputId": "a50d0a78-dfff-40be-c88d-c8234607cc17"
      },
      "source": [
        ""
      ],
      "id": "beeac601-3f6d-4f61-ab01-ef72b30bb009",
      "execution_count": null,
      "outputs": [
        {
          "output_type": "execute_result",
          "data": {
            "text/plain": [
              "<tf.Tensor: shape=(2, 2), dtype=int32, numpy=\n",
              "array([[80, 50],\n",
              "       [20, 60]])>"
            ]
          },
          "metadata": {
            "tags": []
          },
          "execution_count": 43
        }
      ]
    },
    {
      "cell_type": "code",
      "metadata": {
        "colab": {
          "base_uri": "https://localhost:8080/"
        },
        "id": "4eIlCDHub2Qv",
        "outputId": "118689e3-b39b-4236-e3a9-c7792e0d560a"
      },
      "source": [
        "tenseur *= -10\n",
        "tenseur"
      ],
      "id": "4eIlCDHub2Qv",
      "execution_count": 14,
      "outputs": [
        {
          "output_type": "execute_result",
          "data": {
            "text/plain": [
              "<tf.Tensor: shape=(2, 2), dtype=int32, numpy=\n",
              "array([[20, 50],\n",
              "       [80, 40]], dtype=int32)>"
            ]
          },
          "metadata": {
            "tags": []
          },
          "execution_count": 14
        }
      ]
    },
    {
      "cell_type": "markdown",
      "metadata": {
        "id": "ed082b4f-35c1-4550-bb03-1a72b3cd1733"
      },
      "source": [
        "Vous pouvez également utiliser les fonctions TensorFlow équivalentes (quand elles sont disponibles), par exemple la fonction TensorFlow `multiply()` :"
      ],
      "id": "ed082b4f-35c1-4550-bb03-1a72b3cd1733"
    },
    {
      "cell_type": "code",
      "metadata": {
        "colab": {
          "base_uri": "https://localhost:8080/"
        },
        "id": "d85be346-d63c-48f4-9274-dd8d520c47ad",
        "outputId": "f1f58907-6eee-45df-f3a0-9ce7da23048c"
      },
      "source": [
        "tf.multiply(tenseur, 10)"
      ],
      "id": "d85be346-d63c-48f4-9274-dd8d520c47ad",
      "execution_count": 15,
      "outputs": [
        {
          "output_type": "execute_result",
          "data": {
            "text/plain": [
              "<tf.Tensor: shape=(2, 2), dtype=int32, numpy=\n",
              "array([[200, 500],\n",
              "       [800, 400]], dtype=int32)>"
            ]
          },
          "metadata": {
            "tags": []
          },
          "execution_count": 15
        }
      ]
    },
    {
      "cell_type": "markdown",
      "metadata": {
        "id": "3c5bed7d-1c84-4329-9a35-6a3573609c85"
      },
      "source": [
        "Le tenseur d'origine reste aussi inchangé :"
      ],
      "id": "3c5bed7d-1c84-4329-9a35-6a3573609c85"
    },
    {
      "cell_type": "code",
      "metadata": {
        "colab": {
          "base_uri": "https://localhost:8080/"
        },
        "id": "c12ab387-056e-4476-8f5b-b2ffe9e312ff",
        "outputId": "17fef4cf-d6cc-4213-a36c-d18fbf0c2bc7"
      },
      "source": [
        "tenseur"
      ],
      "id": "c12ab387-056e-4476-8f5b-b2ffe9e312ff",
      "execution_count": 18,
      "outputs": [
        {
          "output_type": "execute_result",
          "data": {
            "text/plain": [
              "<tf.Tensor: shape=(2, 2), dtype=int32, numpy=\n",
              "array([[20, 50],\n",
              "       [80, 40]], dtype=int32)>"
            ]
          },
          "metadata": {
            "tags": []
          },
          "execution_count": 18
        }
      ]
    },
    {
      "cell_type": "markdown",
      "metadata": {
        "id": "1a7bf788-ba0d-4796-a2f1-1fe710d80b88"
      },
      "source": [
        "### 2.2. Produit matriciel\n",
        "\n",
        "Une des opérations les plus courantes en machine learning est la multiplication de matrices.\n",
        "\n",
        "TensorFlow intègre la multiplication matricielle dans la méthode `tf.matmul()`."
      ],
      "id": "1a7bf788-ba0d-4796-a2f1-1fe710d80b88"
    },
    {
      "cell_type": "markdown",
      "metadata": {
        "id": "4a64061a-a6f3-42ba-9d64-54b80fed213e"
      },
      "source": [
        "Reprenons notre tenseur `tenseur` et appliquons le produit matriciel de ce tenseur par lui même avec la méthode `tf.matmul()` :"
      ],
      "id": "4a64061a-a6f3-42ba-9d64-54b80fed213e"
    },
    {
      "cell_type": "code",
      "metadata": {
        "id": "f560d407-9f02-4b4d-9031-56309049093a",
        "outputId": "e88228a6-e1f0-40bb-d0e8-631c0e596701"
      },
      "source": [
        ""
      ],
      "id": "f560d407-9f02-4b4d-9031-56309049093a",
      "execution_count": null,
      "outputs": [
        {
          "output_type": "execute_result",
          "data": {
            "text/plain": [
              "<tf.Tensor: shape=(2, 2), dtype=int32, numpy=\n",
              "array([[74, 70],\n",
              "       [28, 46]])>"
            ]
          },
          "metadata": {
            "tags": []
          },
          "execution_count": 46
        }
      ]
    },
    {
      "cell_type": "code",
      "metadata": {
        "colab": {
          "base_uri": "https://localhost:8080/"
        },
        "id": "cPzCR0lvd95-",
        "outputId": "3adfd646-67ff-419b-b81f-77f951788607"
      },
      "source": [
        "tf.matmul(tenseur,tenseur)"
      ],
      "id": "cPzCR0lvd95-",
      "execution_count": 21,
      "outputs": [
        {
          "output_type": "execute_result",
          "data": {
            "text/plain": [
              "<tf.Tensor: shape=(2, 2), dtype=int32, numpy=\n",
              "array([[74, 70],\n",
              "       [28, 46]], dtype=int32)>"
            ]
          },
          "metadata": {
            "tags": []
          },
          "execution_count": 21
        }
      ]
    },
    {
      "cell_type": "markdown",
      "metadata": {
        "id": "56d6fc1c-6afe-4d1b-a94c-a75f0e39da85"
      },
      "source": [
        "On obtient le même résultat avec l'opérateur Python `@` :"
      ],
      "id": "56d6fc1c-6afe-4d1b-a94c-a75f0e39da85"
    },
    {
      "cell_type": "code",
      "metadata": {
        "id": "84dd0638-d6c1-4105-b11c-9119c70c00a9",
        "outputId": "79db312d-27bc-41e0-b06d-b03e280a3b3e"
      },
      "source": [
        ""
      ],
      "id": "84dd0638-d6c1-4105-b11c-9119c70c00a9",
      "execution_count": null,
      "outputs": [
        {
          "output_type": "execute_result",
          "data": {
            "text/plain": [
              "<tf.Tensor: shape=(2, 2), dtype=int32, numpy=\n",
              "array([[74, 70],\n",
              "       [28, 46]])>"
            ]
          },
          "metadata": {
            "tags": []
          },
          "execution_count": 47
        }
      ]
    },
    {
      "cell_type": "code",
      "metadata": {
        "colab": {
          "base_uri": "https://localhost:8080/"
        },
        "id": "yjvRLaw-eI-V",
        "outputId": "1fe8fb6d-8133-4f44-8049-1f32f60c2701"
      },
      "source": [
        "tenseur @ tenseur"
      ],
      "id": "yjvRLaw-eI-V",
      "execution_count": 22,
      "outputs": [
        {
          "output_type": "execute_result",
          "data": {
            "text/plain": [
              "<tf.Tensor: shape=(2, 2), dtype=int32, numpy=\n",
              "array([[74, 70],\n",
              "       [28, 46]], dtype=int32)>"
            ]
          },
          "metadata": {
            "tags": []
          },
          "execution_count": 22
        }
      ]
    },
    {
      "cell_type": "markdown",
      "metadata": {
        "id": "6bdf63dc-7714-48e0-acfa-3873dc8db71d"
      },
      "source": [
        "Cet exemple fonctionne car nous avons une matrice carrée.\n",
        "\n",
        "Faisons par example le test avec deux tenseurs dont les dimensions ne sont pas compatibles pour un produit matriciel :"
      ],
      "id": "6bdf63dc-7714-48e0-acfa-3873dc8db71d"
    },
    {
      "cell_type": "code",
      "metadata": {
        "id": "ab3eda5d-d550-41e1-8d07-1b56b2b4a742",
        "outputId": "6308acc7-a437-4277-8d2d-78ea39d87cbc"
      },
      "source": [
        "X = \n",
        "Y = \n",
        "X, Y"
      ],
      "id": "ab3eda5d-d550-41e1-8d07-1b56b2b4a742",
      "execution_count": null,
      "outputs": [
        {
          "output_type": "execute_result",
          "data": {
            "text/plain": [
              "(<tf.Tensor: shape=(3, 2), dtype=int32, numpy=\n",
              " array([[1, 2],\n",
              "        [3, 4],\n",
              "        [5, 6]])>,\n",
              " <tf.Tensor: shape=(3, 2), dtype=int32, numpy=\n",
              " array([[ 7,  8],\n",
              "        [ 9, 10],\n",
              "        [11, 12]])>)"
            ]
          },
          "metadata": {
            "tags": []
          },
          "execution_count": 48
        }
      ]
    },
    {
      "cell_type": "code",
      "metadata": {
        "colab": {
          "base_uri": "https://localhost:8080/"
        },
        "id": "6OdB7qN2eXf7",
        "outputId": "7f8d5efc-db5e-43a8-cb35-5b9d8c4c0de6"
      },
      "source": [
        "X = tf.constant([[1, 2],\n",
        "        [3, 4],\n",
        "        [5, 6]])\n",
        "Y = tf.constant([[ 7,  8],\n",
        "        [ 9, 10],\n",
        "        [11, 12]])\n",
        "X, Y"
      ],
      "id": "6OdB7qN2eXf7",
      "execution_count": 23,
      "outputs": [
        {
          "output_type": "execute_result",
          "data": {
            "text/plain": [
              "(<tf.Tensor: shape=(3, 2), dtype=int32, numpy=\n",
              " array([[1, 2],\n",
              "        [3, 4],\n",
              "        [5, 6]], dtype=int32)>, <tf.Tensor: shape=(3, 2), dtype=int32, numpy=\n",
              " array([[ 7,  8],\n",
              "        [ 9, 10],\n",
              "        [11, 12]], dtype=int32)>)"
            ]
          },
          "metadata": {
            "tags": []
          },
          "execution_count": 23
        }
      ]
    },
    {
      "cell_type": "code",
      "metadata": {
        "id": "08774c56-1b60-4c35-b70c-04312bb200df",
        "outputId": "d55496b0-b1be-464c-9d35-4f4b265d2e52"
      },
      "source": [
        ""
      ],
      "id": "08774c56-1b60-4c35-b70c-04312bb200df",
      "execution_count": null,
      "outputs": [
        {
          "output_type": "error",
          "ename": "InvalidArgumentError",
          "evalue": "Matrix size-incompatible: In[0]: [3,2], In[1]: [3,2] [Op:MatMul]",
          "traceback": [
            "\u001b[1;31m---------------------------------------------------------------------------\u001b[0m",
            "\u001b[1;31mInvalidArgumentError\u001b[0m                      Traceback (most recent call last)",
            "\u001b[1;32m<ipython-input-49-7db1014e61e3>\u001b[0m in \u001b[0;36m<module>\u001b[1;34m\u001b[0m\n\u001b[1;32m----> 1\u001b[1;33m \u001b[0mX\u001b[0m \u001b[1;33m@\u001b[0m \u001b[0mY\u001b[0m\u001b[1;33m\u001b[0m\u001b[1;33m\u001b[0m\u001b[0m\n\u001b[0m",
            "\u001b[1;32mC:\\ProgramData\\Anaconda3\\envs\\myenv\\lib\\site-packages\\tensorflow\\python\\ops\\math_ops.py\u001b[0m in \u001b[0;36mbinary_op_wrapper\u001b[1;34m(x, y)\u001b[0m\n\u001b[0;32m   1123\u001b[0m     \u001b[1;32mwith\u001b[0m \u001b[0mops\u001b[0m\u001b[1;33m.\u001b[0m\u001b[0mname_scope\u001b[0m\u001b[1;33m(\u001b[0m\u001b[1;32mNone\u001b[0m\u001b[1;33m,\u001b[0m \u001b[0mop_name\u001b[0m\u001b[1;33m,\u001b[0m \u001b[1;33m[\u001b[0m\u001b[0mx\u001b[0m\u001b[1;33m,\u001b[0m \u001b[0my\u001b[0m\u001b[1;33m]\u001b[0m\u001b[1;33m)\u001b[0m \u001b[1;32mas\u001b[0m \u001b[0mname\u001b[0m\u001b[1;33m:\u001b[0m\u001b[1;33m\u001b[0m\u001b[1;33m\u001b[0m\u001b[0m\n\u001b[0;32m   1124\u001b[0m       \u001b[1;32mtry\u001b[0m\u001b[1;33m:\u001b[0m\u001b[1;33m\u001b[0m\u001b[1;33m\u001b[0m\u001b[0m\n\u001b[1;32m-> 1125\u001b[1;33m         \u001b[1;32mreturn\u001b[0m \u001b[0mfunc\u001b[0m\u001b[1;33m(\u001b[0m\u001b[0mx\u001b[0m\u001b[1;33m,\u001b[0m \u001b[0my\u001b[0m\u001b[1;33m,\u001b[0m \u001b[0mname\u001b[0m\u001b[1;33m=\u001b[0m\u001b[0mname\u001b[0m\u001b[1;33m)\u001b[0m\u001b[1;33m\u001b[0m\u001b[1;33m\u001b[0m\u001b[0m\n\u001b[0m\u001b[0;32m   1126\u001b[0m       \u001b[1;32mexcept\u001b[0m \u001b[1;33m(\u001b[0m\u001b[0mTypeError\u001b[0m\u001b[1;33m,\u001b[0m \u001b[0mValueError\u001b[0m\u001b[1;33m)\u001b[0m \u001b[1;32mas\u001b[0m \u001b[0me\u001b[0m\u001b[1;33m:\u001b[0m\u001b[1;33m\u001b[0m\u001b[1;33m\u001b[0m\u001b[0m\n\u001b[0;32m   1127\u001b[0m         \u001b[1;31m# Even if dispatching the op failed, the RHS may be a tensor aware\u001b[0m\u001b[1;33m\u001b[0m\u001b[1;33m\u001b[0m\u001b[1;33m\u001b[0m\u001b[0m\n",
            "\u001b[1;32mC:\\ProgramData\\Anaconda3\\envs\\myenv\\lib\\site-packages\\tensorflow\\python\\util\\dispatch.py\u001b[0m in \u001b[0;36mwrapper\u001b[1;34m(*args, **kwargs)\u001b[0m\n\u001b[0;32m    199\u001b[0m     \u001b[1;34m\"\"\"Call target, and fall back on dispatchers if there is a TypeError.\"\"\"\u001b[0m\u001b[1;33m\u001b[0m\u001b[1;33m\u001b[0m\u001b[0m\n\u001b[0;32m    200\u001b[0m     \u001b[1;32mtry\u001b[0m\u001b[1;33m:\u001b[0m\u001b[1;33m\u001b[0m\u001b[1;33m\u001b[0m\u001b[0m\n\u001b[1;32m--> 201\u001b[1;33m       \u001b[1;32mreturn\u001b[0m \u001b[0mtarget\u001b[0m\u001b[1;33m(\u001b[0m\u001b[1;33m*\u001b[0m\u001b[0margs\u001b[0m\u001b[1;33m,\u001b[0m \u001b[1;33m**\u001b[0m\u001b[0mkwargs\u001b[0m\u001b[1;33m)\u001b[0m\u001b[1;33m\u001b[0m\u001b[1;33m\u001b[0m\u001b[0m\n\u001b[0m\u001b[0;32m    202\u001b[0m     \u001b[1;32mexcept\u001b[0m \u001b[1;33m(\u001b[0m\u001b[0mTypeError\u001b[0m\u001b[1;33m,\u001b[0m \u001b[0mValueError\u001b[0m\u001b[1;33m)\u001b[0m\u001b[1;33m:\u001b[0m\u001b[1;33m\u001b[0m\u001b[1;33m\u001b[0m\u001b[0m\n\u001b[0;32m    203\u001b[0m       \u001b[1;31m# Note: convert_to_eager_tensor currently raises a ValueError, not a\u001b[0m\u001b[1;33m\u001b[0m\u001b[1;33m\u001b[0m\u001b[1;33m\u001b[0m\u001b[0m\n",
            "\u001b[1;32mC:\\ProgramData\\Anaconda3\\envs\\myenv\\lib\\site-packages\\tensorflow\\python\\ops\\math_ops.py\u001b[0m in \u001b[0;36mmatmul\u001b[1;34m(a, b, transpose_a, transpose_b, adjoint_a, adjoint_b, a_is_sparse, b_is_sparse, name)\u001b[0m\n\u001b[0;32m   3253\u001b[0m     \u001b[1;32melse\u001b[0m\u001b[1;33m:\u001b[0m\u001b[1;33m\u001b[0m\u001b[1;33m\u001b[0m\u001b[0m\n\u001b[0;32m   3254\u001b[0m       return gen_math_ops.mat_mul(\n\u001b[1;32m-> 3255\u001b[1;33m           a, b, transpose_a=transpose_a, transpose_b=transpose_b, name=name)\n\u001b[0m\u001b[0;32m   3256\u001b[0m \u001b[1;33m\u001b[0m\u001b[0m\n\u001b[0;32m   3257\u001b[0m \u001b[1;33m\u001b[0m\u001b[0m\n",
            "\u001b[1;32mC:\\ProgramData\\Anaconda3\\envs\\myenv\\lib\\site-packages\\tensorflow\\python\\ops\\gen_math_ops.py\u001b[0m in \u001b[0;36mmat_mul\u001b[1;34m(a, b, transpose_a, transpose_b, name)\u001b[0m\n\u001b[0;32m   5621\u001b[0m       \u001b[1;32mreturn\u001b[0m \u001b[0m_result\u001b[0m\u001b[1;33m\u001b[0m\u001b[1;33m\u001b[0m\u001b[0m\n\u001b[0;32m   5622\u001b[0m     \u001b[1;32mexcept\u001b[0m \u001b[0m_core\u001b[0m\u001b[1;33m.\u001b[0m\u001b[0m_NotOkStatusException\u001b[0m \u001b[1;32mas\u001b[0m \u001b[0me\u001b[0m\u001b[1;33m:\u001b[0m\u001b[1;33m\u001b[0m\u001b[1;33m\u001b[0m\u001b[0m\n\u001b[1;32m-> 5623\u001b[1;33m       \u001b[0m_ops\u001b[0m\u001b[1;33m.\u001b[0m\u001b[0mraise_from_not_ok_status\u001b[0m\u001b[1;33m(\u001b[0m\u001b[0me\u001b[0m\u001b[1;33m,\u001b[0m \u001b[0mname\u001b[0m\u001b[1;33m)\u001b[0m\u001b[1;33m\u001b[0m\u001b[1;33m\u001b[0m\u001b[0m\n\u001b[0m\u001b[0;32m   5624\u001b[0m     \u001b[1;32mexcept\u001b[0m \u001b[0m_core\u001b[0m\u001b[1;33m.\u001b[0m\u001b[0m_FallbackException\u001b[0m\u001b[1;33m:\u001b[0m\u001b[1;33m\u001b[0m\u001b[1;33m\u001b[0m\u001b[0m\n\u001b[0;32m   5625\u001b[0m       \u001b[1;32mpass\u001b[0m\u001b[1;33m\u001b[0m\u001b[1;33m\u001b[0m\u001b[0m\n",
            "\u001b[1;32mC:\\ProgramData\\Anaconda3\\envs\\myenv\\lib\\site-packages\\tensorflow\\python\\framework\\ops.py\u001b[0m in \u001b[0;36mraise_from_not_ok_status\u001b[1;34m(e, name)\u001b[0m\n\u001b[0;32m   6841\u001b[0m   \u001b[0mmessage\u001b[0m \u001b[1;33m=\u001b[0m \u001b[0me\u001b[0m\u001b[1;33m.\u001b[0m\u001b[0mmessage\u001b[0m \u001b[1;33m+\u001b[0m \u001b[1;33m(\u001b[0m\u001b[1;34m\" name: \"\u001b[0m \u001b[1;33m+\u001b[0m \u001b[0mname\u001b[0m \u001b[1;32mif\u001b[0m \u001b[0mname\u001b[0m \u001b[1;32mis\u001b[0m \u001b[1;32mnot\u001b[0m \u001b[1;32mNone\u001b[0m \u001b[1;32melse\u001b[0m \u001b[1;34m\"\"\u001b[0m\u001b[1;33m)\u001b[0m\u001b[1;33m\u001b[0m\u001b[1;33m\u001b[0m\u001b[0m\n\u001b[0;32m   6842\u001b[0m   \u001b[1;31m# pylint: disable=protected-access\u001b[0m\u001b[1;33m\u001b[0m\u001b[1;33m\u001b[0m\u001b[1;33m\u001b[0m\u001b[0m\n\u001b[1;32m-> 6843\u001b[1;33m   \u001b[0msix\u001b[0m\u001b[1;33m.\u001b[0m\u001b[0mraise_from\u001b[0m\u001b[1;33m(\u001b[0m\u001b[0mcore\u001b[0m\u001b[1;33m.\u001b[0m\u001b[0m_status_to_exception\u001b[0m\u001b[1;33m(\u001b[0m\u001b[0me\u001b[0m\u001b[1;33m.\u001b[0m\u001b[0mcode\u001b[0m\u001b[1;33m,\u001b[0m \u001b[0mmessage\u001b[0m\u001b[1;33m)\u001b[0m\u001b[1;33m,\u001b[0m \u001b[1;32mNone\u001b[0m\u001b[1;33m)\u001b[0m\u001b[1;33m\u001b[0m\u001b[1;33m\u001b[0m\u001b[0m\n\u001b[0m\u001b[0;32m   6844\u001b[0m   \u001b[1;31m# pylint: enable=protected-access\u001b[0m\u001b[1;33m\u001b[0m\u001b[1;33m\u001b[0m\u001b[1;33m\u001b[0m\u001b[0m\n\u001b[0;32m   6845\u001b[0m \u001b[1;33m\u001b[0m\u001b[0m\n",
            "\u001b[1;32mC:\\ProgramData\\Anaconda3\\envs\\myenv\\lib\\site-packages\\six.py\u001b[0m in \u001b[0;36mraise_from\u001b[1;34m(value, from_value)\u001b[0m\n",
            "\u001b[1;31mInvalidArgumentError\u001b[0m: Matrix size-incompatible: In[0]: [3,2], In[1]: [3,2] [Op:MatMul]"
          ]
        }
      ]
    },
    {
      "cell_type": "code",
      "metadata": {
        "colab": {
          "base_uri": "https://localhost:8080/",
          "height": 221
        },
        "id": "YR5WdNK0ekCQ",
        "outputId": "0a62639c-5fb6-42c0-b4d3-fc30a16e6581"
      },
      "source": [
        "tf.matmul(X, Y)"
      ],
      "id": "YR5WdNK0ekCQ",
      "execution_count": null,
      "outputs": [
        {
          "output_type": "error",
          "ename": "InvalidArgumentError",
          "evalue": "ignored",
          "traceback": [
            "\u001b[0;31m---------------------------------------------------------------------------\u001b[0m",
            "\u001b[0;31mInvalidArgumentError\u001b[0m                      Traceback (most recent call last)",
            "\u001b[0;32m<ipython-input-127-b58f5d491930>\u001b[0m in \u001b[0;36m<module>\u001b[0;34m()\u001b[0m\n\u001b[0;32m----> 1\u001b[0;31m \u001b[0mtf\u001b[0m\u001b[0;34m.\u001b[0m\u001b[0mmatmul\u001b[0m\u001b[0;34m(\u001b[0m\u001b[0mX\u001b[0m\u001b[0;34m,\u001b[0m \u001b[0mY\u001b[0m\u001b[0;34m)\u001b[0m\u001b[0;34m\u001b[0m\u001b[0;34m\u001b[0m\u001b[0m\n\u001b[0m",
            "\u001b[0;32m/usr/local/lib/python3.7/dist-packages/tensorflow/python/util/dispatch.py\u001b[0m in \u001b[0;36mwrapper\u001b[0;34m(*args, **kwargs)\u001b[0m\n\u001b[1;32m    204\u001b[0m     \u001b[0;34m\"\"\"Call target, and fall back on dispatchers if there is a TypeError.\"\"\"\u001b[0m\u001b[0;34m\u001b[0m\u001b[0;34m\u001b[0m\u001b[0m\n\u001b[1;32m    205\u001b[0m     \u001b[0;32mtry\u001b[0m\u001b[0;34m:\u001b[0m\u001b[0;34m\u001b[0m\u001b[0;34m\u001b[0m\u001b[0m\n\u001b[0;32m--> 206\u001b[0;31m       \u001b[0;32mreturn\u001b[0m \u001b[0mtarget\u001b[0m\u001b[0;34m(\u001b[0m\u001b[0;34m*\u001b[0m\u001b[0margs\u001b[0m\u001b[0;34m,\u001b[0m \u001b[0;34m**\u001b[0m\u001b[0mkwargs\u001b[0m\u001b[0;34m)\u001b[0m\u001b[0;34m\u001b[0m\u001b[0;34m\u001b[0m\u001b[0m\n\u001b[0m\u001b[1;32m    207\u001b[0m     \u001b[0;32mexcept\u001b[0m \u001b[0;34m(\u001b[0m\u001b[0mTypeError\u001b[0m\u001b[0;34m,\u001b[0m \u001b[0mValueError\u001b[0m\u001b[0;34m)\u001b[0m\u001b[0;34m:\u001b[0m\u001b[0;34m\u001b[0m\u001b[0;34m\u001b[0m\u001b[0m\n\u001b[1;32m    208\u001b[0m       \u001b[0;31m# Note: convert_to_eager_tensor currently raises a ValueError, not a\u001b[0m\u001b[0;34m\u001b[0m\u001b[0;34m\u001b[0m\u001b[0;34m\u001b[0m\u001b[0m\n",
            "\u001b[0;32m/usr/local/lib/python3.7/dist-packages/tensorflow/python/ops/math_ops.py\u001b[0m in \u001b[0;36mmatmul\u001b[0;34m(a, b, transpose_a, transpose_b, adjoint_a, adjoint_b, a_is_sparse, b_is_sparse, name)\u001b[0m\n\u001b[1;32m   3488\u001b[0m     \u001b[0;32melse\u001b[0m\u001b[0;34m:\u001b[0m\u001b[0;34m\u001b[0m\u001b[0;34m\u001b[0m\u001b[0m\n\u001b[1;32m   3489\u001b[0m       return gen_math_ops.mat_mul(\n\u001b[0;32m-> 3490\u001b[0;31m           a, b, transpose_a=transpose_a, transpose_b=transpose_b, name=name)\n\u001b[0m\u001b[1;32m   3491\u001b[0m \u001b[0;34m\u001b[0m\u001b[0m\n\u001b[1;32m   3492\u001b[0m \u001b[0;34m\u001b[0m\u001b[0m\n",
            "\u001b[0;32m/usr/local/lib/python3.7/dist-packages/tensorflow/python/ops/gen_math_ops.py\u001b[0m in \u001b[0;36mmat_mul\u001b[0;34m(a, b, transpose_a, transpose_b, name)\u001b[0m\n\u001b[1;32m   5698\u001b[0m       \u001b[0;32mreturn\u001b[0m \u001b[0m_result\u001b[0m\u001b[0;34m\u001b[0m\u001b[0;34m\u001b[0m\u001b[0m\n\u001b[1;32m   5699\u001b[0m     \u001b[0;32mexcept\u001b[0m \u001b[0m_core\u001b[0m\u001b[0;34m.\u001b[0m\u001b[0m_NotOkStatusException\u001b[0m \u001b[0;32mas\u001b[0m \u001b[0me\u001b[0m\u001b[0;34m:\u001b[0m\u001b[0;34m\u001b[0m\u001b[0;34m\u001b[0m\u001b[0m\n\u001b[0;32m-> 5700\u001b[0;31m       \u001b[0m_ops\u001b[0m\u001b[0;34m.\u001b[0m\u001b[0mraise_from_not_ok_status\u001b[0m\u001b[0;34m(\u001b[0m\u001b[0me\u001b[0m\u001b[0;34m,\u001b[0m \u001b[0mname\u001b[0m\u001b[0;34m)\u001b[0m\u001b[0;34m\u001b[0m\u001b[0;34m\u001b[0m\u001b[0m\n\u001b[0m\u001b[1;32m   5701\u001b[0m     \u001b[0;32mexcept\u001b[0m \u001b[0m_core\u001b[0m\u001b[0;34m.\u001b[0m\u001b[0m_FallbackException\u001b[0m\u001b[0;34m:\u001b[0m\u001b[0;34m\u001b[0m\u001b[0;34m\u001b[0m\u001b[0m\n\u001b[1;32m   5702\u001b[0m       \u001b[0;32mpass\u001b[0m\u001b[0;34m\u001b[0m\u001b[0;34m\u001b[0m\u001b[0m\n",
            "\u001b[0;32m/usr/local/lib/python3.7/dist-packages/tensorflow/python/framework/ops.py\u001b[0m in \u001b[0;36mraise_from_not_ok_status\u001b[0;34m(e, name)\u001b[0m\n\u001b[1;32m   6895\u001b[0m   \u001b[0mmessage\u001b[0m \u001b[0;34m=\u001b[0m \u001b[0me\u001b[0m\u001b[0;34m.\u001b[0m\u001b[0mmessage\u001b[0m \u001b[0;34m+\u001b[0m \u001b[0;34m(\u001b[0m\u001b[0;34m\" name: \"\u001b[0m \u001b[0;34m+\u001b[0m \u001b[0mname\u001b[0m \u001b[0;32mif\u001b[0m \u001b[0mname\u001b[0m \u001b[0;32mis\u001b[0m \u001b[0;32mnot\u001b[0m \u001b[0;32mNone\u001b[0m \u001b[0;32melse\u001b[0m \u001b[0;34m\"\"\u001b[0m\u001b[0;34m)\u001b[0m\u001b[0;34m\u001b[0m\u001b[0;34m\u001b[0m\u001b[0m\n\u001b[1;32m   6896\u001b[0m   \u001b[0;31m# pylint: disable=protected-access\u001b[0m\u001b[0;34m\u001b[0m\u001b[0;34m\u001b[0m\u001b[0;34m\u001b[0m\u001b[0m\n\u001b[0;32m-> 6897\u001b[0;31m   \u001b[0msix\u001b[0m\u001b[0;34m.\u001b[0m\u001b[0mraise_from\u001b[0m\u001b[0;34m(\u001b[0m\u001b[0mcore\u001b[0m\u001b[0;34m.\u001b[0m\u001b[0m_status_to_exception\u001b[0m\u001b[0;34m(\u001b[0m\u001b[0me\u001b[0m\u001b[0;34m.\u001b[0m\u001b[0mcode\u001b[0m\u001b[0;34m,\u001b[0m \u001b[0mmessage\u001b[0m\u001b[0;34m)\u001b[0m\u001b[0;34m,\u001b[0m \u001b[0;32mNone\u001b[0m\u001b[0;34m)\u001b[0m\u001b[0;34m\u001b[0m\u001b[0;34m\u001b[0m\u001b[0m\n\u001b[0m\u001b[1;32m   6898\u001b[0m   \u001b[0;31m# pylint: enable=protected-access\u001b[0m\u001b[0;34m\u001b[0m\u001b[0;34m\u001b[0m\u001b[0;34m\u001b[0m\u001b[0m\n\u001b[1;32m   6899\u001b[0m \u001b[0;34m\u001b[0m\u001b[0m\n",
            "\u001b[0;32m/usr/local/lib/python3.7/dist-packages/six.py\u001b[0m in \u001b[0;36mraise_from\u001b[0;34m(value, from_value)\u001b[0m\n",
            "\u001b[0;31mInvalidArgumentError\u001b[0m: In[0] mismatch In[1] shape: 2 vs. 3: [3,2] [3,2] 0 0 [Op:MatMul]"
          ]
        }
      ]
    },
    {
      "cell_type": "markdown",
      "metadata": {
        "id": "23f11452-367e-406d-9683-8ec3fbffd47f"
      },
      "source": [
        "Le message d'erreur est assez explicite. Pour multiplier ces deux tenseurs, nous devons :\n",
        "- soit modifier `X` pour avoir un tenseur de dimension `(2, 3)`\n",
        "- soit remodeler `Y` pour avoir un tenseur de forme `(3, 2)`\n",
        "\n",
        "Pour cela, deux méthodes peuvent être utilisées :\n",
        "- `tf.reshape()` : la forme voulue doit être spécifiée\n",
        "- `tf.transpose()` : comme avec les matrices, `transpose()` va permuter les dimensions du tenseur\n",
        "\n",
        "Essayons d'abord `tf.reshape()`. Nous allons l'utiliser sur le tenseur `Y` et puis procéder au produit matriciel `@` avec `X` :"
      ],
      "id": "23f11452-367e-406d-9683-8ec3fbffd47f"
    },
    {
      "cell_type": "code",
      "metadata": {
        "id": "5a9f55d1-8116-4e89-ace1-6c37d1eec5a2",
        "outputId": "03270f44-a05a-4cb0-a1ae-b71d97847cb3"
      },
      "source": [
        ""
      ],
      "id": "5a9f55d1-8116-4e89-ace1-6c37d1eec5a2",
      "execution_count": null,
      "outputs": [
        {
          "output_type": "execute_result",
          "data": {
            "text/plain": [
              "<tf.Tensor: shape=(2, 3), dtype=int32, numpy=\n",
              "array([[ 7,  8,  9],\n",
              "       [10, 11, 12]])>"
            ]
          },
          "metadata": {
            "tags": []
          },
          "execution_count": 50
        }
      ]
    },
    {
      "cell_type": "code",
      "metadata": {
        "colab": {
          "base_uri": "https://localhost:8080/"
        },
        "id": "rFd8JUNof5gc",
        "outputId": "48ac29c3-55e7-4a5a-b693-415b297f8ca8"
      },
      "source": [
        "tf.reshape(Y, (2,3))"
      ],
      "id": "rFd8JUNof5gc",
      "execution_count": 26,
      "outputs": [
        {
          "output_type": "execute_result",
          "data": {
            "text/plain": [
              "<tf.Tensor: shape=(2, 3), dtype=int32, numpy=\n",
              "array([[ 7,  8,  9],\n",
              "       [10, 11, 12]], dtype=int32)>"
            ]
          },
          "metadata": {
            "tags": []
          },
          "execution_count": 26
        }
      ]
    },
    {
      "cell_type": "code",
      "metadata": {
        "id": "a5b47219-2bbc-4c04-956f-0a0740dbd76d",
        "outputId": "3bea1104-bb2c-4b76-858c-ce96c332f33d"
      },
      "source": [
        "# produit matriciel\n"
      ],
      "id": "a5b47219-2bbc-4c04-956f-0a0740dbd76d",
      "execution_count": null,
      "outputs": [
        {
          "output_type": "execute_result",
          "data": {
            "text/plain": [
              "<tf.Tensor: shape=(3, 3), dtype=int32, numpy=\n",
              "array([[ 27,  30,  33],\n",
              "       [ 61,  68,  75],\n",
              "       [ 95, 106, 117]])>"
            ]
          },
          "metadata": {
            "tags": []
          },
          "execution_count": 51
        }
      ]
    },
    {
      "cell_type": "code",
      "metadata": {
        "colab": {
          "base_uri": "https://localhost:8080/"
        },
        "id": "XJqL7IKAW-EH",
        "outputId": "a55404ca-f215-4759-a3e2-961f40d20641"
      },
      "source": [
        "X @ tf.reshape(Y, (2,3))"
      ],
      "id": "XJqL7IKAW-EH",
      "execution_count": 31,
      "outputs": [
        {
          "output_type": "execute_result",
          "data": {
            "text/plain": [
              "<tf.Tensor: shape=(3, 3), dtype=int32, numpy=\n",
              "array([[ 27,  30,  33],\n",
              "       [ 61,  68,  75],\n",
              "       [ 95, 106, 117]], dtype=int32)>"
            ]
          },
          "metadata": {
            "tags": []
          },
          "execution_count": 31
        }
      ]
    },
    {
      "cell_type": "markdown",
      "metadata": {
        "id": "1e7b0acb-1b63-4a0a-bcc7-6f485fca1b50"
      },
      "source": [
        "Essayons maintenant la méthode `tf.transpose()` sur `X` et `tf.matmul()` pour l'opérateur de multiplication matricielle :"
      ],
      "id": "1e7b0acb-1b63-4a0a-bcc7-6f485fca1b50"
    },
    {
      "cell_type": "code",
      "metadata": {
        "id": "ad2729a0-26af-4cef-96db-1020671e44ab",
        "outputId": "58e19fb9-23b0-4403-ec9a-d1d8a5d7c985"
      },
      "source": [
        "# transpose sur X\n"
      ],
      "id": "ad2729a0-26af-4cef-96db-1020671e44ab",
      "execution_count": null,
      "outputs": [
        {
          "output_type": "execute_result",
          "data": {
            "text/plain": [
              "<tf.Tensor: shape=(2, 3), dtype=int32, numpy=\n",
              "array([[1, 3, 5],\n",
              "       [2, 4, 6]])>"
            ]
          },
          "metadata": {
            "tags": []
          },
          "execution_count": 52
        }
      ]
    },
    {
      "cell_type": "code",
      "metadata": {
        "colab": {
          "base_uri": "https://localhost:8080/"
        },
        "id": "abzLWb2zXK0j",
        "outputId": "a05b5ccd-71ad-4342-9e5b-bbc85d90b29f"
      },
      "source": [
        "tf.transpose(X)"
      ],
      "id": "abzLWb2zXK0j",
      "execution_count": 32,
      "outputs": [
        {
          "output_type": "execute_result",
          "data": {
            "text/plain": [
              "<tf.Tensor: shape=(2, 3), dtype=int32, numpy=\n",
              "array([[1, 3, 5],\n",
              "       [2, 4, 6]], dtype=int32)>"
            ]
          },
          "metadata": {
            "tags": []
          },
          "execution_count": 32
        }
      ]
    },
    {
      "cell_type": "code",
      "metadata": {
        "id": "831525aa-def1-4a67-a76d-d7de29d2b01d",
        "outputId": "4ebc2c58-235a-4f2c-8f00-3deeefc9f25f"
      },
      "source": [
        "# multiplication matricielle\n"
      ],
      "id": "831525aa-def1-4a67-a76d-d7de29d2b01d",
      "execution_count": null,
      "outputs": [
        {
          "output_type": "execute_result",
          "data": {
            "text/plain": [
              "<tf.Tensor: shape=(2, 2), dtype=int32, numpy=\n",
              "array([[ 89,  98],\n",
              "       [116, 128]])>"
            ]
          },
          "metadata": {
            "tags": []
          },
          "execution_count": 53
        }
      ]
    },
    {
      "cell_type": "code",
      "metadata": {
        "colab": {
          "base_uri": "https://localhost:8080/"
        },
        "id": "1z2PxezhXS7_",
        "outputId": "487d6f44-ce82-425a-dcfd-275c9737673e"
      },
      "source": [
        "tf.matmul(tf.transpose(X), Y)"
      ],
      "id": "1z2PxezhXS7_",
      "execution_count": 44,
      "outputs": [
        {
          "output_type": "execute_result",
          "data": {
            "text/plain": [
              "<tf.Tensor: shape=(2, 2), dtype=int32, numpy=\n",
              "array([[ 89,  98],\n",
              "       [116, 128]], dtype=int32)>"
            ]
          },
          "metadata": {
            "tags": []
          },
          "execution_count": 44
        }
      ]
    },
    {
      "cell_type": "markdown",
      "metadata": {
        "id": "77ca7a32-976c-49bd-acdb-d888af2b3a06"
      },
      "source": [
        "Nous pouvons obtenir le même résultat que ci-dessus en spécifiant le paramètre `transpose_a=True` :"
      ],
      "id": "77ca7a32-976c-49bd-acdb-d888af2b3a06"
    },
    {
      "cell_type": "code",
      "metadata": {
        "id": "a6b47b32-0dd4-4f0f-82e0-f0d1021e989a",
        "outputId": "1a151e6a-7160-4c97-ae4a-ecef314887f1"
      },
      "source": [
        ""
      ],
      "id": "a6b47b32-0dd4-4f0f-82e0-f0d1021e989a",
      "execution_count": null,
      "outputs": [
        {
          "output_type": "execute_result",
          "data": {
            "text/plain": [
              "<tf.Tensor: shape=(2, 2), dtype=int32, numpy=\n",
              "array([[ 89,  98],\n",
              "       [116, 128]])>"
            ]
          },
          "metadata": {
            "tags": []
          },
          "execution_count": 54
        }
      ]
    },
    {
      "cell_type": "code",
      "metadata": {
        "colab": {
          "base_uri": "https://localhost:8080/"
        },
        "id": "OHYVlbrxZ2vb",
        "outputId": "51074048-cb7f-4f55-e991-c94bbe455413"
      },
      "source": [
        "tf.matmul(X, Y, True)"
      ],
      "id": "OHYVlbrxZ2vb",
      "execution_count": 47,
      "outputs": [
        {
          "output_type": "execute_result",
          "data": {
            "text/plain": [
              "<tf.Tensor: shape=(2, 2), dtype=int32, numpy=\n",
              "array([[ 89,  98],\n",
              "       [116, 128]], dtype=int32)>"
            ]
          },
          "metadata": {
            "tags": []
          },
          "execution_count": 47
        }
      ]
    },
    {
      "cell_type": "markdown",
      "metadata": {
        "id": "93dd38f8-cf75-4b94-ba44-86d639bdde3f"
      },
      "source": [
        "Vous pouvez également obtenir le même résultat que l'opération `tf.matmul()` avec `tf.tensordot()` :"
      ],
      "id": "93dd38f8-cf75-4b94-ba44-86d639bdde3f"
    },
    {
      "cell_type": "code",
      "metadata": {
        "id": "082e9d38-042c-4976-8695-601d008bd582",
        "outputId": "1a05aaac-1b27-4a76-8486-a25a4d2d24f2"
      },
      "source": [
        ""
      ],
      "id": "082e9d38-042c-4976-8695-601d008bd582",
      "execution_count": null,
      "outputs": [
        {
          "output_type": "execute_result",
          "data": {
            "text/plain": [
              "<tf.Tensor: shape=(2, 2), dtype=int32, numpy=\n",
              "array([[ 89,  98],\n",
              "       [116, 128]])>"
            ]
          },
          "metadata": {
            "tags": []
          },
          "execution_count": 55
        }
      ]
    },
    {
      "cell_type": "code",
      "metadata": {
        "colab": {
          "base_uri": "https://localhost:8080/"
        },
        "id": "MT6hGb-JaGg2",
        "outputId": "4df8d897-0f47-4639-a083-2e7bc32f433e"
      },
      "source": [
        "tf.tensordot(tf.transpose(X), Y, 2)"
      ],
      "id": "MT6hGb-JaGg2",
      "execution_count": 55,
      "outputs": [
        {
          "output_type": "execute_result",
          "data": {
            "text/plain": [
              "<tf.Tensor: shape=(), dtype=int32, numpy=212>"
            ]
          },
          "metadata": {
            "tags": []
          },
          "execution_count": 55
        }
      ]
    },
    {
      "cell_type": "markdown",
      "metadata": {
        "id": "b69efd6c-6a71-4136-8e90-8f3459beecc6"
      },
      "source": [
        "Pour les plus curieux, vous avez peut-être déjà vu que `reshape` et `transpose` donnaient des résultats différents.\n",
        "\n",
        "Gardons les tenseurs `X` et `Y` et vérifions-cela :"
      ],
      "id": "b69efd6c-6a71-4136-8e90-8f3459beecc6"
    },
    {
      "cell_type": "code",
      "metadata": {
        "id": "bd8d8fbb-e879-4a75-ab8f-17db988d7d3c",
        "outputId": "ad34b1d7-d028-4c28-a0b8-07a4ec32ac2d"
      },
      "source": [
        "# multiplication avec l'utilisation de transpose sur Y\n"
      ],
      "id": "bd8d8fbb-e879-4a75-ab8f-17db988d7d3c",
      "execution_count": null,
      "outputs": [
        {
          "output_type": "execute_result",
          "data": {
            "text/plain": [
              "<tf.Tensor: shape=(3, 3), dtype=int32, numpy=\n",
              "array([[ 23,  29,  35],\n",
              "       [ 53,  67,  81],\n",
              "       [ 83, 105, 127]])>"
            ]
          },
          "metadata": {
            "tags": []
          },
          "execution_count": 56
        }
      ]
    },
    {
      "cell_type": "code",
      "metadata": {
        "id": "eaaf1899-0865-4f16-b09f-207ab76393da",
        "outputId": "e3fc79b0-6e79-4fc8-d233-219de6a7c677"
      },
      "source": [
        "# multiplication avec l'utilisation de reshape sur Y\n"
      ],
      "id": "eaaf1899-0865-4f16-b09f-207ab76393da",
      "execution_count": null,
      "outputs": [
        {
          "output_type": "execute_result",
          "data": {
            "text/plain": [
              "<tf.Tensor: shape=(3, 3), dtype=int32, numpy=\n",
              "array([[ 27,  30,  33],\n",
              "       [ 61,  68,  75],\n",
              "       [ 95, 106, 117]])>"
            ]
          },
          "metadata": {
            "tags": []
          },
          "execution_count": 57
        }
      ]
    },
    {
      "cell_type": "markdown",
      "metadata": {
        "id": "0ae99ea6-dd09-44aa-9726-aa9bf571fe85"
      },
      "source": [
        "Cela peut tout de même sembler bizarre parce que si l'on remodèle Y (avec `reshape`) ou que l'on permute `X` (`transpose`), on obtient dans les deux cas un tenseur de même forme :"
      ],
      "id": "0ae99ea6-dd09-44aa-9726-aa9bf571fe85"
    },
    {
      "cell_type": "code",
      "metadata": {
        "id": "7f7305dc-3b06-4129-8998-e52e19fe71b6",
        "outputId": "11835d8e-7eeb-408e-91cf-b7a5830b4f13"
      },
      "source": [
        "Y.shape, tf.reshape(Y, (2, 3)).shape, tf.transpose(Y).shape"
      ],
      "id": "7f7305dc-3b06-4129-8998-e52e19fe71b6",
      "execution_count": null,
      "outputs": [
        {
          "output_type": "execute_result",
          "data": {
            "text/plain": [
              "(TensorShape([3, 2]), TensorShape([2, 3]), TensorShape([2, 3]))"
            ]
          },
          "metadata": {
            "tags": []
          },
          "execution_count": 58
        }
      ]
    },
    {
      "cell_type": "markdown",
      "metadata": {
        "id": "e32a72fa-e000-480d-b699-e81c28b6370a"
      },
      "source": [
        "En fait, nous pouvons facilement vérifier que `tf.reshape()` et `tf.transpose()` ne donnent pas les mêmes tenseurs :"
      ],
      "id": "e32a72fa-e000-480d-b699-e81c28b6370a"
    },
    {
      "cell_type": "code",
      "metadata": {
        "id": "c28346de-e032-4d52-83c7-956ae5715142",
        "outputId": "c2d8f9a8-6b06-4d96-f606-620062718d72"
      },
      "source": [
        "print(\"Tenseur Y d'origine :\")\n",
        "print(Y, \"\\n\") # \"\\n\" for newline\n",
        "\n",
        "print(\"Y 'remodelé' sous la forme (2, 3) :\")\n",
        "print(tf.reshape(Y, (2, 3)), \"\\n\")\n",
        "\n",
        "print(\"Y 'transposé' :\")\n",
        "print(tf.transpose(Y))"
      ],
      "id": "c28346de-e032-4d52-83c7-956ae5715142",
      "execution_count": null,
      "outputs": [
        {
          "output_type": "stream",
          "text": [
            "Tenseur Y d'origine :\n",
            "tf.Tensor(\n",
            "[[ 7  8]\n",
            " [ 9 10]\n",
            " [11 12]], shape=(3, 2), dtype=int32) \n",
            "\n",
            "Y 'remodelé' sous la forme (2, 3) :\n",
            "tf.Tensor(\n",
            "[[ 7  8  9]\n",
            " [10 11 12]], shape=(2, 3), dtype=int32) \n",
            "\n",
            "Y 'transposé' :\n",
            "tf.Tensor(\n",
            "[[ 7  9 11]\n",
            " [ 8 10 12]], shape=(2, 3), dtype=int32)\n"
          ],
          "name": "stdout"
        }
      ]
    },
    {
      "cell_type": "markdown",
      "metadata": {
        "id": "03e8dc0f-ca05-4f70-ae52-cf729ad1015a"
      },
      "source": [
        "On comprend ainsi pourquoi nous obtenons plus haut des résultats différents pour nos deux produits matriciels."
      ],
      "id": "03e8dc0f-ca05-4f70-ae52-cf729ad1015a"
    },
    {
      "cell_type": "markdown",
      "metadata": {
        "id": "46642764-b393-4e68-939f-ad10478af355"
      },
      "source": [
        "### 2.3. Changer le type (datatype) d'un tenseur\n",
        "\n",
        "Nous pouvons parfois vouloir modifier le datatype par défaut de notre tenseur.\n",
        "\n",
        "C'est notamment le cas lorsque nous souhaitons faire nos calculs avec moins de précision (par exemple passer de variables de type `float 32-bit` au type `float 16-bit`).\n",
        "\n",
        "Calculer avec une précision moindre est utile sur des équipements ayant moins de puissance de calcul, comme par exemple les appareils portables.\n",
        "\n",
        "Vous pouvez changer le type d'un tenseur avec `tf.cast()` :"
      ],
      "id": "46642764-b393-4e68-939f-ad10478af355"
    },
    {
      "cell_type": "code",
      "metadata": {
        "id": "9fc04c0d-acc6-4ea7-a510-64fa8d3989fc",
        "outputId": "fcfdc089-f239-4597-eb86-bf7bccae59a8"
      },
      "source": [
        "# tenseur de type int32 par défaut\n",
        "tenseur_A = \n",
        "\n",
        "# tenseur de type float32 par défaut\n",
        "tenseur_B = \n",
        "\n",
        "tenseur_A, tenseur_B"
      ],
      "id": "9fc04c0d-acc6-4ea7-a510-64fa8d3989fc",
      "execution_count": null,
      "outputs": [
        {
          "output_type": "execute_result",
          "data": {
            "text/plain": [
              "(<tf.Tensor: shape=(2,), dtype=int32, numpy=array([2, 3])>,\n",
              " <tf.Tensor: shape=(2,), dtype=float32, numpy=array([2.4, 3.8], dtype=float32)>)"
            ]
          },
          "metadata": {
            "tags": []
          },
          "execution_count": 60
        }
      ]
    },
    {
      "cell_type": "code",
      "metadata": {
        "colab": {
          "base_uri": "https://localhost:8080/"
        },
        "id": "f6HIV3Zcamn-",
        "outputId": "769380c7-72cd-4ffe-8069-932ed786588f"
      },
      "source": [
        "# tenseur de type int32 par défaut\n",
        "tenseur_A = tf.constant([2,3], \"int32\", (2,))\n",
        "\n",
        "# tenseur de type float32 par défaut\n",
        "tenseur_B = tf.constant([2.4, 3.8], \"float32\", (2,))\n",
        "\n",
        "tenseur_A, tenseur_B"
      ],
      "id": "f6HIV3Zcamn-",
      "execution_count": 59,
      "outputs": [
        {
          "output_type": "execute_result",
          "data": {
            "text/plain": [
              "(<tf.Tensor: shape=(2,), dtype=int32, numpy=array([2, 3], dtype=int32)>,\n",
              " <tf.Tensor: shape=(2,), dtype=float32, numpy=array([2.4, 3.8], dtype=float32)>)"
            ]
          },
          "metadata": {
            "tags": []
          },
          "execution_count": 59
        }
      ]
    },
    {
      "cell_type": "code",
      "metadata": {
        "id": "daea8b59-f9c1-47c0-a88c-86b9ae904949",
        "outputId": "4b2649ba-341a-45c7-b959-ad8bf75da388"
      },
      "source": [
        "# modification du type de tenseur_B de float32 à float16\n",
        "tenseur_B = tf.cast(tenseur_B, dtype=tf.float16)\n",
        "tenseur_B"
      ],
      "id": "daea8b59-f9c1-47c0-a88c-86b9ae904949",
      "execution_count": null,
      "outputs": [
        {
          "output_type": "execute_result",
          "data": {
            "text/plain": [
              "<tf.Tensor: shape=(2,), dtype=float16, numpy=array([2.4, 3.8], dtype=float16)>"
            ]
          },
          "metadata": {
            "tags": []
          },
          "execution_count": 61
        }
      ]
    },
    {
      "cell_type": "code",
      "metadata": {
        "colab": {
          "base_uri": "https://localhost:8080/"
        },
        "id": "Hk1PumZybiVV",
        "outputId": "8b5370d4-5a96-4a61-cc0f-6d9736f7e8f4"
      },
      "source": [
        "tenseur_B = tf.cast(tenseur_B, dtype=tf.float16)\n",
        "tenseur_B"
      ],
      "id": "Hk1PumZybiVV",
      "execution_count": 60,
      "outputs": [
        {
          "output_type": "execute_result",
          "data": {
            "text/plain": [
              "<tf.Tensor: shape=(2,), dtype=float16, numpy=array([2.4, 3.8], dtype=float16)>"
            ]
          },
          "metadata": {
            "tags": []
          },
          "execution_count": 60
        }
      ]
    },
    {
      "cell_type": "code",
      "metadata": {
        "id": "39e8fc3a-a6b8-4704-b5a3-1e6bf5518807",
        "outputId": "c5b841db-c62c-4c8f-d7ec-4ba23a88be32"
      },
      "source": [
        "# modification du type de tenseur_A de int32 à float32\n",
        "tenseur_A = \n",
        "tenseur_A"
      ],
      "id": "39e8fc3a-a6b8-4704-b5a3-1e6bf5518807",
      "execution_count": null,
      "outputs": [
        {
          "output_type": "execute_result",
          "data": {
            "text/plain": [
              "<tf.Tensor: shape=(2,), dtype=float32, numpy=array([2., 3.], dtype=float32)>"
            ]
          },
          "metadata": {
            "tags": []
          },
          "execution_count": 62
        }
      ]
    },
    {
      "cell_type": "code",
      "metadata": {
        "colab": {
          "base_uri": "https://localhost:8080/"
        },
        "id": "D5Rmibjkblj-",
        "outputId": "a835628f-cf57-4148-b151-ef7684c92b7e"
      },
      "source": [
        "tenseur_A = tf.cast(tenseur_A, dtype=tf.float32)\n",
        "tenseur_A"
      ],
      "id": "D5Rmibjkblj-",
      "execution_count": 61,
      "outputs": [
        {
          "output_type": "execute_result",
          "data": {
            "text/plain": [
              "<tf.Tensor: shape=(2,), dtype=float32, numpy=array([2., 3.], dtype=float32)>"
            ]
          },
          "metadata": {
            "tags": []
          },
          "execution_count": 61
        }
      ]
    },
    {
      "cell_type": "markdown",
      "metadata": {
        "id": "9a6cac08-5945-4feb-9e3d-bb9b6fb81b78"
      },
      "source": [
        "### 2.4. Valeur absolue\n",
        "\n"
      ],
      "id": "9a6cac08-5945-4feb-9e3d-bb9b6fb81b78"
    },
    {
      "cell_type": "markdown",
      "metadata": {
        "id": "34ec37dd-3b9f-4a03-b6ce-ab3370ff9d08"
      },
      "source": [
        "Pour obtenir les valeurs absolues des éléments des tenseurs, nous pouvons utiliser `tf.abs()` :"
      ],
      "id": "34ec37dd-3b9f-4a03-b6ce-ab3370ff9d08"
    },
    {
      "cell_type": "code",
      "metadata": {
        "id": "a2793474-c410-4066-b731-53fb269eddce",
        "outputId": "04477253-6969-496a-c858-7d2e276fd6fa"
      },
      "source": [
        "tenseur = \n",
        "tenseur"
      ],
      "id": "a2793474-c410-4066-b731-53fb269eddce",
      "execution_count": null,
      "outputs": [
        {
          "output_type": "execute_result",
          "data": {
            "text/plain": [
              "<tf.Tensor: shape=(2,), dtype=int32, numpy=array([ -5, -10])>"
            ]
          },
          "metadata": {
            "tags": []
          },
          "execution_count": 63
        }
      ]
    },
    {
      "cell_type": "code",
      "metadata": {
        "colab": {
          "base_uri": "https://localhost:8080/"
        },
        "id": "Hs2QrvkHb0D9",
        "outputId": "18c35944-ccc6-4181-d063-58cb798cfddc"
      },
      "source": [
        "tenseur = tf.constant([ -5, -10])\n",
        "tenseur"
      ],
      "id": "Hs2QrvkHb0D9",
      "execution_count": 64,
      "outputs": [
        {
          "output_type": "execute_result",
          "data": {
            "text/plain": [
              "<tf.Tensor: shape=(2,), dtype=int32, numpy=array([ -5, -10], dtype=int32)>"
            ]
          },
          "metadata": {
            "tags": []
          },
          "execution_count": 64
        }
      ]
    },
    {
      "cell_type": "code",
      "metadata": {
        "id": "2b256580-87a7-4cbb-84a5-8b5e64dfb0ec",
        "outputId": "b0d23e12-5d22-4b11-f777-ea55ef4b18a3"
      },
      "source": [
        "# valeur absolue\n"
      ],
      "id": "2b256580-87a7-4cbb-84a5-8b5e64dfb0ec",
      "execution_count": null,
      "outputs": [
        {
          "output_type": "execute_result",
          "data": {
            "text/plain": [
              "<tf.Tensor: shape=(2,), dtype=int32, numpy=array([ 5, 10])>"
            ]
          },
          "metadata": {
            "tags": []
          },
          "execution_count": 64
        }
      ]
    },
    {
      "cell_type": "code",
      "metadata": {
        "colab": {
          "base_uri": "https://localhost:8080/"
        },
        "id": "q0Pbdh-Ab-gP",
        "outputId": "5ae9515f-f086-43cf-e703-dde3c4a22e23"
      },
      "source": [
        "tf.abs(tenseur)"
      ],
      "id": "q0Pbdh-Ab-gP",
      "execution_count": 65,
      "outputs": [
        {
          "output_type": "execute_result",
          "data": {
            "text/plain": [
              "<tf.Tensor: shape=(2,), dtype=int32, numpy=array([ 5, 10], dtype=int32)>"
            ]
          },
          "metadata": {
            "tags": []
          },
          "execution_count": 65
        }
      ]
    },
    {
      "cell_type": "markdown",
      "metadata": {
        "id": "8a3f3647-ce42-444b-b50c-2e6eb72ee7d1"
      },
      "source": [
        "### 2.5. Min, max, moyenne, somme"
      ],
      "id": "8a3f3647-ce42-444b-b50c-2e6eb72ee7d1"
    },
    {
      "cell_type": "markdown",
      "metadata": {
        "id": "831b920e-b8b2-41e0-b8c5-7d736c755029"
      },
      "source": [
        "Les tenseurs peuvent être rapidement agrégés (c'est-à-dire que l'on peut appliquer un calcul sur tout le tenseur) pour trouver des choses comme le minimum, le maximum, la moyenne et la somme de tous les éléments.\n",
        "\n",
        "Les méthodes d'agrégation ont souvent la syntaxe `reduce_[action]()`, telles que :\n",
        "- `tf.reduce_min()`\n",
        "- `tf.reduce_max()`\n",
        "- `tf.reduce_mean()`\n",
        "- `tf.reduce_sum()`\n",
        "- généralement, chacune de ces méthodes sont disponible dans le module `math`, par exemple `tf.math.reduce_min()` mais vous pouvez utiliser l'alias `tf.reduce_min()` .\n",
        "\n",
        "Pour tester ces fonctions d'agrégation, nous allons créer un tenseur de 100 valeurs aléatoires choisies entre -50 et 50, à l'aide de la fonction `randint` du module `random` de NumPy :"
      ],
      "id": "831b920e-b8b2-41e0-b8c5-7d736c755029"
    },
    {
      "cell_type": "code",
      "metadata": {
        "id": "c3585bbe-62b4-4fcf-814f-c6ce11040192",
        "outputId": "41aa884e-df28-4a01-c723-8d130760f1fe"
      },
      "source": [
        "tenseur = \n",
        "tenseur"
      ],
      "id": "c3585bbe-62b4-4fcf-814f-c6ce11040192",
      "execution_count": null,
      "outputs": [
        {
          "output_type": "execute_result",
          "data": {
            "text/plain": [
              "<tf.Tensor: shape=(100,), dtype=int32, numpy=\n",
              "array([  4, -21, -28,  16,  32,  -9, -20,  12,   5,  11, -14,  35,  34,\n",
              "        -6, -26,  30, -11, -27,  49, -41,  -8,  25,  22,  28,  -5,   8,\n",
              "       -38, -10,  23,  38,  11,  19,  24,  25, -32, -33, -22, -37, -40,\n",
              "        15,  33,  20,  45,  16,   8,  10,  40, -14, -34, -15,   6,  17,\n",
              "       -45, -50,  49, -44,  25, -44,  -1,  40, -50,  49,   4,   8,  20,\n",
              "       -23, -42,  -9,  46, -21,  21,  -4, -45,  13, -17,  -4, -35,  14,\n",
              "        13,  23, -50, -32,  -9,  14,   0,  40,  18, -29, -41, -17,  12,\n",
              "        14, -28, -43,  37,  -1,   6, -32, -47,  48])>"
            ]
          },
          "metadata": {
            "tags": []
          },
          "execution_count": 65
        }
      ]
    },
    {
      "cell_type": "code",
      "metadata": {
        "colab": {
          "base_uri": "https://localhost:8080/"
        },
        "id": "IhIquWTCcdBk",
        "outputId": "56c7f7bc-cac9-4f94-fba9-478617777f74"
      },
      "source": [
        "import numpy as np\n",
        "tenseur = tf.constant(np.random.randint(-50, 50, 100, \"int32\"))\n",
        "tenseur"
      ],
      "id": "IhIquWTCcdBk",
      "execution_count": 76,
      "outputs": [
        {
          "output_type": "execute_result",
          "data": {
            "text/plain": [
              "<tf.Tensor: shape=(100,), dtype=int32, numpy=\n",
              "array([-46, -47,  -2,  47,   7,  27,  33, -33,   7,  46,  27,  14,  -5,\n",
              "        -5,   0, -25,  37, -44,  49,  12, -48,  -7, -17, -37, -19,  48,\n",
              "       -20, -24,  15,  13,  13,  37,  -1,   4, -12,  45, -18, -49,  32,\n",
              "       -39, -48,  30,  -4, -50,   1,  19,  15,  44, -11,  16,  44, -46,\n",
              "        -4,  49,  34,  16,  47, -45, -45, -47,  40, -14,  43,  30,  42,\n",
              "       -42,  -9,   1,  24, -12,  47,  23, -48,  21,  11, -34,  24, -15,\n",
              "        21, -26, -42,  46, -31, -39,  36,  44, -43,   2,  -8,  -5,  31,\n",
              "        48, -42, -24,   1,   7,  27, -10,  -3, -17], dtype=int32)>"
            ]
          },
          "metadata": {
            "tags": []
          },
          "execution_count": 76
        }
      ]
    },
    {
      "cell_type": "code",
      "metadata": {
        "id": "9f654610-61f4-4a65-8408-53c64cc3a290",
        "outputId": "ca602ad8-2ead-4983-8af3-5ee590e79c41"
      },
      "source": [
        "#min\n"
      ],
      "id": "9f654610-61f4-4a65-8408-53c64cc3a290",
      "execution_count": null,
      "outputs": [
        {
          "output_type": "execute_result",
          "data": {
            "text/plain": [
              "<tf.Tensor: shape=(), dtype=int32, numpy=-50>"
            ]
          },
          "metadata": {
            "tags": []
          },
          "execution_count": 66
        }
      ]
    },
    {
      "cell_type": "code",
      "metadata": {
        "colab": {
          "base_uri": "https://localhost:8080/"
        },
        "id": "e6J9oSSUdFCy",
        "outputId": "96d4416c-b817-4720-cf31-d385d13d69f1"
      },
      "source": [
        "tf.reduce_min(tenseur)"
      ],
      "id": "e6J9oSSUdFCy",
      "execution_count": 77,
      "outputs": [
        {
          "output_type": "execute_result",
          "data": {
            "text/plain": [
              "<tf.Tensor: shape=(), dtype=int32, numpy=-50>"
            ]
          },
          "metadata": {
            "tags": []
          },
          "execution_count": 77
        }
      ]
    },
    {
      "cell_type": "code",
      "metadata": {
        "id": "b9fbc2b7-36eb-4e21-ae09-8bb6713bf1d6",
        "outputId": "858dab6b-a008-49fb-9c69-e83726c3cae7"
      },
      "source": [
        "#max\n"
      ],
      "id": "b9fbc2b7-36eb-4e21-ae09-8bb6713bf1d6",
      "execution_count": null,
      "outputs": [
        {
          "output_type": "execute_result",
          "data": {
            "text/plain": [
              "<tf.Tensor: shape=(), dtype=int32, numpy=49>"
            ]
          },
          "metadata": {
            "tags": []
          },
          "execution_count": 67
        }
      ]
    },
    {
      "cell_type": "code",
      "metadata": {
        "colab": {
          "base_uri": "https://localhost:8080/"
        },
        "id": "dAn91vJudPmG",
        "outputId": "2da9a27f-d74e-420c-fd22-6c122ad8a580"
      },
      "source": [
        "tf.reduce_max(tenseur)"
      ],
      "id": "dAn91vJudPmG",
      "execution_count": 78,
      "outputs": [
        {
          "output_type": "execute_result",
          "data": {
            "text/plain": [
              "<tf.Tensor: shape=(), dtype=int32, numpy=49>"
            ]
          },
          "metadata": {
            "tags": []
          },
          "execution_count": 78
        }
      ]
    },
    {
      "cell_type": "code",
      "metadata": {
        "id": "30a930f8-6952-41af-b631-56ffbb9a4232",
        "outputId": "52019760-190b-48be-eac2-5da621d6724d"
      },
      "source": [
        "#moyenne\n"
      ],
      "id": "30a930f8-6952-41af-b631-56ffbb9a4232",
      "execution_count": null,
      "outputs": [
        {
          "output_type": "execute_result",
          "data": {
            "text/plain": [
              "<tf.Tensor: shape=(), dtype=int32, numpy=0>"
            ]
          },
          "metadata": {
            "tags": []
          },
          "execution_count": 68
        }
      ]
    },
    {
      "cell_type": "code",
      "metadata": {
        "colab": {
          "base_uri": "https://localhost:8080/"
        },
        "id": "3VE-VBJfdRn7",
        "outputId": "3b18228d-15ce-4bea-da06-32ef69534c30"
      },
      "source": [
        "tf.reduce_mean(tenseur)"
      ],
      "id": "3VE-VBJfdRn7",
      "execution_count": 79,
      "outputs": [
        {
          "output_type": "execute_result",
          "data": {
            "text/plain": [
              "<tf.Tensor: shape=(), dtype=int32, numpy=1>"
            ]
          },
          "metadata": {
            "tags": []
          },
          "execution_count": 79
        }
      ]
    },
    {
      "cell_type": "code",
      "metadata": {
        "id": "407441b1-9152-47d1-b629-9d5ed2a0ebd2"
      },
      "source": [
        "#somme\n"
      ],
      "id": "407441b1-9152-47d1-b629-9d5ed2a0ebd2",
      "execution_count": 80,
      "outputs": []
    },
    {
      "cell_type": "code",
      "metadata": {
        "colab": {
          "base_uri": "https://localhost:8080/"
        },
        "id": "_F7U0tP_dSbJ",
        "outputId": "fc5dc0db-9745-4f8c-b22d-c50689f9ded6"
      },
      "source": [
        "tf.reduce_sum(tenseur)"
      ],
      "id": "_F7U0tP_dSbJ",
      "execution_count": 81,
      "outputs": [
        {
          "output_type": "execute_result",
          "data": {
            "text/plain": [
              "<tf.Tensor: shape=(), dtype=int32, numpy=135>"
            ]
          },
          "metadata": {
            "tags": []
          },
          "execution_count": 81
        }
      ]
    },
    {
      "cell_type": "markdown",
      "metadata": {
        "id": "f2ed72f8-76eb-48a7-b7d3-5319b07837b4"
      },
      "source": [
        "### 2.6. Trouver les positions maximum et minimum\n",
        "\n",
        "Ceci peut être utile lorsque vous voulez aligner les probabilités de prédictions (par exemple `[0.92, 0.03, 0.05]`) avec vos étiquettes (par exemple `['Orange', 'Poire', 'Banane']`).\n",
        "\n",
        "Ici, l'étiquette prédite (celle avec la plus grande probabilité) serait `Orange` .\n",
        "\n",
        "Nous pouvons faire la même chose pour le minimum :\n",
        "- `tf.argmax()` : trouve la position de l'élément maximum d'un tenseur donné\n",
        "- `tf.argmin()` : trouve la position de l'élément minimum d'un tenseur donné\n",
        "\n",
        "Crééons cette fois-ci un tenseur de 100 valeurs comprises entre 0 et 1 :"
      ],
      "id": "f2ed72f8-76eb-48a7-b7d3-5319b07837b4"
    },
    {
      "cell_type": "code",
      "metadata": {
        "id": "3e5ec4ba-fdfb-4f1d-bf0f-041916a27ad2",
        "outputId": "1b608536-ffe8-4436-a098-66860e54af81"
      },
      "source": [
        "tenseur = \n",
        "tenseur"
      ],
      "id": "3e5ec4ba-fdfb-4f1d-bf0f-041916a27ad2",
      "execution_count": null,
      "outputs": [
        {
          "output_type": "execute_result",
          "data": {
            "text/plain": [
              "<tf.Tensor: shape=(100,), dtype=float64, numpy=\n",
              "array([0.43176854, 0.6583202 , 0.8700109 , 0.58817603, 0.22008158,\n",
              "       0.35209401, 0.76621725, 0.52908204, 0.3021742 , 0.90459508,\n",
              "       0.95778089, 0.76074908, 0.61938381, 0.02510168, 0.08979834,\n",
              "       0.87966019, 0.16375411, 0.55181853, 0.77312096, 0.76015148,\n",
              "       0.12793877, 0.81825676, 0.82063084, 0.41027661, 0.60035181,\n",
              "       0.54739499, 0.7665225 , 0.89790361, 0.07929629, 0.56083205,\n",
              "       0.04554573, 0.53382362, 0.09823263, 0.06457977, 0.87127352,\n",
              "       0.5673915 , 0.81288638, 0.22707507, 0.74571628, 0.9178505 ,\n",
              "       0.93886366, 0.41010078, 0.46371519, 0.30145872, 0.29934333,\n",
              "       0.26781642, 0.21503381, 0.58581353, 0.66145385, 0.12710215,\n",
              "       0.12533843, 0.06111898, 0.09861182, 0.69815358, 0.85906194,\n",
              "       0.25390505, 0.08454181, 0.57618997, 0.05580406, 0.83523941,\n",
              "       0.26637947, 0.42682472, 0.65868593, 0.44193388, 0.91181101,\n",
              "       0.01254488, 0.9390497 , 0.23252546, 0.91442268, 0.47416644,\n",
              "       0.96238577, 0.46649737, 0.88823201, 0.97416317, 0.45740408,\n",
              "       0.44806948, 0.78050139, 0.0676582 , 0.70684776, 0.85432437,\n",
              "       0.57466102, 0.86783981, 0.89753406, 0.60007868, 0.32311912,\n",
              "       0.4296106 , 0.37673717, 0.80770732, 0.6953628 , 0.69564343,\n",
              "       0.91537256, 0.76250305, 0.25503693, 0.79617947, 0.49714772,\n",
              "       0.45078283, 0.56746172, 0.26243247, 0.30097268, 0.15790824])>"
            ]
          },
          "metadata": {
            "tags": []
          },
          "execution_count": 70
        }
      ]
    },
    {
      "cell_type": "code",
      "metadata": {
        "colab": {
          "base_uri": "https://localhost:8080/"
        },
        "id": "jf7AE8PPds8O",
        "outputId": "0a1de426-4bb5-4447-c8a7-5d6e7be00d07"
      },
      "source": [
        "import numpy as np\n",
        "tenseur = tf.constant(np.random.random(100), \"float64\")\n",
        "tenseur"
      ],
      "id": "jf7AE8PPds8O",
      "execution_count": 87,
      "outputs": [
        {
          "output_type": "execute_result",
          "data": {
            "text/plain": [
              "<tf.Tensor: shape=(100,), dtype=float64, numpy=\n",
              "array([0.13619396, 0.68662567, 0.85210579, 0.66428239, 0.10083165,\n",
              "       0.28222641, 0.0573474 , 0.43871799, 0.16579099, 0.60528097,\n",
              "       0.43889998, 0.24776843, 0.04759674, 0.18763038, 0.29819134,\n",
              "       0.19173086, 0.09231842, 0.94724775, 0.39964721, 0.21941207,\n",
              "       0.90011493, 0.80133866, 0.56854898, 0.54297448, 0.07078954,\n",
              "       0.66757181, 0.54950583, 0.33992864, 0.98695633, 0.23423595,\n",
              "       0.5962581 , 0.21671092, 0.40001196, 0.15145129, 0.06231578,\n",
              "       0.2737713 , 0.55205261, 0.3526004 , 0.9370059 , 0.11732856,\n",
              "       0.10367919, 0.29028459, 0.7956425 , 0.5638379 , 0.2334701 ,\n",
              "       0.12056207, 0.80910281, 0.25239123, 0.46641207, 0.85559679,\n",
              "       0.96412437, 0.14146348, 0.76714397, 0.21412849, 0.1656685 ,\n",
              "       0.59023797, 0.02120483, 0.54763528, 0.48301645, 0.93978085,\n",
              "       0.24767429, 0.431601  , 0.94387334, 0.71075036, 0.15894802,\n",
              "       0.72631239, 0.922912  , 0.32034267, 0.56508863, 0.28798001,\n",
              "       0.71969346, 0.180157  , 0.13925175, 0.86178083, 0.55681744,\n",
              "       0.81768756, 0.7877555 , 0.9470291 , 0.80043339, 0.85963164,\n",
              "       0.08778238, 0.90592949, 0.40490105, 0.873341  , 0.27115588,\n",
              "       0.60146896, 0.45301559, 0.13021454, 0.23895732, 0.51421762,\n",
              "       0.18332938, 0.0767519 , 0.133566  , 0.76716202, 0.61140855,\n",
              "       0.34865738, 0.01450244, 0.60355188, 0.88868539, 0.32121081])>"
            ]
          },
          "metadata": {
            "tags": []
          },
          "execution_count": 87
        }
      ]
    },
    {
      "cell_type": "code",
      "metadata": {
        "id": "1954957a-48c4-438f-b411-cc9c97290d24",
        "outputId": "bb6a47d5-7a1d-477c-814e-67da25a2f12c"
      },
      "source": [
        "#trouver la position de l'élément maximum\n"
      ],
      "id": "1954957a-48c4-438f-b411-cc9c97290d24",
      "execution_count": null,
      "outputs": [
        {
          "output_type": "execute_result",
          "data": {
            "text/plain": [
              "<tf.Tensor: shape=(), dtype=int64, numpy=73>"
            ]
          },
          "metadata": {
            "tags": []
          },
          "execution_count": 71
        }
      ]
    },
    {
      "cell_type": "code",
      "metadata": {
        "colab": {
          "base_uri": "https://localhost:8080/"
        },
        "id": "QOaqlqUxeVEz",
        "outputId": "d61b90b3-7cd1-4b05-ba23-e789f32e813e"
      },
      "source": [
        "tf.argmax(tenseur)"
      ],
      "id": "QOaqlqUxeVEz",
      "execution_count": 88,
      "outputs": [
        {
          "output_type": "execute_result",
          "data": {
            "text/plain": [
              "<tf.Tensor: shape=(), dtype=int64, numpy=28>"
            ]
          },
          "metadata": {
            "tags": []
          },
          "execution_count": 88
        }
      ]
    },
    {
      "cell_type": "code",
      "metadata": {
        "id": "57bfeeb6-5a92-497b-8e27-9e75bd423f5b",
        "outputId": "b5b0668d-8f3d-4f14-a671-f3c7d259dde6"
      },
      "source": [
        "#trouver la position de l'élément minimum\n"
      ],
      "id": "57bfeeb6-5a92-497b-8e27-9e75bd423f5b",
      "execution_count": null,
      "outputs": [
        {
          "output_type": "execute_result",
          "data": {
            "text/plain": [
              "<tf.Tensor: shape=(), dtype=int64, numpy=65>"
            ]
          },
          "metadata": {
            "tags": []
          },
          "execution_count": 72
        }
      ]
    },
    {
      "cell_type": "code",
      "metadata": {
        "colab": {
          "base_uri": "https://localhost:8080/"
        },
        "id": "HyKeJtiZeg2e",
        "outputId": "4e003258-c41a-4801-f3e0-2bd2e7a580cd"
      },
      "source": [
        "tf.argmin(tenseur)"
      ],
      "id": "HyKeJtiZeg2e",
      "execution_count": 90,
      "outputs": [
        {
          "output_type": "execute_result",
          "data": {
            "text/plain": [
              "<tf.Tensor: shape=(), dtype=int64, numpy=96>"
            ]
          },
          "metadata": {
            "tags": []
          },
          "execution_count": 90
        }
      ]
    },
    {
      "cell_type": "code",
      "metadata": {
        "id": "cba3983c-1849-4562-a9e5-06883e486d56",
        "outputId": "e831abf3-1477-4e76-88a6-8a9e3405f519"
      },
      "source": [
        "print(\"La valeur maximale du tenseur est à la position : {}\".format() \n",
        "print(f\"La valeur maximale du tenseur est (avec tf.reduce_max) : {}\") \n",
        "print(f\"La valeur maximale du tenseur est (avec tf.argmax): {}\")\n",
        "print(f\"Les 2 valeurs max sont-elles égales (elles devraient l'être) ? { == }\")"
      ],
      "id": "cba3983c-1849-4562-a9e5-06883e486d56",
      "execution_count": null,
      "outputs": [
        {
          "output_type": "stream",
          "text": [
            "La valeur maximale du tenseur est à la position : 73\n",
            "La valeur maximale du tenseur est : 0.9741631681744679\n",
            "La valeur maximale du tenseur est : 0.9741631681744679\n",
            "Les 2 valeurs max sont-elles égales (elles devraient l'être) ? True\n"
          ],
          "name": "stdout"
        }
      ]
    },
    {
      "cell_type": "code",
      "metadata": {
        "colab": {
          "base_uri": "https://localhost:8080/"
        },
        "id": "n2wuTgw7elNG",
        "outputId": "2dc73500-2e2d-4f5a-f8d4-528abaa77bbb"
      },
      "source": [
        "print(f\"La valeur maximale du tenseur est à la position : {tf.argmax(tenseur)}\")\n",
        "print(f\"La valeur maximale du tenseur est (avec tf.reduce_max) : {tf.reduce_max(tenseur)}\") \n",
        "print(f\"La valeur maximale du tenseur est (avec tf.argmax): {tenseur[tf.argmax(tenseur)]}\")\n",
        "print(f\"Les 2 valeurs max sont-elles égales (elles devraient l'être) ? { tf.reduce_max(tenseur) == tenseur[tf.argmax(tenseur)]}\")"
      ],
      "id": "n2wuTgw7elNG",
      "execution_count": 94,
      "outputs": [
        {
          "output_type": "stream",
          "text": [
            "La valeur maximale du tenseur est à la position : 28\n",
            "La valeur maximale du tenseur est (avec tf.reduce_max) : 0.986956328239677\n",
            "La valeur maximale du tenseur est (avec tf.argmax): 0.986956328239677\n",
            "Les 2 valeurs max sont-elles égales (elles devraient l'être) ? True\n"
          ],
          "name": "stdout"
        }
      ]
    },
    {
      "cell_type": "markdown",
      "metadata": {
        "id": "870a60d0-fcd3-4999-9ae6-fe417f5e58ac"
      },
      "source": [
        "### 2.7. \"Restreindre\" un tenseur (supprimer toutes les dimensions unitaires)\n",
        "\n",
        "Si vous souhaitez supprimer les dimensions de taille 1, vous pouvez utiliser `tf.squeeze()` .\n",
        "\n",
        "Prenons l'exemple d'un tenseur de forme `(1,1,20,1)` et de 20 valeurs aléatoires comprises entre 0 et 100 :"
      ],
      "id": "870a60d0-fcd3-4999-9ae6-fe417f5e58ac"
    },
    {
      "cell_type": "code",
      "metadata": {
        "id": "d0477329-2376-40da-81c2-739840c5dffd",
        "outputId": "85195df9-9212-40c5-f54e-1edbd008978f"
      },
      "source": [
        "tenseur = \n",
        "tenseur, tenseur.shape, tenseur.ndim"
      ],
      "id": "d0477329-2376-40da-81c2-739840c5dffd",
      "execution_count": null,
      "outputs": [
        {
          "output_type": "execute_result",
          "data": {
            "text/plain": [
              "(<tf.Tensor: shape=(1, 1, 1, 20, 1), dtype=int32, numpy=\n",
              " array([[[[[77],\n",
              "           [ 6],\n",
              "           [62],\n",
              "           [11],\n",
              "           [77],\n",
              "           [61],\n",
              "           [88],\n",
              "           [90],\n",
              "           [38],\n",
              "           [81],\n",
              "           [55],\n",
              "           [83],\n",
              "           [27],\n",
              "           [ 1],\n",
              "           [40],\n",
              "           [57],\n",
              "           [29],\n",
              "           [ 3],\n",
              "           [64],\n",
              "           [43]]]]])>,\n",
              " TensorShape([1, 1, 1, 20, 1]),\n",
              " 5)"
            ]
          },
          "metadata": {
            "tags": []
          },
          "execution_count": 74
        }
      ]
    },
    {
      "cell_type": "code",
      "metadata": {
        "colab": {
          "base_uri": "https://localhost:8080/"
        },
        "id": "uKt4sHUtfSSs",
        "outputId": "b29c7569-af50-4ffd-c5ed-fcd69640a4db"
      },
      "source": [
        "tenseur = tf.constant([[[[[77],\n",
        "           [ 6],\n",
        "           [62],\n",
        "           [11],\n",
        "           [77],\n",
        "           [61],\n",
        "           [88],\n",
        "           [90],\n",
        "           [38],\n",
        "           [81],\n",
        "           [55],\n",
        "           [83],\n",
        "           [27],\n",
        "           [ 1],\n",
        "           [40],\n",
        "           [57],\n",
        "           [29],\n",
        "           [ 3],\n",
        "           [64],\n",
        "           [43]]]]])\n",
        "tenseur, tenseur.shape, tenseur.ndim"
      ],
      "id": "uKt4sHUtfSSs",
      "execution_count": 95,
      "outputs": [
        {
          "output_type": "execute_result",
          "data": {
            "text/plain": [
              "(<tf.Tensor: shape=(1, 1, 1, 20, 1), dtype=int32, numpy=\n",
              " array([[[[[77],\n",
              "           [ 6],\n",
              "           [62],\n",
              "           [11],\n",
              "           [77],\n",
              "           [61],\n",
              "           [88],\n",
              "           [90],\n",
              "           [38],\n",
              "           [81],\n",
              "           [55],\n",
              "           [83],\n",
              "           [27],\n",
              "           [ 1],\n",
              "           [40],\n",
              "           [57],\n",
              "           [29],\n",
              "           [ 3],\n",
              "           [64],\n",
              "           [43]]]]], dtype=int32)>, TensorShape([1, 1, 1, 20, 1]), 5)"
            ]
          },
          "metadata": {
            "tags": []
          },
          "execution_count": 95
        }
      ]
    },
    {
      "cell_type": "code",
      "metadata": {
        "id": "2e8c4ad1-4dc4-4bf4-9f8e-8d04d0e33858",
        "outputId": "c85e78d0-5aaa-48e5-97fb-1aa67dd87405"
      },
      "source": [
        "tenseur_restreint = tf.squeeze(tenseur)\n",
        "tenseur_restreint, tenseur_restreint.shape, tenseur_restreint.ndim"
      ],
      "id": "2e8c4ad1-4dc4-4bf4-9f8e-8d04d0e33858",
      "execution_count": null,
      "outputs": [
        {
          "output_type": "execute_result",
          "data": {
            "text/plain": [
              "(<tf.Tensor: shape=(20,), dtype=int32, numpy=\n",
              " array([77,  6, 62, 11, 77, 61, 88, 90, 38, 81, 55, 83, 27,  1, 40, 57, 29,\n",
              "         3, 64, 43])>,\n",
              " TensorShape([20]),\n",
              " 1)"
            ]
          },
          "metadata": {
            "tags": []
          },
          "execution_count": 75
        }
      ]
    },
    {
      "cell_type": "code",
      "metadata": {
        "colab": {
          "base_uri": "https://localhost:8080/"
        },
        "id": "kQaYp8a1flBU",
        "outputId": "5c8e13ad-97c5-4409-91e6-9ba3ce052b18"
      },
      "source": [
        "tenseur_restreint = tf.squeeze(tenseur)\n",
        "tenseur_restreint, tenseur_restreint.shape, tenseur_restreint.ndim"
      ],
      "id": "kQaYp8a1flBU",
      "execution_count": 96,
      "outputs": [
        {
          "output_type": "execute_result",
          "data": {
            "text/plain": [
              "(<tf.Tensor: shape=(20,), dtype=int32, numpy=\n",
              " array([77,  6, 62, 11, 77, 61, 88, 90, 38, 81, 55, 83, 27,  1, 40, 57, 29,\n",
              "         3, 64, 43], dtype=int32)>, TensorShape([20]), 1)"
            ]
          },
          "metadata": {
            "tags": []
          },
          "execution_count": 96
        }
      ]
    },
    {
      "cell_type": "markdown",
      "metadata": {
        "id": "692d61a6-5f76-4871-8e9b-42460643c205"
      },
      "source": [
        "### 2.8. One-hot encoding\n",
        "\n",
        "Si vous souhaitez transformer un tenseur d'indices en un tenseur \"binaire\" (chaque valeur d'indice aura sa modalité propre), vous pouvez utiliser `tf.one_hot()` .\n",
        "\n",
        "Vous pourrez spécifier le paramètre `depth` (indique le niveau jusqu'où vous souhaitez encoder).\n",
        "\n",
        "Testons cette fonction sur une liste triviale d'indices (avec `depth=4`) :"
      ],
      "id": "692d61a6-5f76-4871-8e9b-42460643c205"
    },
    {
      "cell_type": "code",
      "metadata": {
        "id": "082480fc-f76a-4297-97c7-ac52e9560ccb",
        "outputId": "c76cd953-5f6e-41c6-f3f5-02690ae1ccb2"
      },
      "source": [
        "ma_liste = [0, 1, 2, 3, 2]\n",
        "\n",
        "# One hot encoding\n"
      ],
      "id": "082480fc-f76a-4297-97c7-ac52e9560ccb",
      "execution_count": null,
      "outputs": [
        {
          "output_type": "execute_result",
          "data": {
            "text/plain": [
              "<tf.Tensor: shape=(5, 4), dtype=float32, numpy=\n",
              "array([[1., 0., 0., 0.],\n",
              "       [0., 1., 0., 0.],\n",
              "       [0., 0., 1., 0.],\n",
              "       [0., 0., 0., 1.],\n",
              "       [0., 0., 1., 0.]], dtype=float32)>"
            ]
          },
          "metadata": {
            "tags": []
          },
          "execution_count": 76
        }
      ]
    },
    {
      "cell_type": "code",
      "metadata": {
        "colab": {
          "base_uri": "https://localhost:8080/"
        },
        "id": "6iaeQKYphw4Y",
        "outputId": "0dd635a2-0252-43cc-b8ff-f4d2c5dedbc3"
      },
      "source": [
        "ma_liste = [0, 1, 2, 3, 2]\n",
        "tf.one_hot(ma_liste, 4)"
      ],
      "id": "6iaeQKYphw4Y",
      "execution_count": 97,
      "outputs": [
        {
          "output_type": "execute_result",
          "data": {
            "text/plain": [
              "<tf.Tensor: shape=(5, 4), dtype=float32, numpy=\n",
              "array([[1., 0., 0., 0.],\n",
              "       [0., 1., 0., 0.],\n",
              "       [0., 0., 1., 0.],\n",
              "       [0., 0., 0., 1.],\n",
              "       [0., 0., 1., 0.]], dtype=float32)>"
            ]
          },
          "metadata": {
            "tags": []
          },
          "execution_count": 97
        }
      ]
    },
    {
      "cell_type": "markdown",
      "metadata": {
        "id": "966c9a96-cc1f-4dc3-a4dc-432281cef63c"
      },
      "source": [
        "Vous pouvez aussi spécifier des valeurs pour les paramètres `on_value` et `off_value` au lieu des valeurs par défaut `1` et `0` :"
      ],
      "id": "966c9a96-cc1f-4dc3-a4dc-432281cef63c"
    },
    {
      "cell_type": "code",
      "metadata": {
        "id": "79aed0c9-dc8a-4ddd-a1c2-f3e6efff22ae",
        "colab": {
          "base_uri": "https://localhost:8080/"
        },
        "outputId": "52e212d4-3273-40b1-b7ef-8cafdc5f3888"
      },
      "source": [
        "ma_liste = [0, 1, 2, 3, 2]\n",
        "tf.one_hot(ma_liste, 4, \"oui\", \"non\")"
      ],
      "id": "79aed0c9-dc8a-4ddd-a1c2-f3e6efff22ae",
      "execution_count": 99,
      "outputs": [
        {
          "output_type": "execute_result",
          "data": {
            "text/plain": [
              "<tf.Tensor: shape=(5, 4), dtype=string, numpy=\n",
              "array([[b'oui', b'non', b'non', b'non'],\n",
              "       [b'non', b'oui', b'non', b'non'],\n",
              "       [b'non', b'non', b'oui', b'non'],\n",
              "       [b'non', b'non', b'non', b'oui'],\n",
              "       [b'non', b'non', b'oui', b'non']], dtype=object)>"
            ]
          },
          "metadata": {
            "tags": []
          },
          "execution_count": 99
        }
      ]
    },
    {
      "cell_type": "markdown",
      "metadata": {
        "id": "d2995159-9dd2-4e88-abcb-737fc9613504"
      },
      "source": [
        "### 2.9. Autres fonctions utiles\n",
        "\n",
        "Beaucoup d'autres fonctions mathématiques courantes existent également pour les tenseurs.\n",
        "\n",
        "Nous allons par exemple regarder :\n",
        "- `tf.square()` : calcule le carré de tous les éléments du tenseur\n",
        "- `tf.sqrt()` : calcule la racine carré de tous les éléments du tenseur (les éléments du tenseur doivent être de type `float`)\n",
        "- `tf.math.log()` : calcule le logarithme de tous les éléments du tenseur (les éléments du tenseur doivent ici aussi être de type `float`)\n",
        "\n",
        "Nous allons créer un nouveau tenseur pour tester ces trois fonctions :"
      ],
      "id": "d2995159-9dd2-4e88-abcb-737fc9613504"
    },
    {
      "cell_type": "code",
      "metadata": {
        "id": "e52137c2-7447-4023-8269-b9acb882813f",
        "outputId": "21c10bb0-a4d3-49b6-dd89-b111214478bc"
      },
      "source": [
        "tenseur = tf.constant(np.arange(1,20))\n",
        "tenseur"
      ],
      "id": "e52137c2-7447-4023-8269-b9acb882813f",
      "execution_count": null,
      "outputs": [
        {
          "output_type": "execute_result",
          "data": {
            "text/plain": [
              "<tf.Tensor: shape=(19,), dtype=int32, numpy=\n",
              "array([ 1,  2,  3,  4,  5,  6,  7,  8,  9, 10, 11, 12, 13, 14, 15, 16, 17,\n",
              "       18, 19])>"
            ]
          },
          "metadata": {
            "tags": []
          },
          "execution_count": 78
        }
      ]
    },
    {
      "cell_type": "code",
      "metadata": {
        "colab": {
          "base_uri": "https://localhost:8080/"
        },
        "id": "AoreGuZViNG-",
        "outputId": "b4133aa0-0c31-4c29-8a99-9f80f5e16fe4"
      },
      "source": [
        "tenseur = tf.constant(np.arange(1,20))\n",
        "tenseur"
      ],
      "id": "AoreGuZViNG-",
      "execution_count": 100,
      "outputs": [
        {
          "output_type": "execute_result",
          "data": {
            "text/plain": [
              "<tf.Tensor: shape=(19,), dtype=int64, numpy=\n",
              "array([ 1,  2,  3,  4,  5,  6,  7,  8,  9, 10, 11, 12, 13, 14, 15, 16, 17,\n",
              "       18, 19])>"
            ]
          },
          "metadata": {
            "tags": []
          },
          "execution_count": 100
        }
      ]
    },
    {
      "cell_type": "code",
      "metadata": {
        "id": "84a5538b-cace-457e-976d-85be02f5c506",
        "outputId": "1d8a85c7-05ff-4d3d-ccc9-9f54dc9d6aec"
      },
      "source": [
        "#carré\n"
      ],
      "id": "84a5538b-cace-457e-976d-85be02f5c506",
      "execution_count": null,
      "outputs": [
        {
          "output_type": "execute_result",
          "data": {
            "text/plain": [
              "<tf.Tensor: shape=(19,), dtype=int32, numpy=\n",
              "array([  1,   4,   9,  16,  25,  36,  49,  64,  81, 100, 121, 144, 169,\n",
              "       196, 225, 256, 289, 324, 361])>"
            ]
          },
          "metadata": {
            "tags": []
          },
          "execution_count": 79
        }
      ]
    },
    {
      "cell_type": "code",
      "metadata": {
        "colab": {
          "base_uri": "https://localhost:8080/"
        },
        "id": "E-EhXAPUiQHb",
        "outputId": "18d229e2-2e07-4b74-d6e7-7688bea362ac"
      },
      "source": [
        "tf.square(tenseur)"
      ],
      "id": "E-EhXAPUiQHb",
      "execution_count": 101,
      "outputs": [
        {
          "output_type": "execute_result",
          "data": {
            "text/plain": [
              "<tf.Tensor: shape=(19,), dtype=int64, numpy=\n",
              "array([  1,   4,   9,  16,  25,  36,  49,  64,  81, 100, 121, 144, 169,\n",
              "       196, 225, 256, 289, 324, 361])>"
            ]
          },
          "metadata": {
            "tags": []
          },
          "execution_count": 101
        }
      ]
    },
    {
      "cell_type": "code",
      "metadata": {
        "id": "bea7430f-691c-42ca-ad4a-36c48767ba41",
        "outputId": "85b25e4d-c95a-4bed-b051-89496e3debc6"
      },
      "source": [
        "#racine carré\n"
      ],
      "id": "bea7430f-691c-42ca-ad4a-36c48767ba41",
      "execution_count": null,
      "outputs": [
        {
          "output_type": "error",
          "ename": "InvalidArgumentError",
          "evalue": "Value for attr 'T' of int32 is not in the list of allowed values: bfloat16, half, float, double, complex64, complex128\n\t; NodeDef: {{node Sqrt}}; Op<name=Sqrt; signature=x:T -> y:T; attr=T:type,allowed=[DT_BFLOAT16, DT_HALF, DT_FLOAT, DT_DOUBLE, DT_COMPLEX64, DT_COMPLEX128]> [Op:Sqrt]",
          "traceback": [
            "\u001b[1;31m---------------------------------------------------------------------------\u001b[0m",
            "\u001b[1;31mInvalidArgumentError\u001b[0m                      Traceback (most recent call last)",
            "\u001b[1;32m<ipython-input-80-94813b2d163a>\u001b[0m in \u001b[0;36m<module>\u001b[1;34m\u001b[0m\n\u001b[0;32m      1\u001b[0m \u001b[1;31m#racine carré\u001b[0m\u001b[1;33m\u001b[0m\u001b[1;33m\u001b[0m\u001b[1;33m\u001b[0m\u001b[0m\n\u001b[1;32m----> 2\u001b[1;33m \u001b[0mtf\u001b[0m\u001b[1;33m.\u001b[0m\u001b[0msqrt\u001b[0m\u001b[1;33m(\u001b[0m\u001b[0mtenseur\u001b[0m\u001b[1;33m)\u001b[0m\u001b[1;33m\u001b[0m\u001b[1;33m\u001b[0m\u001b[0m\n\u001b[0m",
            "\u001b[1;32mC:\\ProgramData\\Anaconda3\\envs\\myenv\\lib\\site-packages\\tensorflow\\python\\util\\dispatch.py\u001b[0m in \u001b[0;36mwrapper\u001b[1;34m(*args, **kwargs)\u001b[0m\n\u001b[0;32m    199\u001b[0m     \u001b[1;34m\"\"\"Call target, and fall back on dispatchers if there is a TypeError.\"\"\"\u001b[0m\u001b[1;33m\u001b[0m\u001b[1;33m\u001b[0m\u001b[0m\n\u001b[0;32m    200\u001b[0m     \u001b[1;32mtry\u001b[0m\u001b[1;33m:\u001b[0m\u001b[1;33m\u001b[0m\u001b[1;33m\u001b[0m\u001b[0m\n\u001b[1;32m--> 201\u001b[1;33m       \u001b[1;32mreturn\u001b[0m \u001b[0mtarget\u001b[0m\u001b[1;33m(\u001b[0m\u001b[1;33m*\u001b[0m\u001b[0margs\u001b[0m\u001b[1;33m,\u001b[0m \u001b[1;33m**\u001b[0m\u001b[0mkwargs\u001b[0m\u001b[1;33m)\u001b[0m\u001b[1;33m\u001b[0m\u001b[1;33m\u001b[0m\u001b[0m\n\u001b[0m\u001b[0;32m    202\u001b[0m     \u001b[1;32mexcept\u001b[0m \u001b[1;33m(\u001b[0m\u001b[0mTypeError\u001b[0m\u001b[1;33m,\u001b[0m \u001b[0mValueError\u001b[0m\u001b[1;33m)\u001b[0m\u001b[1;33m:\u001b[0m\u001b[1;33m\u001b[0m\u001b[1;33m\u001b[0m\u001b[0m\n\u001b[0;32m    203\u001b[0m       \u001b[1;31m# Note: convert_to_eager_tensor currently raises a ValueError, not a\u001b[0m\u001b[1;33m\u001b[0m\u001b[1;33m\u001b[0m\u001b[1;33m\u001b[0m\u001b[0m\n",
            "\u001b[1;32mC:\\ProgramData\\Anaconda3\\envs\\myenv\\lib\\site-packages\\tensorflow\\python\\ops\\math_ops.py\u001b[0m in \u001b[0;36msqrt\u001b[1;34m(x, name)\u001b[0m\n\u001b[0;32m   4771\u001b[0m     \u001b[0mA\u001b[0m\u001b[0;31m \u001b[0m\u001b[0;31m`\u001b[0m\u001b[0mtf\u001b[0m\u001b[1;33m.\u001b[0m\u001b[0mTensor\u001b[0m\u001b[0;31m`\u001b[0m \u001b[0mof\u001b[0m \u001b[0msame\u001b[0m \u001b[0msize\u001b[0m\u001b[1;33m,\u001b[0m \u001b[0mtype\u001b[0m \u001b[1;32mand\u001b[0m \u001b[0msparsity\u001b[0m \u001b[1;32mas\u001b[0m\u001b[0;31m \u001b[0m\u001b[0;31m`\u001b[0m\u001b[0mx\u001b[0m\u001b[0;31m`\u001b[0m\u001b[1;33m.\u001b[0m\u001b[1;33m\u001b[0m\u001b[1;33m\u001b[0m\u001b[0m\n\u001b[0;32m   4772\u001b[0m   \"\"\"\n\u001b[1;32m-> 4773\u001b[1;33m   \u001b[1;32mreturn\u001b[0m \u001b[0mgen_math_ops\u001b[0m\u001b[1;33m.\u001b[0m\u001b[0msqrt\u001b[0m\u001b[1;33m(\u001b[0m\u001b[0mx\u001b[0m\u001b[1;33m,\u001b[0m \u001b[0mname\u001b[0m\u001b[1;33m)\u001b[0m\u001b[1;33m\u001b[0m\u001b[1;33m\u001b[0m\u001b[0m\n\u001b[0m\u001b[0;32m   4774\u001b[0m \u001b[1;33m\u001b[0m\u001b[0m\n\u001b[0;32m   4775\u001b[0m \u001b[1;33m\u001b[0m\u001b[0m\n",
            "\u001b[1;32mC:\\ProgramData\\Anaconda3\\envs\\myenv\\lib\\site-packages\\tensorflow\\python\\ops\\gen_math_ops.py\u001b[0m in \u001b[0;36msqrt\u001b[1;34m(x, name)\u001b[0m\n\u001b[0;32m  10179\u001b[0m       \u001b[1;32mreturn\u001b[0m \u001b[0m_result\u001b[0m\u001b[1;33m\u001b[0m\u001b[1;33m\u001b[0m\u001b[0m\n\u001b[0;32m  10180\u001b[0m     \u001b[1;32mexcept\u001b[0m \u001b[0m_core\u001b[0m\u001b[1;33m.\u001b[0m\u001b[0m_NotOkStatusException\u001b[0m \u001b[1;32mas\u001b[0m \u001b[0me\u001b[0m\u001b[1;33m:\u001b[0m\u001b[1;33m\u001b[0m\u001b[1;33m\u001b[0m\u001b[0m\n\u001b[1;32m> 10181\u001b[1;33m       \u001b[0m_ops\u001b[0m\u001b[1;33m.\u001b[0m\u001b[0mraise_from_not_ok_status\u001b[0m\u001b[1;33m(\u001b[0m\u001b[0me\u001b[0m\u001b[1;33m,\u001b[0m \u001b[0mname\u001b[0m\u001b[1;33m)\u001b[0m\u001b[1;33m\u001b[0m\u001b[1;33m\u001b[0m\u001b[0m\n\u001b[0m\u001b[0;32m  10182\u001b[0m     \u001b[1;32mexcept\u001b[0m \u001b[0m_core\u001b[0m\u001b[1;33m.\u001b[0m\u001b[0m_FallbackException\u001b[0m\u001b[1;33m:\u001b[0m\u001b[1;33m\u001b[0m\u001b[1;33m\u001b[0m\u001b[0m\n\u001b[0;32m  10183\u001b[0m       \u001b[1;32mpass\u001b[0m\u001b[1;33m\u001b[0m\u001b[1;33m\u001b[0m\u001b[0m\n",
            "\u001b[1;32mC:\\ProgramData\\Anaconda3\\envs\\myenv\\lib\\site-packages\\tensorflow\\python\\framework\\ops.py\u001b[0m in \u001b[0;36mraise_from_not_ok_status\u001b[1;34m(e, name)\u001b[0m\n\u001b[0;32m   6841\u001b[0m   \u001b[0mmessage\u001b[0m \u001b[1;33m=\u001b[0m \u001b[0me\u001b[0m\u001b[1;33m.\u001b[0m\u001b[0mmessage\u001b[0m \u001b[1;33m+\u001b[0m \u001b[1;33m(\u001b[0m\u001b[1;34m\" name: \"\u001b[0m \u001b[1;33m+\u001b[0m \u001b[0mname\u001b[0m \u001b[1;32mif\u001b[0m \u001b[0mname\u001b[0m \u001b[1;32mis\u001b[0m \u001b[1;32mnot\u001b[0m \u001b[1;32mNone\u001b[0m \u001b[1;32melse\u001b[0m \u001b[1;34m\"\"\u001b[0m\u001b[1;33m)\u001b[0m\u001b[1;33m\u001b[0m\u001b[1;33m\u001b[0m\u001b[0m\n\u001b[0;32m   6842\u001b[0m   \u001b[1;31m# pylint: disable=protected-access\u001b[0m\u001b[1;33m\u001b[0m\u001b[1;33m\u001b[0m\u001b[1;33m\u001b[0m\u001b[0m\n\u001b[1;32m-> 6843\u001b[1;33m   \u001b[0msix\u001b[0m\u001b[1;33m.\u001b[0m\u001b[0mraise_from\u001b[0m\u001b[1;33m(\u001b[0m\u001b[0mcore\u001b[0m\u001b[1;33m.\u001b[0m\u001b[0m_status_to_exception\u001b[0m\u001b[1;33m(\u001b[0m\u001b[0me\u001b[0m\u001b[1;33m.\u001b[0m\u001b[0mcode\u001b[0m\u001b[1;33m,\u001b[0m \u001b[0mmessage\u001b[0m\u001b[1;33m)\u001b[0m\u001b[1;33m,\u001b[0m \u001b[1;32mNone\u001b[0m\u001b[1;33m)\u001b[0m\u001b[1;33m\u001b[0m\u001b[1;33m\u001b[0m\u001b[0m\n\u001b[0m\u001b[0;32m   6844\u001b[0m   \u001b[1;31m# pylint: enable=protected-access\u001b[0m\u001b[1;33m\u001b[0m\u001b[1;33m\u001b[0m\u001b[1;33m\u001b[0m\u001b[0m\n\u001b[0;32m   6845\u001b[0m \u001b[1;33m\u001b[0m\u001b[0m\n",
            "\u001b[1;32mC:\\ProgramData\\Anaconda3\\envs\\myenv\\lib\\site-packages\\six.py\u001b[0m in \u001b[0;36mraise_from\u001b[1;34m(value, from_value)\u001b[0m\n",
            "\u001b[1;31mInvalidArgumentError\u001b[0m: Value for attr 'T' of int32 is not in the list of allowed values: bfloat16, half, float, double, complex64, complex128\n\t; NodeDef: {{node Sqrt}}; Op<name=Sqrt; signature=x:T -> y:T; attr=T:type,allowed=[DT_BFLOAT16, DT_HALF, DT_FLOAT, DT_DOUBLE, DT_COMPLEX64, DT_COMPLEX128]> [Op:Sqrt]"
          ]
        }
      ]
    },
    {
      "cell_type": "markdown",
      "metadata": {
        "id": "5c6b6ced-9f16-42be-a068-e3897aa95a73"
      },
      "source": [
        "Comme précisé plus haut, nous devons changer le datatype du tenseur pour pouvoir appliquer la fonction racine carré :"
      ],
      "id": "5c6b6ced-9f16-42be-a068-e3897aa95a73"
    },
    {
      "cell_type": "code",
      "metadata": {
        "id": "216eddab-c6fc-45d3-8b26-86b6f7d76e80",
        "outputId": "f21dd7ad-887d-4d29-e82c-0c68bb16ac04"
      },
      "source": [
        "tenseur = \n",
        "tenseur"
      ],
      "id": "216eddab-c6fc-45d3-8b26-86b6f7d76e80",
      "execution_count": null,
      "outputs": [
        {
          "output_type": "execute_result",
          "data": {
            "text/plain": [
              "<tf.Tensor: shape=(19,), dtype=float32, numpy=\n",
              "array([ 1.,  2.,  3.,  4.,  5.,  6.,  7.,  8.,  9., 10., 11., 12., 13.,\n",
              "       14., 15., 16., 17., 18., 19.], dtype=float32)>"
            ]
          },
          "metadata": {
            "tags": []
          },
          "execution_count": 81
        }
      ]
    },
    {
      "cell_type": "code",
      "metadata": {
        "colab": {
          "base_uri": "https://localhost:8080/"
        },
        "id": "08aOXU7titZS",
        "outputId": "30d8f369-1273-4f5b-be1b-32b590fa1615"
      },
      "source": [
        "tenseur = tf.cast(tenseur, \"float32\")\n",
        "tenseur"
      ],
      "id": "08aOXU7titZS",
      "execution_count": 106,
      "outputs": [
        {
          "output_type": "execute_result",
          "data": {
            "text/plain": [
              "<tf.Tensor: shape=(19,), dtype=float32, numpy=\n",
              "array([ 1.,  2.,  3.,  4.,  5.,  6.,  7.,  8.,  9., 10., 11., 12., 13.,\n",
              "       14., 15., 16., 17., 18., 19.], dtype=float32)>"
            ]
          },
          "metadata": {
            "tags": []
          },
          "execution_count": 106
        }
      ]
    },
    {
      "cell_type": "code",
      "metadata": {
        "id": "4a6200bf-5bc7-4170-a0ee-d62ac447ec6c",
        "outputId": "6c5d7bd0-4537-4e8b-968e-ca2f38af0226"
      },
      "source": [
        "#racine carré\n"
      ],
      "id": "4a6200bf-5bc7-4170-a0ee-d62ac447ec6c",
      "execution_count": null,
      "outputs": [
        {
          "output_type": "execute_result",
          "data": {
            "text/plain": [
              "<tf.Tensor: shape=(19,), dtype=float32, numpy=\n",
              "array([1.       , 1.4142135, 1.7320508, 2.       , 2.236068 , 2.4494898,\n",
              "       2.6457512, 2.828427 , 3.       , 3.162278 , 3.3166249, 3.4641016,\n",
              "       3.6055512, 3.7416573, 3.8729832, 4.       , 4.1231055, 4.2426405,\n",
              "       4.358899 ], dtype=float32)>"
            ]
          },
          "metadata": {
            "tags": []
          },
          "execution_count": 82
        }
      ]
    },
    {
      "cell_type": "code",
      "metadata": {
        "colab": {
          "base_uri": "https://localhost:8080/"
        },
        "id": "5fFufRsGi2Df",
        "outputId": "51ab2328-ab0e-494e-e0b1-e5ba44c7299e"
      },
      "source": [
        "tf.sqrt(tenseur)"
      ],
      "id": "5fFufRsGi2Df",
      "execution_count": 107,
      "outputs": [
        {
          "output_type": "execute_result",
          "data": {
            "text/plain": [
              "<tf.Tensor: shape=(19,), dtype=float32, numpy=\n",
              "array([1.       , 1.4142135, 1.7320508, 2.       , 2.236068 , 2.4494898,\n",
              "       2.6457512, 2.828427 , 3.       , 3.162278 , 3.3166249, 3.4641016,\n",
              "       3.6055512, 3.7416573, 3.8729832, 4.       , 4.1231055, 4.2426405,\n",
              "       4.358899 ], dtype=float32)>"
            ]
          },
          "metadata": {
            "tags": []
          },
          "execution_count": 107
        }
      ]
    },
    {
      "cell_type": "code",
      "metadata": {
        "id": "e6b99421-fdcc-4e3f-a9e1-5af5d93e669b",
        "outputId": "05f8ce6f-28da-4797-a018-63078fcc9abd"
      },
      "source": [
        "#log\n"
      ],
      "id": "e6b99421-fdcc-4e3f-a9e1-5af5d93e669b",
      "execution_count": null,
      "outputs": [
        {
          "output_type": "execute_result",
          "data": {
            "text/plain": [
              "<tf.Tensor: shape=(19,), dtype=float32, numpy=\n",
              "array([0.       , 0.6931472, 1.0986123, 1.3862944, 1.609438 , 1.7917595,\n",
              "       1.9459102, 2.0794415, 2.1972246, 2.3025851, 2.3978953, 2.4849067,\n",
              "       2.5649493, 2.6390574, 2.7080503, 2.7725887, 2.8332133, 2.8903718,\n",
              "       2.944439 ], dtype=float32)>"
            ]
          },
          "metadata": {
            "tags": []
          },
          "execution_count": 83
        }
      ]
    },
    {
      "cell_type": "code",
      "metadata": {
        "colab": {
          "base_uri": "https://localhost:8080/"
        },
        "id": "Mx3ks0wXi5U0",
        "outputId": "6806cc19-bb83-4230-843b-ebfd583dbf91"
      },
      "source": [
        "tf.math.log(tenseur)"
      ],
      "id": "Mx3ks0wXi5U0",
      "execution_count": 108,
      "outputs": [
        {
          "output_type": "execute_result",
          "data": {
            "text/plain": [
              "<tf.Tensor: shape=(19,), dtype=float32, numpy=\n",
              "array([0.       , 0.6931472, 1.0986123, 1.3862944, 1.609438 , 1.7917595,\n",
              "       1.9459102, 2.0794415, 2.1972246, 2.3025851, 2.3978953, 2.4849067,\n",
              "       2.5649493, 2.6390574, 2.7080503, 2.7725887, 2.8332133, 2.8903718,\n",
              "       2.944439 ], dtype=float32)>"
            ]
          },
          "metadata": {
            "tags": []
          },
          "execution_count": 108
        }
      ]
    },
    {
      "cell_type": "markdown",
      "metadata": {
        "id": "d7e1b985-cdd8-4cea-a79d-43d5a96740bc"
      },
      "source": [
        "### 2.10. Manipulation de tenseurs `tf.Variable`\n",
        "\n",
        "Les tenseurs créés à partir de `tf.Variable()` peuvent être modifiés en utilisant des méthodes telles que :\n",
        "- `.assign()` : affecte une valeur différente à un indice donné du tenseur variable\n",
        "- `.assign_add()` : ajoute une valeur à la valeur existante pour un indice donné du tenseur variable\n",
        "\n",
        "Faisons le test avec un tenseur, cette fois-ci variable :"
      ],
      "id": "d7e1b985-cdd8-4cea-a79d-43d5a96740bc"
    },
    {
      "cell_type": "code",
      "metadata": {
        "id": "4004609e-80b5-431f-9e93-cbdb42534b03",
        "outputId": "31b01d04-094c-43f6-cddf-cc5984c1282c"
      },
      "source": [
        "tenseur = \n",
        "tenseur"
      ],
      "id": "4004609e-80b5-431f-9e93-cbdb42534b03",
      "execution_count": null,
      "outputs": [
        {
          "output_type": "execute_result",
          "data": {
            "text/plain": [
              "<tf.Variable 'Variable:0' shape=(4,) dtype=int32, numpy=array([0, 1, 2, 3])>"
            ]
          },
          "metadata": {
            "tags": []
          },
          "execution_count": 84
        }
      ]
    },
    {
      "cell_type": "code",
      "metadata": {
        "colab": {
          "base_uri": "https://localhost:8080/"
        },
        "id": "U7usSD4NjEbr",
        "outputId": "b0256231-0ede-44e3-a7e9-c9c201b97a07"
      },
      "source": [
        "tenseur = tf.Variable([0, 1, 2, 3]) \n",
        "tenseur"
      ],
      "id": "U7usSD4NjEbr",
      "execution_count": 109,
      "outputs": [
        {
          "output_type": "execute_result",
          "data": {
            "text/plain": [
              "<tf.Variable 'Variable:0' shape=(4,) dtype=int32, numpy=array([0, 1, 2, 3], dtype=int32)>"
            ]
          },
          "metadata": {
            "tags": []
          },
          "execution_count": 109
        }
      ]
    },
    {
      "cell_type": "markdown",
      "metadata": {
        "id": "41c43f33-c7a2-4233-ba03-78166271e21f"
      },
      "source": [
        "Nous allons modifier la valeur `2` à `10` :"
      ],
      "id": "41c43f33-c7a2-4233-ba03-78166271e21f"
    },
    {
      "cell_type": "code",
      "metadata": {
        "id": "d19fae11-fe88-47f0-972b-f6f3a8e9bae0",
        "outputId": "0a30f70a-97de-4b3a-a40c-27da8d98a5f0"
      },
      "source": [
        ""
      ],
      "id": "d19fae11-fe88-47f0-972b-f6f3a8e9bae0",
      "execution_count": null,
      "outputs": [
        {
          "output_type": "execute_result",
          "data": {
            "text/plain": [
              "<tf.Variable 'UnreadVariable' shape=(4,) dtype=int32, numpy=array([ 0,  1, 10,  3])>"
            ]
          },
          "metadata": {
            "tags": []
          },
          "execution_count": 85
        }
      ]
    },
    {
      "cell_type": "code",
      "metadata": {
        "colab": {
          "base_uri": "https://localhost:8080/"
        },
        "id": "ZuZ_xo4ZjPQT",
        "outputId": "955bfba6-eefd-4c3a-e243-8c22594f6c18"
      },
      "source": [
        "tenseur[2].assign(10)"
      ],
      "id": "ZuZ_xo4ZjPQT",
      "execution_count": 112,
      "outputs": [
        {
          "output_type": "execute_result",
          "data": {
            "text/plain": [
              "<tf.Variable 'UnreadVariable' shape=(4,) dtype=int32, numpy=array([ 0,  1, 10,  3], dtype=int32)>"
            ]
          },
          "metadata": {
            "tags": []
          },
          "execution_count": 112
        }
      ]
    },
    {
      "cell_type": "markdown",
      "metadata": {
        "id": "dc294332-793e-440b-bc12-ed7a8d958bfe"
      },
      "source": [
        "On remarque que le tenseur est bien modifié :"
      ],
      "id": "dc294332-793e-440b-bc12-ed7a8d958bfe"
    },
    {
      "cell_type": "code",
      "metadata": {
        "id": "1d31487f-f68c-4448-b7b3-e25de1956773",
        "outputId": "3b2def7f-8693-48c4-a5c4-58e31d4898bf"
      },
      "source": [
        "tenseur"
      ],
      "id": "1d31487f-f68c-4448-b7b3-e25de1956773",
      "execution_count": null,
      "outputs": [
        {
          "output_type": "execute_result",
          "data": {
            "text/plain": [
              "<tf.Variable 'Variable:0' shape=(4,) dtype=int32, numpy=array([ 0,  1, 10,  3])>"
            ]
          },
          "metadata": {
            "tags": []
          },
          "execution_count": 86
        }
      ]
    },
    {
      "cell_type": "code",
      "metadata": {
        "colab": {
          "base_uri": "https://localhost:8080/"
        },
        "id": "ZoEiQ5gcjnKs",
        "outputId": "f2332c14-50ee-4539-ea97-da74b1b0afca"
      },
      "source": [
        "tenseur"
      ],
      "id": "ZoEiQ5gcjnKs",
      "execution_count": 113,
      "outputs": [
        {
          "output_type": "execute_result",
          "data": {
            "text/plain": [
              "<tf.Variable 'Variable:0' shape=(4,) dtype=int32, numpy=array([ 0,  1, 10,  3], dtype=int32)>"
            ]
          },
          "metadata": {
            "tags": []
          },
          "execution_count": 113
        }
      ]
    },
    {
      "cell_type": "markdown",
      "metadata": {
        "id": "60864559-f332-40c7-a49c-a32e83995b99"
      },
      "source": [
        "Nous allons maintenant ajouter `25` pour les éléments du tenseur aux indices `1` et `3` :"
      ],
      "id": "60864559-f332-40c7-a49c-a32e83995b99"
    },
    {
      "cell_type": "code",
      "metadata": {
        "id": "6d0f3641-7c42-424f-b3c0-7a037961188c",
        "outputId": "4d88466f-ba02-48af-b1cc-9c55dd75ab15"
      },
      "source": [
        ""
      ],
      "id": "6d0f3641-7c42-424f-b3c0-7a037961188c",
      "execution_count": null,
      "outputs": [
        {
          "output_type": "execute_result",
          "data": {
            "text/plain": [
              "<tf.Variable 'UnreadVariable' shape=(4,) dtype=int32, numpy=array([ 0, 26, 10, 28])>"
            ]
          },
          "metadata": {
            "tags": []
          },
          "execution_count": 87
        }
      ]
    },
    {
      "cell_type": "code",
      "metadata": {
        "colab": {
          "base_uri": "https://localhost:8080/"
        },
        "id": "dvQnIkjSjrx9",
        "outputId": "b01a293a-f831-43f6-d022-bcd59dd5a206"
      },
      "source": [
        "tenseur[1].assign(tenseur[1] + 25)\n",
        "tenseur[3].assign(tenseur[3] + 25)"
      ],
      "id": "dvQnIkjSjrx9",
      "execution_count": 115,
      "outputs": [
        {
          "output_type": "execute_result",
          "data": {
            "text/plain": [
              "<tf.Variable 'UnreadVariable' shape=(4,) dtype=int32, numpy=array([ 0, 26, 10, 28], dtype=int32)>"
            ]
          },
          "metadata": {
            "tags": []
          },
          "execution_count": 115
        }
      ]
    },
    {
      "cell_type": "markdown",
      "metadata": {
        "id": "1189364e-324f-4849-b550-7caa58bd8a7f"
      },
      "source": [
        "A nouveau, le tenseur est bien modifié :"
      ],
      "id": "1189364e-324f-4849-b550-7caa58bd8a7f"
    },
    {
      "cell_type": "code",
      "metadata": {
        "id": "46721674-48b7-4adf-8eef-faff25e9fd06",
        "outputId": "2adb43bc-1c8c-45df-e750-514f1068625b"
      },
      "source": [
        "tenseur"
      ],
      "id": "46721674-48b7-4adf-8eef-faff25e9fd06",
      "execution_count": null,
      "outputs": [
        {
          "output_type": "execute_result",
          "data": {
            "text/plain": [
              "<tf.Variable 'Variable:0' shape=(4,) dtype=int32, numpy=array([ 0, 26, 10, 28])>"
            ]
          },
          "metadata": {
            "tags": []
          },
          "execution_count": 88
        }
      ]
    },
    {
      "cell_type": "code",
      "metadata": {
        "colab": {
          "base_uri": "https://localhost:8080/"
        },
        "id": "wQPrYQgUj-MF",
        "outputId": "24789c03-7d35-4712-9b44-85d148cfc6a3"
      },
      "source": [
        "tenseur"
      ],
      "id": "wQPrYQgUj-MF",
      "execution_count": 116,
      "outputs": [
        {
          "output_type": "execute_result",
          "data": {
            "text/plain": [
              "<tf.Variable 'Variable:0' shape=(4,) dtype=int32, numpy=array([ 0, 26, 10, 28], dtype=int32)>"
            ]
          },
          "metadata": {
            "tags": []
          },
          "execution_count": 116
        }
      ]
    },
    {
      "cell_type": "markdown",
      "metadata": {
        "id": "96d9e237-be94-4630-8cb6-ff1a95d8f858"
      },
      "source": [
        "## 3. Tenseurs et NumPy\n",
        "\n",
        "Nous avons vu plus haut quelques exemples d'interaction entre les tenseurs et les tableaux NumPy (NumPy arrays), comme par exemple l'utilisation des NumPy arrays pour créer des tenseurs.\n",
        "\n",
        "A l'inverse, les tenseurs peuvent également être convertis en NumPy arrays en utilisant :\n",
        "- `np.array()` : convertit le tenseur en `ndarray` (datatype principal de NumPy)\n",
        "- `tensor.numpy()` : méthode pour convertir le tenseur en `ndarray`\n",
        "\n",
        "Cela est utile pour rendre les tenseurs itératifs, ainsi que pour pouvoir utiliser les méthodes `NumPy`.\n",
        "\n",
        "Nous allons créer un tenseur de type constant à partir d'un tableau NumPy :"
      ],
      "id": "96d9e237-be94-4630-8cb6-ff1a95d8f858"
    },
    {
      "cell_type": "code",
      "metadata": {
        "id": "3c9c05b7-c3af-47f4-8625-be54d78a4216",
        "outputId": "fbdd5576-855a-4349-f6e1-6a4e452ffdc4"
      },
      "source": [
        "A = \n",
        "A"
      ],
      "id": "3c9c05b7-c3af-47f4-8625-be54d78a4216",
      "execution_count": null,
      "outputs": [
        {
          "output_type": "execute_result",
          "data": {
            "text/plain": [
              "<tf.Tensor: shape=(3,), dtype=float64, numpy=array([ 2., -5.,  8.])>"
            ]
          },
          "metadata": {
            "tags": []
          },
          "execution_count": 89
        }
      ]
    },
    {
      "cell_type": "code",
      "metadata": {
        "colab": {
          "base_uri": "https://localhost:8080/"
        },
        "id": "TpQNqmYQkZ3I",
        "outputId": "60f2ca4f-7396-46bf-af66-ba6ec8c2c629"
      },
      "source": [
        "A = tf.constant([ 2., -5.,  8.])\n",
        "A"
      ],
      "id": "TpQNqmYQkZ3I",
      "execution_count": 117,
      "outputs": [
        {
          "output_type": "execute_result",
          "data": {
            "text/plain": [
              "<tf.Tensor: shape=(3,), dtype=float32, numpy=array([ 2., -5.,  8.], dtype=float32)>"
            ]
          },
          "metadata": {
            "tags": []
          },
          "execution_count": 117
        }
      ]
    },
    {
      "cell_type": "code",
      "metadata": {
        "id": "3de47613-bf70-4065-ada8-09d8a02ab029",
        "outputId": "23a194a2-611c-45a4-b1d6-5318d6a9954d"
      },
      "source": [
        "#conversion du tenseur A en NumPy ndarray avec np.array\n",
        ", type()"
      ],
      "id": "3de47613-bf70-4065-ada8-09d8a02ab029",
      "execution_count": null,
      "outputs": [
        {
          "output_type": "execute_result",
          "data": {
            "text/plain": [
              "(array([ 2., -5.,  8.]), numpy.ndarray)"
            ]
          },
          "metadata": {
            "tags": []
          },
          "execution_count": 90
        }
      ]
    },
    {
      "cell_type": "code",
      "metadata": {
        "colab": {
          "base_uri": "https://localhost:8080/"
        },
        "id": "MLOfRy_KkegT",
        "outputId": "c3d40f8b-72d9-4295-dda3-287936edc13e"
      },
      "source": [
        "np.array(A)"
      ],
      "id": "MLOfRy_KkegT",
      "execution_count": 122,
      "outputs": [
        {
          "output_type": "execute_result",
          "data": {
            "text/plain": [
              "array([ 2., -5.,  8.], dtype=float32)"
            ]
          },
          "metadata": {
            "tags": []
          },
          "execution_count": 122
        }
      ]
    },
    {
      "cell_type": "code",
      "metadata": {
        "id": "c578ef00-0bb9-4930-948e-2ab34c0f7f8b",
        "outputId": "4f5145e1-23fa-483f-9f2d-8486b2862296"
      },
      "source": [
        "#conversion du tenseur A en NumPy ndarray avec la méthode .numpy()\n",
        ", type()"
      ],
      "id": "c578ef00-0bb9-4930-948e-2ab34c0f7f8b",
      "execution_count": null,
      "outputs": [
        {
          "output_type": "execute_result",
          "data": {
            "text/plain": [
              "(array([ 2., -5.,  8.]), numpy.ndarray)"
            ]
          },
          "metadata": {
            "tags": []
          },
          "execution_count": 91
        }
      ]
    },
    {
      "cell_type": "code",
      "metadata": {
        "colab": {
          "base_uri": "https://localhost:8080/"
        },
        "id": "dAnjMEOjkue0",
        "outputId": "639f599b-d6c6-4fb1-8a33-d2858da69807"
      },
      "source": [
        "A.numpy()"
      ],
      "id": "dAnjMEOjkue0",
      "execution_count": 124,
      "outputs": [
        {
          "output_type": "execute_result",
          "data": {
            "text/plain": [
              "array([ 2., -5.,  8.], dtype=float32)"
            ]
          },
          "metadata": {
            "tags": []
          },
          "execution_count": 124
        }
      ]
    },
    {
      "cell_type": "markdown",
      "metadata": {
        "id": "31972b83-7b8f-4aeb-8202-716586b5dda2"
      },
      "source": [
        "Par défaut, les tenseurs ont le paramètre `dtype` égal à `float32`, alors que les tableaux NumPy ont `dtype=float64` .\n",
        "\n",
        "Cela est dû au fait que les réseaux de neurones (qui sont généralement construits avec TensorFlow) fonctionnent généralement très bien avec moins de précision (32 bit au lieu de 64 bit) :"
      ],
      "id": "31972b83-7b8f-4aeb-8202-716586b5dda2"
    },
    {
      "cell_type": "code",
      "metadata": {
        "id": "043bd70f-2018-4b9f-aa76-43fd7a56c826",
        "colab": {
          "base_uri": "https://localhost:8080/"
        },
        "outputId": "3d12b716-f43e-4d10-e237-76203d1a97b6"
      },
      "source": [
        "tenseur_A = tf.constant(np.array([1., 2., 3.])) # float64 (dû à NumPy)\n",
        "tenseur_B = tf.constant([1., 2., 3.]) # float32 (valeur par défaut dans TensorFlow)\n",
        "tenseur_A.dtype, tenseur_B.dtype"
      ],
      "id": "043bd70f-2018-4b9f-aa76-43fd7a56c826",
      "execution_count": 125,
      "outputs": [
        {
          "output_type": "execute_result",
          "data": {
            "text/plain": [
              "(tf.float64, tf.float32)"
            ]
          },
          "metadata": {
            "tags": []
          },
          "execution_count": 125
        }
      ]
    },
    {
      "cell_type": "markdown",
      "metadata": {
        "id": "a1c4b9a4-21dc-46a5-8590-7f4c29382eba"
      },
      "source": [
        "## 4. Tenseurs et GPUs\n",
        "\n",
        "Nous avons mentionné à plusieurs reprises les GPUs dans ce notebook.\n",
        "\n",
        "Mais comment vérifier si nous en avons un ?\n",
        "\n",
        "Vous pouvez vérifier si vous avez accès à un GPU en utilisant `tf.config.list_physical_devices()` :"
      ],
      "id": "a1c4b9a4-21dc-46a5-8590-7f4c29382eba"
    },
    {
      "cell_type": "code",
      "metadata": {
        "colab": {
          "base_uri": "https://localhost:8080/"
        },
        "id": "0f1b9abd-586a-4838-9edc-c742474da5b0",
        "outputId": "3ebe2a1c-6bbb-436a-9f8f-7dc2a13c8d92"
      },
      "source": [
        "print(tf.config.list_physical_devices('GPU'))"
      ],
      "id": "0f1b9abd-586a-4838-9edc-c742474da5b0",
      "execution_count": 126,
      "outputs": [
        {
          "output_type": "stream",
          "text": [
            "[]\n"
          ],
          "name": "stdout"
        }
      ]
    },
    {
      "cell_type": "code",
      "metadata": {
        "colab": {
          "base_uri": "https://localhost:8080/"
        },
        "id": "d4ad7660-d61e-43fc-a973-e6a0943794cd",
        "outputId": "e6d783e6-2cef-4a11-cca9-389df721146a"
      },
      "source": [
        "print(tf.config.list_physical_devices('GPU'))"
      ],
      "id": "d4ad7660-d61e-43fc-a973-e6a0943794cd",
      "execution_count": null,
      "outputs": [
        {
          "output_type": "stream",
          "text": [
            "[PhysicalDevice(name='/physical_device:GPU:0', device_type='GPU')]\n"
          ],
          "name": "stdout"
        }
      ]
    },
    {
      "cell_type": "markdown",
      "metadata": {
        "id": "08648e3c-5e0c-40a9-8e88-14961f7be262"
      },
      "source": [
        "Si le résultat ci-dessus est vide, cela signifie que vous n'avez de GPU (ou que TensorFlow ne le trouve pas !).\n",
        "\n",
        "Sous Google Colab vous pouvez accéder à un GPu en faisant *Runtime -> Change Runtime Type -> Select GPU* (**remarque:** après cette modification, le notebook redémarera et toutes les variables enregistrées seront perdues).\n",
        "\n",
        "Vous pouvez également trouver les informations à propos de votre GPU avec `!nvidia-smi` :"
      ],
      "id": "08648e3c-5e0c-40a9-8e88-14961f7be262"
    },
    {
      "cell_type": "code",
      "metadata": {
        "id": "5ce5f207-80a8-4d82-a22a-7fef314c52c9",
        "colab": {
          "base_uri": "https://localhost:8080/"
        },
        "outputId": "3c848fa3-e981-4976-f9c0-3f2714c4454e"
      },
      "source": [
        "!nvidia-smi"
      ],
      "id": "5ce5f207-80a8-4d82-a22a-7fef314c52c9",
      "execution_count": 131,
      "outputs": [
        {
          "output_type": "stream",
          "text": [
            "NVIDIA-SMI has failed because it couldn't communicate with the NVIDIA driver. Make sure that the latest NVIDIA driver is installed and running.\n",
            "\n"
          ],
          "name": "stdout"
        }
      ]
    },
    {
      "cell_type": "markdown",
      "metadata": {
        "id": "82388f70-6f5b-43a2-a553-8c16f3e56a5d"
      },
      "source": [
        "Si vous avez un GPU, TensorFlow l'utilisera automatiquement à chaque fois que cela est possible."
      ],
      "id": "82388f70-6f5b-43a2-a553-8c16f3e56a5d"
    }
  ]
}