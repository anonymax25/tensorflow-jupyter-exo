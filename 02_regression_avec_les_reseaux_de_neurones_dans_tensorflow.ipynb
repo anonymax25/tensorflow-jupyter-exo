{
  "nbformat": 4,
  "nbformat_minor": 5,
  "metadata": {
    "kernelspec": {
      "display_name": "Python 3",
      "language": "python",
      "name": "python3"
    },
    "language_info": {
      "codemirror_mode": {
        "name": "ipython",
        "version": 3
      },
      "file_extension": ".py",
      "mimetype": "text/x-python",
      "name": "python",
      "nbconvert_exporter": "python",
      "pygments_lexer": "ipython3",
      "version": "3.7.10"
    },
    "colab": {
      "name": "02_regression_avec_les_reseaux_de_neurones_dans_tensorflow.ipynb",
      "provenance": [],
      "collapsed_sections": [],
      "toc_visible": true,
      "include_colab_link": true
    }
  },
  "cells": [
    {
      "cell_type": "markdown",
      "metadata": {
        "id": "view-in-github",
        "colab_type": "text"
      },
      "source": [
        "<a href=\"https://colab.research.google.com/github/anonymax25/tensorflow-jupyter-exo/blob/master/02_regression_avec_les_reseaux_de_neurones_dans_tensorflow.ipynb\" target=\"_parent\"><img src=\"https://colab.research.google.com/assets/colab-badge.svg\" alt=\"Open In Colab\"/></a>"
      ]
    },
    {
      "cell_type": "markdown",
      "metadata": {
        "tags": [],
        "id": "591a5d01-53ae-4c64-b002-6f702cd4720e"
      },
      "source": [
        "# Régression avec les réseaux de neurones dans TensorFlow"
      ],
      "id": "591a5d01-53ae-4c64-b002-6f702cd4720e"
    },
    {
      "cell_type": "markdown",
      "metadata": {
        "id": "b68114e4-823b-4055-acdf-e338e5ef249a"
      },
      "source": [
        "Ce notebook est une introduction à la régression avec les réseaux de neurones dans TensorFlow.\n",
        "\n",
        "Il y a plusieurs définitions pour la régression mais dans notre cas, nous allons la simplifier au fait de prédire un nombre.\n",
        "\n",
        "Par exemple, dans un problème de régression, vous pouvez vouloir :\n",
        "- prédire le prix de vente de biens immobiliers en fonction d'informations données (telles que le nombre de pièces, la surface du bien, le nombre de salles de bains, etc...)\n",
        "- prédire les coordonnées délimitant un objet dans une image\n",
        "- prédire le coût d'une assurance médicale pour un individu en fonction de ses caractéristiques (âge, sexe, profession, etc...)\n",
        "\n",
        "Nous allons voir comment ici comment construire un réseau de neurones à partir d'échantillons de données, comment trouver les \"patterns\" (relations) dans ces données d'entrée et comment faire des prédictions à partir de ces données.\n",
        "\n",
        "Voici en détail ce que nous allons aborder :\n",
        "- architecture d'un modèle de régression\n",
        "- forme des données d'entrée et de sortie\n",
        "  - `X` : caractéristiques/variables/données (inputs)\n",
        "  - `y` : étiquette/variable à expliquer (output)\n",
        "- visualiser les données (lorsque c'est possible)\n",
        "- étapes de la modélisation\n",
        "  - créer un modèle\n",
        "  - définir une fonction de coût\n",
        "  - choisir/créer les métriques d'évaluation\n",
        "  - ajuster un modèle (c'est-à-dire faire en sorte que le modèle trouver les tendances dans nos données)\n",
        "- évaluer un modèle\n",
        "  - visualiser le modèle\n",
        "  - regarder les courbes d'apprentissage\n",
        "  - comparer les prédictions aux valeurs réelles (en utilisant nos métriques d'évaluation)\n",
        "- sauvegarder un modèle (pour pouvoir l'utiliser plus tard si besoin)\n",
        "- charger un modèle"
      ],
      "id": "b68114e4-823b-4055-acdf-e338e5ef249a"
    },
    {
      "cell_type": "markdown",
      "metadata": {
        "id": "ddc83758-630d-4278-abb0-dce633ae9e93"
      },
      "source": [
        "## 1. Architecture d'un réseau de neurones pour un problème de régression\n",
        "\n",
        "Il y a beaucoup de façons différentes de créer un réseau de neurones.\n",
        "\n",
        "Voici l'architecture typique d'un réseau de neurones pour la régression :\n",
        "\n",
        "| **Hyperparamètre** | **Valeur typique** |\n",
        "| --- | --- |\n",
        "| Input layer shape | Même forme que le nombre de variables (par exemple 3 pour `chambres`, `salle de bains`, `emplacement pour voitures` dans une prédiction de prix de biens immobiliers) |\n",
        "| Hidden layer(s) | Spécifique au problème, minimum = 1, maximum = illimité |\n",
        "| Neurons per hidden layer | spécifique au problème, généralement de 10 à 100 |\n",
        "| Output layer shape | Même forme que celle de la prédiction souhaitée (par exemple 1 le prix d'un bien immobilier) |\n",
        "| Hidden activation | Généralement [ReLU](https://www.kaggle.com/dansbecker/rectified-linear-units-relu-in-deep-learning) (rectified linear unit) |\n",
        "| Output activation | None, ReLU, logistic/tanh |\n",
        "| Loss function | [MSE](https://fr.wikipedia.org/wiki/Erreur_quadratique_moyenne) (mean square error) ou [MAE](https://en.wikipedia.org/wiki/Mean_absolute_error) (mean absolute error)/Huber (combinaison entre MAE/ et SE) s'il y a des valeurs aberrantes |\n",
        "| Optimizer | [SGD](https://www.tensorflow.org/api_docs/python/tf/keras/optimizers/SGD) (stochastic gradient descent), [Adam](https://www.tensorflow.org/api_docs/python/tf/keras/optimizers/Adam) |\n",
        "\n",
        "(source : *Hands-On Machine Learning with Scikit-Learn, Keras, and TensorFlow*, livre d'Aurélien Geron)\n",
        "\n",
        "Pour le moment, ce tableau peut sembler assez vague, surtout si les réseaux de neurones et le machine/deep learning sont nouveaux pour vous !\n",
        "\n",
        "Pas de panique, nous aurons l'occasion d'y revenir en détail plus tard.\n",
        "\n",
        "Place à la pratique !"
      ],
      "id": "ddc83758-630d-4278-abb0-dce633ae9e93"
    },
    {
      "cell_type": "markdown",
      "metadata": {
        "id": "5b171622-6f5b-40cd-a114-13f52064b539"
      },
      "source": [
        "## 2. Exemple rapide de visualisation de données\n",
        "\n",
        "Lorsque c'est possible, il est très utile de visualiser les données d'entrée du problème, avant de se lancer dans la partie modélisation.\n",
        "\n",
        "Puisque nous allons travailler sur la régression (prédire un nombre), nous allons commencer par créer des données linéaires (une simple ligne droite) :"
      ],
      "id": "5b171622-6f5b-40cd-a114-13f52064b539"
    },
    {
      "cell_type": "code",
      "metadata": {
        "colab": {
          "base_uri": "https://localhost:8080/",
          "height": 269
        },
        "id": "8d29c0a1-a0e4-4364-ae46-0c56170bd49f",
        "outputId": "cbd10088-96b5-4553-f829-c940e87c3c7c"
      },
      "source": [
        "import numpy as np\n",
        "import matplotlib.pyplot as plt\n",
        "\n",
        "# Création des variables (ici 1 seule variable, donc dimension(X)=1)\n",
        "X = np.array([-7.0, -4.0, -1.0, 2.0, 5.0, 8.0, 11.0, 14.0])\n",
        "\n",
        "# Création de la variable à expliquer (étiquette ou label en anglais)\n",
        "y = np.array([3.0, 6.0, 9.0, 12.0, 15.0, 18.0, 21.0, 24.0])\n",
        "\n",
        "# Visualisation de l'étiquette y en fonction de X\n",
        "plt.scatter(X, y);"
      ],
      "id": "8d29c0a1-a0e4-4364-ae46-0c56170bd49f",
      "execution_count": 2,
      "outputs": [
        {
          "output_type": "display_data",
          "data": {
            "image/png": "[encoded data removed]",
            "text/plain": [
              "<Figure size 432x288 with 1 Axes>"
            ]
          },
          "metadata": {
            "tags": [],
            "needs_background": "light"
          }
        }
      ]
    },
    {
      "cell_type": "markdown",
      "metadata": {
        "id": "fb69f76c-70a8-433b-a440-8e8cff184ec2"
      },
      "source": [
        "En regardant la visualisation obtenue, est-ce qu'on ne pourrait pas calculer la relation entre `X` et `y` ?\n",
        "\n",
        "Par exemple, nous pourrions nous demander, en se basant sur ces données, quelle serait la valeur de `y` pour `X = 17` ? Ou `X = -10` ?\n",
        "\n",
        "Cette recherche de relation (*pattern*) est la raison pour laquelle nous créerons les réseaux de neurones : pour qu'ils fassent le travail pour nous !\n",
        "\n",
        "## 3. Forme des données d'entrée (*inputs)* et de sortie (*outputs*)\n",
        "\n",
        "Un des concepts les plus importants lorsque l'on travaille avec des réseaux de neurones est la forme des données (entrée et sortie) :\n",
        "- ce que l'on appelle la forme des données d'entrée est la forme des données qui seront consommées par le modèle\n",
        "- et la forme des données de sortie est la forme des données qui seront produites par le modèle\n",
        "\n",
        "Elles peuvent être différentes, en fonction du problème traité.\n",
        "\n",
        "Les réseaux de neurones acceptent des données numériques en entrée et produiront des nombres également en sortie. Ces nombres sont généralement représentés par des tenseurs.\n",
        "\n",
        "Auparavant, dans la partie **2.**  , nous avons créé des données à partir des tableaux NumPy (NumPy arrays), mais nous aurions pu faire la même chose avec les tenseurs :"
      ],
      "id": "fb69f76c-70a8-433b-a440-8e8cff184ec2"
    },
    {
      "cell_type": "code",
      "metadata": {
        "colab": {
          "base_uri": "https://localhost:8080/"
        },
        "id": "84650087-417a-4c11-b37e-c5aada149429",
        "outputId": "e5ed9a97-0808-41eb-9162-00ca617c0e79"
      },
      "source": [
        "import tensorflow as tf\n",
        "print(tf.__version__) # pour vérifier la version"
      ],
      "id": "84650087-417a-4c11-b37e-c5aada149429",
      "execution_count": 3,
      "outputs": [
        {
          "output_type": "stream",
          "text": [
            "2.5.0\n"
          ],
          "name": "stdout"
        }
      ]
    },
    {
      "cell_type": "code",
      "metadata": {
        "id": "fd51aa49-6a9f-44af-825c-1799b3be8a93",
        "colab": {
          "base_uri": "https://localhost:8080/",
          "height": 129
        },
        "outputId": "35236ff3-d543-4194-c73d-9cf36d202a62"
      },
      "source": [
        "# Création des variables (en utilisant les tenseurs de type constant)\n",
        "X = \n",
        "\n",
        "# Création de la variable à expliquer (en utilisant les tenseurs de type constant)\n",
        "y = \n",
        "\n",
        "# Visualize it\n",
        "plt.scatter(X, y);"
      ],
      "id": "fd51aa49-6a9f-44af-825c-1799b3be8a93",
      "execution_count": 4,
      "outputs": [
        {
          "output_type": "error",
          "ename": "SyntaxError",
          "evalue": "ignored",
          "traceback": [
            "\u001b[0;36m  File \u001b[0;32m\"<ipython-input-4-247a5b37c56d>\"\u001b[0;36m, line \u001b[0;32m2\u001b[0m\n\u001b[0;31m    X =\u001b[0m\n\u001b[0m        ^\u001b[0m\n\u001b[0;31mSyntaxError\u001b[0m\u001b[0;31m:\u001b[0m invalid syntax\n"
          ]
        }
      ]
    },
    {
      "cell_type": "code",
      "metadata": {
        "colab": {
          "base_uri": "https://localhost:8080/",
          "height": 269
        },
        "id": "-Whn3t-yKuHr",
        "outputId": "4eae5285-c356-41ae-a518-92ee16a175f6"
      },
      "source": [
        "# Création des variables (en utilisant les tenseurs de type constant)\n",
        "X = tf.constant([-7.0, -4.0, -1.0, 2.0, 5.0, 8.0, 11.0, 14.0])\n",
        "\n",
        "# Création de la variable à expliquer (en utilisant les tenseurs de type constant)\n",
        "y = tf.constant([3.0, 6.0, 9.0, 12.0, 15.0, 18.0, 21.0, 24.0])\n",
        "\n",
        "# Visualize it\n",
        "plt.scatter(X, y);"
      ],
      "id": "-Whn3t-yKuHr",
      "execution_count": 5,
      "outputs": [
        {
          "output_type": "display_data",
          "data": {
            "image/png": "[encoded data removed]",
            "text/plain": [
              "<Figure size 432x288 with 1 Axes>"
            ]
          },
          "metadata": {
            "tags": [],
            "needs_background": "light"
          }
        }
      ]
    },
    {
      "cell_type": "markdown",
      "metadata": {
        "id": "f6a51f35-be9f-40fb-8de3-70d8d4777116"
      },
      "source": [
        "Notre objectif va être d'utiliser `X` (*variables/caractéristiques/features*) pour prédire `y` (*variable à expliquer/étiquette/label*).\n",
        "\n",
        "Donc nos données d'entrée seront représentées par le tenseur `X` et notre donnée de sortie sera le tenseur `y` .\n",
        "\n",
        "Maintenant que l'on sait cela, regardons la forme des données :"
      ],
      "id": "f6a51f35-be9f-40fb-8de3-70d8d4777116"
    },
    {
      "cell_type": "code",
      "metadata": {
        "id": "4e9a84ac-b376-4c7d-bf01-17211e46bb55"
      },
      "source": [
        "forme_input = X[0].\n",
        "\n",
        "forme_output = y[0].\n",
        "\n",
        "forme_input, forme_output"
      ],
      "id": "4e9a84ac-b376-4c7d-bf01-17211e46bb55",
      "execution_count": null,
      "outputs": []
    },
    {
      "cell_type": "code",
      "metadata": {
        "colab": {
          "base_uri": "https://localhost:8080/"
        },
        "id": "tMzmFMS8LMvF",
        "outputId": "0baa6613-2535-4c33-aadf-d3221f8d9491"
      },
      "source": [
        "forme_input = X[0].shape\n",
        "\n",
        "forme_output = y[0].shape\n",
        "\n",
        "forme_input, forme_output"
      ],
      "id": "tMzmFMS8LMvF",
      "execution_count": 6,
      "outputs": [
        {
          "output_type": "execute_result",
          "data": {
            "text/plain": [
              "(TensorShape([]), TensorShape([]))"
            ]
          },
          "metadata": {
            "tags": []
          },
          "execution_count": 6
        }
      ]
    },
    {
      "cell_type": "markdown",
      "metadata": {
        "id": "b09a1208-7f97-4f4f-8677-32552ec7baaf"
      },
      "source": [
        "Nos données n'ont donc pas de forme ?\n",
        "\n",
        "Si l'on regarde directement `X[0]` et `y[0]` :"
      ],
      "id": "b09a1208-7f97-4f4f-8677-32552ec7baaf"
    },
    {
      "cell_type": "code",
      "metadata": {
        "id": "de9a05b4-f891-4cf6-8ab9-da0002addd65",
        "colab": {
          "base_uri": "https://localhost:8080/"
        },
        "outputId": "2482b7ec-fd9b-40d8-80eb-7b39755dc1b3"
      },
      "source": [
        "X[0], y[0]"
      ],
      "id": "de9a05b4-f891-4cf6-8ab9-da0002addd65",
      "execution_count": 7,
      "outputs": [
        {
          "output_type": "execute_result",
          "data": {
            "text/plain": [
              "(<tf.Tensor: shape=(), dtype=float32, numpy=-7.0>,\n",
              " <tf.Tensor: shape=(), dtype=float32, numpy=3.0>)"
            ]
          },
          "metadata": {
            "tags": []
          },
          "execution_count": 7
        }
      ]
    },
    {
      "cell_type": "markdown",
      "metadata": {
        "id": "42f23669-80ec-4ee4-bbca-2ceab03cfcb5"
      },
      "source": [
        "Ce qu'il faut savoir c'est que quel que soit les données que notre modèle consommera, il prendra toujours en compte les données d'entrée et de sortie en tant que tenseur :\n",
        "- dans notre cas, nous allons essayer de prédire la tendance entre 1 valeur de `X` (par exemple `X[0]` égal à -7) et 1 valeur de `y` (par exemple `y[0]` égal à 3)\n",
        "- nous avons donc le cas d'un scalaire, c'est-à-dire un tenseur de rang 0\n",
        "\n",
        "Nous aurons l'occasion de voir plusieurs autres exemples, ce qui vous permettra de mieux comprendre l'importance des formes des données.\n",
        "\n",
        "## 4. Modélisation\n",
        "\n",
        "Comment créer un réseau de neurones à partir de nos données ?\n",
        "\n",
        "Dans TensorFlow, il y a généralement 3 étapes afin de créer et entraîner un modèle :\n",
        "1. **Créer un modèle** : assembler les couches d'un réseau de neurones soi-même (à l'aide de l'API [fonctionnelle Keras](https://www.tensorflow.org/guide/keras/functional) ou [séquentielle Keras](https://www.tensorflow.org/api_docs/python/tf/keras/Sequential)) ou importer un modèle déjà construit précédemment\n",
        "\n",
        "2. **Compiler un modèle** : définir comment les performances du modèle devraient se mesurer (fonction coût/métrique) et comment les optimiser (optimizer)\n",
        "\n",
        "3. **Entraîner un modèle** : laisser le modèle essayer de trouver les tendances (*patterns*) dans les données"
      ],
      "id": "42f23669-80ec-4ee4-bbca-2ceab03cfcb5"
    },
    {
      "cell_type": "markdown",
      "metadata": {
        "id": "66bf23ff-e866-48d4-852f-87f0a68770a8"
      },
      "source": [
        "### 4.1. Exemple du processus de création sur notre exemple simple\n",
        "\n",
        "Pour construire notre modèle pour notre problème de régression, nous allons utiliser l'API séquentielle Keras : elle est disponible directement à partir du module `keras` de TensorFlow.\n",
        "\n",
        "Crééons notre modèle et entraînons-le à partir de nos données (création/compilation/entraînement) :"
      ],
      "id": "66bf23ff-e866-48d4-852f-87f0a68770a8"
    },
    {
      "cell_type": "code",
      "metadata": {
        "id": "2fa6dfad-c406-4f19-aa74-8cbdd48a3fa3",
        "colab": {
          "base_uri": "https://localhost:8080/",
          "height": 129
        },
        "outputId": "918f0e18-dd76-4fa8-c2f2-6709bd885952"
      },
      "source": [
        "# Choix du nombre aléatoire (pour la reproductibilité des calculs)\n",
        "tf.random.set_seed(42)\n",
        "\n",
        "# Création d'un modèle d'une couche en utilisant l'API séquentielle\n",
        "modele = \n",
        "\n",
        "# Compilation du modèle, aevc la MAE comme fonction de coût et comme mesure de performance, et la descente de gradient SGD comme optimizer\n",
        "\n",
        "\n",
        "# Entraînement du modèle sur 5 époques\n"
      ],
      "id": "2fa6dfad-c406-4f19-aa74-8cbdd48a3fa3",
      "execution_count": 8,
      "outputs": [
        {
          "output_type": "error",
          "ename": "SyntaxError",
          "evalue": "ignored",
          "traceback": [
            "\u001b[0;36m  File \u001b[0;32m\"<ipython-input-8-2a3779a24c3a>\"\u001b[0;36m, line \u001b[0;32m5\u001b[0m\n\u001b[0;31m    modele =\u001b[0m\n\u001b[0m             ^\u001b[0m\n\u001b[0;31mSyntaxError\u001b[0m\u001b[0;31m:\u001b[0m invalid syntax\n"
          ]
        }
      ]
    },
    {
      "cell_type": "markdown",
      "metadata": {
        "id": "2186c196-b5c3-48b5-a52c-fe7a75f9047b"
      },
      "source": [
        "Félicitations : vous venez d'entraîner votre premier réseau de neurones !\n",
        "\n",
        "Nous avons donc un modèle qui nous permet de prédire les valeurs de `y`.\n",
        "\n",
        "Comment faire des prédictions ? C'est très simple, grâce à la méthode `predict()` du modèle :"
      ],
      "id": "2186c196-b5c3-48b5-a52c-fe7a75f9047b"
    },
    {
      "cell_type": "code",
      "metadata": {
        "colab": {
          "base_uri": "https://localhost:8080/"
        },
        "id": "JL-uFGErMSn_",
        "outputId": "925c9f8a-5689-4e76-fb42-81336667eca1"
      },
      "source": [
        "# Choix du nombre aléatoire (pour la reproductibilité des calculs)\n",
        "tf.random.set_seed(42)\n",
        "\n",
        "# Création d'un modèle d'une couche en utilisant l'API séquentielle\n",
        "modele = tf.keras.Sequential([tf.keras.layers.Dense(1)])\n",
        "\n",
        "# Compilation du modèle, aevc la MAE comme fonction de coût et comme mesure de performance, et la descente de gradient SGD comme optimizer\n",
        "modele.compile(optimizer=\"sgd\", loss=tf.keras.losses.mae, metrics=[\"mae\"])\n",
        "\n",
        "# Entraînement du modèle sur 5 époques\n",
        "modele.fit(X, y, epochs=5)"
      ],
      "id": "JL-uFGErMSn_",
      "execution_count": 12,
      "outputs": [
        {
          "output_type": "stream",
          "text": [
            "Epoch 1/5\n",
            "1/1 [==============================] - 0s 327ms/step - loss: 11.5048 - mae: 11.5048\n",
            "Epoch 2/5\n",
            "1/1 [==============================] - 0s 6ms/step - loss: 11.3723 - mae: 11.3723\n",
            "Epoch 3/5\n",
            "1/1 [==============================] - 0s 8ms/step - loss: 11.2398 - mae: 11.2398\n",
            "Epoch 4/5\n",
            "1/1 [==============================] - 0s 13ms/step - loss: 11.1073 - mae: 11.1073\n",
            "Epoch 5/5\n",
            "1/1 [==============================] - 0s 12ms/step - loss: 10.9748 - mae: 10.9748\n"
          ],
          "name": "stdout"
        },
        {
          "output_type": "execute_result",
          "data": {
            "text/plain": [
              "<tensorflow.python.keras.callbacks.History at 0x7f90131ee310>"
            ]
          },
          "metadata": {
            "tags": []
          },
          "execution_count": 12
        }
      ]
    },
    {
      "cell_type": "code",
      "metadata": {
        "id": "3635abdd-47a6-4e2a-a211-ff8babe84422"
      },
      "source": [
        "# Prédiction pour une valeur de `X` de 17\n"
      ],
      "id": "3635abdd-47a6-4e2a-a211-ff8babe84422",
      "execution_count": 10,
      "outputs": []
    },
    {
      "cell_type": "code",
      "metadata": {
        "colab": {
          "base_uri": "https://localhost:8080/"
        },
        "id": "iNZgzvdrPDTY",
        "outputId": "0cc942d4-70d0-4c79-d0d9-118f5594efc4"
      },
      "source": [
        "modele.predict([17])"
      ],
      "id": "iNZgzvdrPDTY",
      "execution_count": 13,
      "outputs": [
        {
          "output_type": "execute_result",
          "data": {
            "text/plain": [
              "array([[12.716021]], dtype=float32)"
            ]
          },
          "metadata": {
            "tags": []
          },
          "execution_count": 13
        }
      ]
    },
    {
      "cell_type": "markdown",
      "metadata": {
        "id": "4ea78c5d-a619-472f-8698-06d097dc4b0b"
      },
      "source": [
        "Le résultat n'est pas très bon ... Nous devrions plutôt avoir quelque chose proche de 27.\n",
        "\n",
        "### 4.2. Améliorer un modèle\n",
        "\n",
        "Pour améliorer notre modèle, nous allons faire des modifications sur presque chacune des étapes par lesquelles nous sommes passées :\n",
        "\n",
        "1. **Créer un modèle** : ici nous pouvons faire plusieurs modifications :\n",
        "    - ajouter des couches supplémentaires\n",
        "    - augmenter le nombre de neurones (aussi appelés *hidden units* en anglais) pour chaque couche\n",
        "    - changer la fonction d'activation de chaque couche\n",
        "\n",
        "2. **Compiler un modèle** : nous pouvons choisir une fonction d'optimisation ou changer le taux d'apprentissage de la fonction d'optimisation\n",
        "\n",
        "3. **Entraîner un modèle** : nous pouvons entraîner le modèle sur plus d'*époques* ou sur plus de données\n",
        "\n",
        "Cela fait beaucoup de possibilités !\n",
        "\n",
        "Ce qu'il faut garder en tête c'est que la façon de modifier l'étape de construction du modèle va dépendre du problème sur lequel vous travaillez.\n",
        "\n",
        "Dans notre cas, nous allons d'abord faire simple pour commencer et seulement entraîner notre modèle plus longtemps :"
      ],
      "id": "4ea78c5d-a619-472f-8698-06d097dc4b0b"
    },
    {
      "cell_type": "code",
      "metadata": {
        "id": "fbc137d5-8231-4783-aba8-2a1ed7ce605d"
      },
      "source": [
        "# Choix du nombre aléatoire (pour la reproductibilité des calculs)\n",
        "tf.random.set_seed(42)\n",
        "\n",
        "# Création d'un modèle en utilisant l'API séquentielle\n",
        "modele = \n",
        "\n",
        "# Compilation du modèle\n",
        "\n",
        "\n",
        "# Entraînement du modèle sur 100 époques\n"
      ],
      "id": "fbc137d5-8231-4783-aba8-2a1ed7ce605d",
      "execution_count": null,
      "outputs": []
    },
    {
      "cell_type": "code",
      "metadata": {
        "colab": {
          "base_uri": "https://localhost:8080/"
        },
        "id": "uzmNBmDyRtFc",
        "outputId": "08774e32-433f-4d64-c630-6f69cada7468"
      },
      "source": [
        "# Choix du nombre aléatoire (pour la reproductibilité des calculs)\n",
        "tf.random.set_seed(42)\n",
        "\n",
        "# Création d'un modèle d'une couche en utilisant l'API séquentielle\n",
        "modele = tf.keras.Sequential([tf.keras.layers.Dense(1)])\n",
        "\n",
        "# Compilation du modèle, aevc la MAE comme fonction de coût et comme mesure de performance, et la descente de gradient SGD comme optimizer\n",
        "modele.compile(optimizer=\"sgd\", loss=tf.keras.losses.mae, metrics=[\"mae\"])\n",
        "\n",
        "# Entraînement du modèle sur 100 époques\n",
        "modele.fit(X, y, epochs=100)"
      ],
      "id": "uzmNBmDyRtFc",
      "execution_count": 14,
      "outputs": [
        {
          "output_type": "stream",
          "text": [
            "Epoch 1/100\n",
            "1/1 [==============================] - 0s 268ms/step - loss: 11.5048 - mae: 11.5048\n",
            "Epoch 2/100\n",
            "1/1 [==============================] - 0s 5ms/step - loss: 11.3723 - mae: 11.3723\n",
            "Epoch 3/100\n",
            "1/1 [==============================] - 0s 3ms/step - loss: 11.2398 - mae: 11.2398\n",
            "Epoch 4/100\n",
            "1/1 [==============================] - 0s 4ms/step - loss: 11.1073 - mae: 11.1073\n",
            "Epoch 5/100\n",
            "1/1 [==============================] - 0s 9ms/step - loss: 10.9748 - mae: 10.9748\n",
            "Epoch 6/100\n",
            "1/1 [==============================] - 0s 8ms/step - loss: 10.8423 - mae: 10.8423\n",
            "Epoch 7/100\n",
            "1/1 [==============================] - 0s 7ms/step - loss: 10.7098 - mae: 10.7098\n",
            "Epoch 8/100\n",
            "1/1 [==============================] - 0s 8ms/step - loss: 10.5773 - mae: 10.5773\n",
            "Epoch 9/100\n",
            "1/1 [==============================] - 0s 4ms/step - loss: 10.4448 - mae: 10.4448\n",
            "Epoch 10/100\n",
            "1/1 [==============================] - 0s 5ms/step - loss: 10.3123 - mae: 10.3123\n",
            "Epoch 11/100\n",
            "1/1 [==============================] - 0s 6ms/step - loss: 10.1798 - mae: 10.1798\n",
            "Epoch 12/100\n",
            "1/1 [==============================] - 0s 6ms/step - loss: 10.0473 - mae: 10.0473\n",
            "Epoch 13/100\n",
            "1/1 [==============================] - 0s 4ms/step - loss: 9.9148 - mae: 9.9148\n",
            "Epoch 14/100\n",
            "1/1 [==============================] - 0s 6ms/step - loss: 9.7823 - mae: 9.7823\n",
            "Epoch 15/100\n",
            "1/1 [==============================] - 0s 4ms/step - loss: 9.6498 - mae: 9.6498\n",
            "Epoch 16/100\n",
            "1/1 [==============================] - 0s 4ms/step - loss: 9.5173 - mae: 9.5173\n",
            "Epoch 17/100\n",
            "1/1 [==============================] - 0s 4ms/step - loss: 9.3848 - mae: 9.3848\n",
            "Epoch 18/100\n",
            "1/1 [==============================] - 0s 5ms/step - loss: 9.2523 - mae: 9.2523\n",
            "Epoch 19/100\n",
            "1/1 [==============================] - 0s 5ms/step - loss: 9.1198 - mae: 9.1198\n",
            "Epoch 20/100\n",
            "1/1 [==============================] - 0s 6ms/step - loss: 8.9873 - mae: 8.9873\n",
            "Epoch 21/100\n",
            "1/1 [==============================] - 0s 4ms/step - loss: 8.8548 - mae: 8.8548\n",
            "Epoch 22/100\n",
            "1/1 [==============================] - 0s 4ms/step - loss: 8.7223 - mae: 8.7223\n",
            "Epoch 23/100\n",
            "1/1 [==============================] - 0s 7ms/step - loss: 8.5898 - mae: 8.5898\n",
            "Epoch 24/100\n",
            "1/1 [==============================] - 0s 4ms/step - loss: 8.4573 - mae: 8.4573\n",
            "Epoch 25/100\n",
            "1/1 [==============================] - 0s 3ms/step - loss: 8.3248 - mae: 8.3248\n",
            "Epoch 26/100\n",
            "1/1 [==============================] - 0s 5ms/step - loss: 8.1923 - mae: 8.1923\n",
            "Epoch 27/100\n",
            "1/1 [==============================] - 0s 6ms/step - loss: 8.0598 - mae: 8.0598\n",
            "Epoch 28/100\n",
            "1/1 [==============================] - 0s 5ms/step - loss: 7.9273 - mae: 7.9273\n",
            "Epoch 29/100\n",
            "1/1 [==============================] - 0s 7ms/step - loss: 7.7948 - mae: 7.7948\n",
            "Epoch 30/100\n",
            "1/1 [==============================] - 0s 3ms/step - loss: 7.6623 - mae: 7.6623\n",
            "Epoch 31/100\n",
            "1/1 [==============================] - 0s 4ms/step - loss: 7.5298 - mae: 7.5298\n",
            "Epoch 32/100\n",
            "1/1 [==============================] - 0s 4ms/step - loss: 7.3973 - mae: 7.3973\n",
            "Epoch 33/100\n",
            "1/1 [==============================] - 0s 6ms/step - loss: 7.2648 - mae: 7.2648\n",
            "Epoch 34/100\n",
            "1/1 [==============================] - 0s 7ms/step - loss: 7.2525 - mae: 7.2525\n",
            "Epoch 35/100\n",
            "1/1 [==============================] - 0s 4ms/step - loss: 7.2469 - mae: 7.2469\n",
            "Epoch 36/100\n",
            "1/1 [==============================] - 0s 5ms/step - loss: 7.2413 - mae: 7.2413\n",
            "Epoch 37/100\n",
            "1/1 [==============================] - 0s 7ms/step - loss: 7.2356 - mae: 7.2356\n",
            "Epoch 38/100\n",
            "1/1 [==============================] - 0s 5ms/step - loss: 7.2300 - mae: 7.2300\n",
            "Epoch 39/100\n",
            "1/1 [==============================] - 0s 5ms/step - loss: 7.2244 - mae: 7.2244\n",
            "Epoch 40/100\n",
            "1/1 [==============================] - 0s 5ms/step - loss: 7.2188 - mae: 7.2188\n",
            "Epoch 41/100\n",
            "1/1 [==============================] - 0s 9ms/step - loss: 7.2131 - mae: 7.2131\n",
            "Epoch 42/100\n",
            "1/1 [==============================] - 0s 4ms/step - loss: 7.2075 - mae: 7.2075\n",
            "Epoch 43/100\n",
            "1/1 [==============================] - 0s 7ms/step - loss: 7.2019 - mae: 7.2019\n",
            "Epoch 44/100\n",
            "1/1 [==============================] - 0s 4ms/step - loss: 7.1963 - mae: 7.1963\n",
            "Epoch 45/100\n",
            "1/1 [==============================] - 0s 6ms/step - loss: 7.1906 - mae: 7.1906\n",
            "Epoch 46/100\n",
            "1/1 [==============================] - 0s 7ms/step - loss: 7.1850 - mae: 7.1850\n",
            "Epoch 47/100\n",
            "1/1 [==============================] - 0s 6ms/step - loss: 7.1794 - mae: 7.1794\n",
            "Epoch 48/100\n",
            "1/1 [==============================] - 0s 7ms/step - loss: 7.1738 - mae: 7.1738\n",
            "Epoch 49/100\n",
            "1/1 [==============================] - 0s 4ms/step - loss: 7.1681 - mae: 7.1681\n",
            "Epoch 50/100\n",
            "1/1 [==============================] - 0s 9ms/step - loss: 7.1625 - mae: 7.1625\n",
            "Epoch 51/100\n",
            "1/1 [==============================] - 0s 6ms/step - loss: 7.1569 - mae: 7.1569\n",
            "Epoch 52/100\n",
            "1/1 [==============================] - 0s 5ms/step - loss: 7.1512 - mae: 7.1512\n",
            "Epoch 53/100\n",
            "1/1 [==============================] - 0s 6ms/step - loss: 7.1456 - mae: 7.1456\n",
            "Epoch 54/100\n",
            "1/1 [==============================] - 0s 6ms/step - loss: 7.1400 - mae: 7.1400\n",
            "Epoch 55/100\n",
            "1/1 [==============================] - 0s 6ms/step - loss: 7.1344 - mae: 7.1344\n",
            "Epoch 56/100\n",
            "1/1 [==============================] - 0s 6ms/step - loss: 7.1287 - mae: 7.1287\n",
            "Epoch 57/100\n",
            "1/1 [==============================] - 0s 4ms/step - loss: 7.1231 - mae: 7.1231\n",
            "Epoch 58/100\n",
            "1/1 [==============================] - 0s 7ms/step - loss: 7.1175 - mae: 7.1175\n",
            "Epoch 59/100\n",
            "1/1 [==============================] - 0s 5ms/step - loss: 7.1119 - mae: 7.1119\n",
            "Epoch 60/100\n",
            "1/1 [==============================] - 0s 7ms/step - loss: 7.1063 - mae: 7.1063\n",
            "Epoch 61/100\n",
            "1/1 [==============================] - 0s 6ms/step - loss: 7.1006 - mae: 7.1006\n",
            "Epoch 62/100\n",
            "1/1 [==============================] - 0s 6ms/step - loss: 7.0950 - mae: 7.0950\n",
            "Epoch 63/100\n",
            "1/1 [==============================] - 0s 4ms/step - loss: 7.0894 - mae: 7.0894\n",
            "Epoch 64/100\n",
            "1/1 [==============================] - 0s 7ms/step - loss: 7.0838 - mae: 7.0838\n",
            "Epoch 65/100\n",
            "1/1 [==============================] - 0s 9ms/step - loss: 7.0781 - mae: 7.0781\n",
            "Epoch 66/100\n",
            "1/1 [==============================] - 0s 4ms/step - loss: 7.0725 - mae: 7.0725\n",
            "Epoch 67/100\n",
            "1/1 [==============================] - 0s 4ms/step - loss: 7.0669 - mae: 7.0669\n",
            "Epoch 68/100\n",
            "1/1 [==============================] - 0s 5ms/step - loss: 7.0613 - mae: 7.0613\n",
            "Epoch 69/100\n",
            "1/1 [==============================] - 0s 4ms/step - loss: 7.0556 - mae: 7.0556\n",
            "Epoch 70/100\n",
            "1/1 [==============================] - 0s 7ms/step - loss: 7.0500 - mae: 7.0500\n",
            "Epoch 71/100\n",
            "1/1 [==============================] - 0s 4ms/step - loss: 7.0444 - mae: 7.0444\n",
            "Epoch 72/100\n",
            "1/1 [==============================] - 0s 6ms/step - loss: 7.0388 - mae: 7.0388\n",
            "Epoch 73/100\n",
            "1/1 [==============================] - 0s 4ms/step - loss: 7.0331 - mae: 7.0331\n",
            "Epoch 74/100\n",
            "1/1 [==============================] - 0s 5ms/step - loss: 7.0275 - mae: 7.0275\n",
            "Epoch 75/100\n",
            "1/1 [==============================] - 0s 7ms/step - loss: 7.0219 - mae: 7.0219\n",
            "Epoch 76/100\n",
            "1/1 [==============================] - 0s 5ms/step - loss: 7.0163 - mae: 7.0163\n",
            "Epoch 77/100\n",
            "1/1 [==============================] - 0s 4ms/step - loss: 7.0106 - mae: 7.0106\n",
            "Epoch 78/100\n",
            "1/1 [==============================] - 0s 5ms/step - loss: 7.0050 - mae: 7.0050\n",
            "Epoch 79/100\n",
            "1/1 [==============================] - 0s 5ms/step - loss: 6.9994 - mae: 6.9994\n",
            "Epoch 80/100\n",
            "1/1 [==============================] - 0s 6ms/step - loss: 6.9938 - mae: 6.9938\n",
            "Epoch 81/100\n",
            "1/1 [==============================] - 0s 5ms/step - loss: 6.9881 - mae: 6.9881\n",
            "Epoch 82/100\n",
            "1/1 [==============================] - 0s 5ms/step - loss: 6.9825 - mae: 6.9825\n",
            "Epoch 83/100\n",
            "1/1 [==============================] - 0s 5ms/step - loss: 6.9769 - mae: 6.9769\n",
            "Epoch 84/100\n",
            "1/1 [==============================] - 0s 4ms/step - loss: 6.9713 - mae: 6.9713\n",
            "Epoch 85/100\n",
            "1/1 [==============================] - 0s 6ms/step - loss: 6.9656 - mae: 6.9656\n",
            "Epoch 86/100\n",
            "1/1 [==============================] - 0s 5ms/step - loss: 6.9600 - mae: 6.9600\n",
            "Epoch 87/100\n",
            "1/1 [==============================] - 0s 7ms/step - loss: 6.9544 - mae: 6.9544\n",
            "Epoch 88/100\n",
            "1/1 [==============================] - 0s 10ms/step - loss: 6.9488 - mae: 6.9488\n",
            "Epoch 89/100\n",
            "1/1 [==============================] - 0s 9ms/step - loss: 6.9431 - mae: 6.9431\n",
            "Epoch 90/100\n",
            "1/1 [==============================] - 0s 6ms/step - loss: 6.9375 - mae: 6.9375\n",
            "Epoch 91/100\n",
            "1/1 [==============================] - 0s 8ms/step - loss: 6.9319 - mae: 6.9319\n",
            "Epoch 92/100\n",
            "1/1 [==============================] - 0s 21ms/step - loss: 6.9263 - mae: 6.9263\n",
            "Epoch 93/100\n",
            "1/1 [==============================] - 0s 6ms/step - loss: 6.9206 - mae: 6.9206\n",
            "Epoch 94/100\n",
            "1/1 [==============================] - 0s 7ms/step - loss: 6.9150 - mae: 6.9150\n",
            "Epoch 95/100\n",
            "1/1 [==============================] - 0s 5ms/step - loss: 6.9094 - mae: 6.9094\n",
            "Epoch 96/100\n",
            "1/1 [==============================] - 0s 6ms/step - loss: 6.9038 - mae: 6.9038\n",
            "Epoch 97/100\n",
            "1/1 [==============================] - 0s 6ms/step - loss: 6.8981 - mae: 6.8981\n",
            "Epoch 98/100\n",
            "1/1 [==============================] - 0s 5ms/step - loss: 6.8925 - mae: 6.8925\n",
            "Epoch 99/100\n",
            "1/1 [==============================] - 0s 5ms/step - loss: 6.8869 - mae: 6.8869\n",
            "Epoch 100/100\n",
            "1/1 [==============================] - 0s 6ms/step - loss: 6.8813 - mae: 6.8813\n"
          ],
          "name": "stdout"
        },
        {
          "output_type": "execute_result",
          "data": {
            "text/plain": [
              "<tensorflow.python.keras.callbacks.History at 0x7f90127fe8d0>"
            ]
          },
          "metadata": {
            "tags": []
          },
          "execution_count": 14
        }
      ]
    },
    {
      "cell_type": "markdown",
      "metadata": {
        "id": "bc1d8f04-0da6-4da7-bd24-7dfa98324d7b"
      },
      "source": [
        "Vous avez peut-être remarqué que la valeur de perte/erreur (*loss*) a diminué par rapport au calcul précédent (elle a continué à baisser au fur et à mesure des époques).\n",
        "\n",
        "Qu'est-ce que cela signifie par rapport aux prédictions du modèle ? Faisons à nouveau une prédiction pour `X` égal à 17 :"
      ],
      "id": "bc1d8f04-0da6-4da7-bd24-7dfa98324d7b"
    },
    {
      "cell_type": "code",
      "metadata": {
        "id": "26b87635-ca4f-437e-a680-21f23240357c"
      },
      "source": [
        ""
      ],
      "id": "26b87635-ca4f-437e-a680-21f23240357c",
      "execution_count": null,
      "outputs": []
    },
    {
      "cell_type": "code",
      "metadata": {
        "colab": {
          "base_uri": "https://localhost:8080/"
        },
        "id": "SyG35QwHR3aC",
        "outputId": "2b24393c-3193-45a9-9c55-559fb78bdfd7"
      },
      "source": [
        "modele.predict([17])"
      ],
      "id": "SyG35QwHR3aC",
      "execution_count": 15,
      "outputs": [
        {
          "output_type": "execute_result",
          "data": {
            "text/plain": [
              "array([[30.158512]], dtype=float32)"
            ]
          },
          "metadata": {
            "tags": []
          },
          "execution_count": 15
        }
      ]
    },
    {
      "cell_type": "markdown",
      "metadata": {
        "id": "515dc63f-1449-487b-b19e-1d1e27124a41"
      },
      "source": [
        "C'est déjà mieux ! Mais cela pourrait être meilleur.\n",
        "\n",
        "## 5. Evaluer un modèle\n",
        "### 5.1. Visualiser un modèle\n",
        "\n",
        "Nous allons d'abord créer un jeu de données plus grand (50 valeurs) et les étiquettes associées (toujours avec la même relation `y=X+10`) :"
      ],
      "id": "515dc63f-1449-487b-b19e-1d1e27124a41"
    },
    {
      "cell_type": "code",
      "metadata": {
        "id": "3c1f57dd-7749-4855-9fe6-2b9684b60b76"
      },
      "source": [
        "# en utilisant np.arange\n",
        "X = \n",
        "X"
      ],
      "id": "3c1f57dd-7749-4855-9fe6-2b9684b60b76",
      "execution_count": null,
      "outputs": []
    },
    {
      "cell_type": "code",
      "metadata": {
        "colab": {
          "base_uri": "https://localhost:8080/"
        },
        "id": "6mwJeUusTmS3",
        "outputId": "0b1120e5-443a-447e-a0c9-66a826ba0d26"
      },
      "source": [
        "X = np.arange(-100, 100, 4)\n",
        "X"
      ],
      "id": "6mwJeUusTmS3",
      "execution_count": 16,
      "outputs": [
        {
          "output_type": "execute_result",
          "data": {
            "text/plain": [
              "array([-100,  -96,  -92,  -88,  -84,  -80,  -76,  -72,  -68,  -64,  -60,\n",
              "        -56,  -52,  -48,  -44,  -40,  -36,  -32,  -28,  -24,  -20,  -16,\n",
              "        -12,   -8,   -4,    0,    4,    8,   12,   16,   20,   24,   28,\n",
              "         32,   36,   40,   44,   48,   52,   56,   60,   64,   68,   72,\n",
              "         76,   80,   84,   88,   92,   96])"
            ]
          },
          "metadata": {
            "tags": []
          },
          "execution_count": 16
        }
      ]
    },
    {
      "cell_type": "code",
      "metadata": {
        "id": "dfe5de1e-fb24-4ed0-a327-84b627053736"
      },
      "source": [
        "# en utilisant np.arange\n",
        "y = \n",
        "y"
      ],
      "id": "dfe5de1e-fb24-4ed0-a327-84b627053736",
      "execution_count": null,
      "outputs": []
    },
    {
      "cell_type": "code",
      "metadata": {
        "colab": {
          "base_uri": "https://localhost:8080/"
        },
        "id": "IF5brVy1T7Ge",
        "outputId": "e857bd42-5019-4408-8f49-e4b8c7b9b400"
      },
      "source": [
        "Y = np.arange(-90, 107, 4)\n",
        "Y"
      ],
      "id": "IF5brVy1T7Ge",
      "execution_count": 17,
      "outputs": [
        {
          "output_type": "execute_result",
          "data": {
            "text/plain": [
              "array([-90, -86, -82, -78, -74, -70, -66, -62, -58, -54, -50, -46, -42,\n",
              "       -38, -34, -30, -26, -22, -18, -14, -10,  -6,  -2,   2,   6,  10,\n",
              "        14,  18,  22,  26,  30,  34,  38,  42,  46,  50,  54,  58,  62,\n",
              "        66,  70,  74,  78,  82,  86,  90,  94,  98, 102, 106])"
            ]
          },
          "metadata": {
            "tags": []
          },
          "execution_count": 17
        }
      ]
    },
    {
      "cell_type": "markdown",
      "metadata": {
        "id": "ea642261-4ae6-4526-b76e-89ef2f51c714"
      },
      "source": [
        "Ceci est équivalent à :"
      ],
      "id": "ea642261-4ae6-4526-b76e-89ef2f51c714"
    },
    {
      "cell_type": "code",
      "metadata": {
        "id": "2a7d59a7-5011-444c-8d0d-01733cc071a0"
      },
      "source": [
        "# en utilisant directement la relation entre X et y\n",
        "y =\n",
        "y"
      ],
      "id": "2a7d59a7-5011-444c-8d0d-01733cc071a0",
      "execution_count": null,
      "outputs": []
    },
    {
      "cell_type": "code",
      "metadata": {
        "colab": {
          "base_uri": "https://localhost:8080/"
        },
        "id": "ZtPhKMeLUQkc",
        "outputId": "556611ac-6526-4822-e92c-d3c2e3135772"
      },
      "source": [
        "# en utilisant directement la relation entre X et y\n",
        "y = X+10\n",
        "Y"
      ],
      "id": "ZtPhKMeLUQkc",
      "execution_count": 18,
      "outputs": [
        {
          "output_type": "execute_result",
          "data": {
            "text/plain": [
              "array([-90, -86, -82, -78, -74, -70, -66, -62, -58, -54, -50, -46, -42,\n",
              "       -38, -34, -30, -26, -22, -18, -14, -10,  -6,  -2,   2,   6,  10,\n",
              "        14,  18,  22,  26,  30,  34,  38,  42,  46,  50,  54,  58,  62,\n",
              "        66,  70,  74,  78,  82,  86,  90,  94,  98, 102, 106])"
            ]
          },
          "metadata": {
            "tags": []
          },
          "execution_count": 18
        }
      ]
    },
    {
      "cell_type": "markdown",
      "metadata": {
        "id": "f667022c-3938-49a2-8454-c74ca37c1d71"
      },
      "source": [
        "Nous allons ensuite partager nos données en un jeu d'entraînement et un jeu de test.\n",
        "\n",
        "Crééons ces 2 jeux de données en partageant nos variables `X` et `y` :"
      ],
      "id": "f667022c-3938-49a2-8454-c74ca37c1d71"
    },
    {
      "cell_type": "code",
      "metadata": {
        "id": "e492c744-78cd-4e81-8d5d-fb2cf17dc9ec"
      },
      "source": [
        "# taille des données\n",
        "len(X)"
      ],
      "id": "e492c744-78cd-4e81-8d5d-fb2cf17dc9ec",
      "execution_count": null,
      "outputs": []
    },
    {
      "cell_type": "code",
      "metadata": {
        "id": "73286526-c940-403b-830f-5f2ab24d3e45",
        "colab": {
          "base_uri": "https://localhost:8080/",
          "height": 129
        },
        "outputId": "1b0cd4ff-81c6-4a2d-fea0-b3fd4d7b1289"
      },
      "source": [
        "# partage des données de sorte à conserver les 40 premières valeurs pour le jeu d'entraînement (80% des données)\n",
        "X_train = X[0:39]\n",
        "\n",
        "y_train = \n",
        "\n",
        "X_test =  X[0:39]\n",
        "y_test = \n",
        "\n",
        "len(X_train), len(X_test)"
      ],
      "id": "73286526-c940-403b-830f-5f2ab24d3e45",
      "execution_count": 19,
      "outputs": [
        {
          "output_type": "error",
          "ename": "SyntaxError",
          "evalue": "ignored",
          "traceback": [
            "\u001b[0;36m  File \u001b[0;32m\"<ipython-input-19-25b3799d3ff9>\"\u001b[0;36m, line \u001b[0;32m4\u001b[0m\n\u001b[0;31m    y_train =\u001b[0m\n\u001b[0m              ^\u001b[0m\n\u001b[0;31mSyntaxError\u001b[0m\u001b[0;31m:\u001b[0m invalid syntax\n"
          ]
        }
      ]
    },
    {
      "cell_type": "code",
      "metadata": {
        "colab": {
          "base_uri": "https://localhost:8080/"
        },
        "id": "MBGYR3wWV2PT",
        "outputId": "ec921a93-181b-4266-9f91-f32649227b16"
      },
      "source": [
        "# partage des données de sorte à conserver les 40 premières valeurs pour le jeu d'entraînement (80% des données)\n",
        "X_train = X[0:40]\n",
        "\n",
        "y_train = Y[0:40]\n",
        "\n",
        "X_test =  X[40:50]\n",
        "y_test =  Y[40:50]\n",
        "\n",
        "len(X_train), len(X_test)"
      ],
      "id": "MBGYR3wWV2PT",
      "execution_count": 20,
      "outputs": [
        {
          "output_type": "execute_result",
          "data": {
            "text/plain": [
              "(40, 10)"
            ]
          },
          "metadata": {
            "tags": []
          },
          "execution_count": 20
        }
      ]
    },
    {
      "cell_type": "markdown",
      "metadata": {
        "id": "ffb1f63e-b663-47f5-96cb-4185583e0af8"
      },
      "source": [
        "### 5.2. Visualiser les données\n",
        "\n",
        "Maintenant que nous avons nos jeux d'entraînement et de test, il est judicieux de les visualiser.\n",
        "\n",
        "Traçons les données en les différentiant avec 2 couleurs différentes :"
      ],
      "id": "ffb1f63e-b663-47f5-96cb-4185583e0af8"
    },
    {
      "cell_type": "code",
      "metadata": {
        "id": "576faeac-03f3-4473-a236-1edfd9d8d61a"
      },
      "source": [
        "plt.figure(figsize=(10, 7))\n",
        "plt.scatter(, , c='b', label=\"\")\n",
        "plt.scatter(, , c='g', label='')\n",
        "plt.legend();"
      ],
      "id": "576faeac-03f3-4473-a236-1edfd9d8d61a",
      "execution_count": null,
      "outputs": []
    },
    {
      "cell_type": "code",
      "metadata": {
        "colab": {
          "base_uri": "https://localhost:8080/",
          "height": 445
        },
        "id": "PjIDi1tIWy8o",
        "outputId": "67069f0d-3e84-4032-cf34-62be13493fb9"
      },
      "source": [
        "plt.figure(figsize=(10, 7))\n",
        "plt.scatter(X_train, y_train, c='b', label=\"\")\n",
        "plt.scatter(X_test, y_test, c='g', label='')\n",
        "plt.legend();"
      ],
      "id": "PjIDi1tIWy8o",
      "execution_count": 21,
      "outputs": [
        {
          "output_type": "stream",
          "text": [
            "No handles with labels found to put in legend.\n"
          ],
          "name": "stderr"
        },
        {
          "output_type": "display_data",
          "data": {
            "image/png": "[encoded data removed]",
            "text/plain": [
              "<Figure size 720x504 with 1 Axes>"
            ]
          },
          "metadata": {
            "tags": [],
            "needs_background": "light"
          }
        }
      ]
    },
    {
      "cell_type": "code",
      "metadata": {
        "id": "LafSVgkdWy7J"
      },
      "source": [
        ""
      ],
      "id": "LafSVgkdWy7J",
      "execution_count": null,
      "outputs": []
    },
    {
      "cell_type": "markdown",
      "metadata": {
        "id": "399bcc7a-17d7-478d-99e7-b04ced857351"
      },
      "source": [
        "### 5.3. Visualiser le modèle\n",
        "\n",
        "Nous allons reprendre les mêmes étapes que précédemment pour créer notre nouveau modèle :"
      ],
      "id": "399bcc7a-17d7-478d-99e7-b04ced857351"
    },
    {
      "cell_type": "code",
      "metadata": {
        "id": "bac5a1e7-5688-4072-99e7-c7508abafc31"
      },
      "source": [
        "# Choix du nombre aléatoire (pour la reproductibilité des calculs)\n",
        "tf.random.set_seed(42)\n",
        "\n",
        "# Création d'un modèle en utilisant l'API séquentielle\n",
        "modele = \n",
        "\n",
        "# Compilation du modèle\n"
      ],
      "id": "bac5a1e7-5688-4072-99e7-c7508abafc31",
      "execution_count": null,
      "outputs": []
    },
    {
      "cell_type": "code",
      "metadata": {
        "id": "qjeiPX6fXH3k"
      },
      "source": [
        "# Choix du nombre aléatoire (pour la reproductibilité des calculs)\n",
        "tf.random.set_seed(42)\n",
        "\n",
        "# Création d'un modèle d'une couche en utilisant l'API séquentielle\n",
        "modele = tf.keras.Sequential([tf.keras.layers.Dense(1)])\n",
        "\n",
        "# Compilation du modèle, aevc la MAE comme fonction de coût et comme mesure de performance, et la descente de gradient SGD comme optimizer\n",
        "modele.compile(optimizer=\"sgd\", loss=tf.keras.losses.mae, metrics=[\"mae\"])\n"
      ],
      "id": "qjeiPX6fXH3k",
      "execution_count": 22,
      "outputs": []
    },
    {
      "cell_type": "markdown",
      "metadata": {
        "id": "07b83978-9eb4-462b-b534-d5ed1439aed6"
      },
      "source": [
        "Après avoir créé notre modèle à partir d'une instance de la classe `Sequential` du module `keras` et avoir compilé notre modèle, si l'on essaie de visualiser notre modèle à l'aide la méthode `summary()` :"
      ],
      "id": "07b83978-9eb4-462b-b534-d5ed1439aed6"
    },
    {
      "cell_type": "code",
      "metadata": {
        "id": "3bd5d160-976a-4c0c-a702-b59f01c382b9"
      },
      "source": [
        ""
      ],
      "id": "3bd5d160-976a-4c0c-a702-b59f01c382b9",
      "execution_count": null,
      "outputs": []
    },
    {
      "cell_type": "code",
      "metadata": {
        "colab": {
          "base_uri": "https://localhost:8080/",
          "height": 282
        },
        "id": "WkJMUMdBhUwg",
        "outputId": "294e5229-121d-42a9-cf18-c5ee238672eb"
      },
      "source": [
        "modele.summary()"
      ],
      "id": "WkJMUMdBhUwg",
      "execution_count": 23,
      "outputs": [
        {
          "output_type": "error",
          "ename": "ValueError",
          "evalue": "ignored",
          "traceback": [
            "\u001b[0;31m---------------------------------------------------------------------------\u001b[0m",
            "\u001b[0;31mValueError\u001b[0m                                Traceback (most recent call last)",
            "\u001b[0;32m<ipython-input-23-4798e583c3d7>\u001b[0m in \u001b[0;36m<module>\u001b[0;34m()\u001b[0m\n\u001b[0;32m----> 1\u001b[0;31m \u001b[0mmodele\u001b[0m\u001b[0;34m.\u001b[0m\u001b[0msummary\u001b[0m\u001b[0;34m(\u001b[0m\u001b[0;34m)\u001b[0m\u001b[0;34m\u001b[0m\u001b[0;34m\u001b[0m\u001b[0m\n\u001b[0m",
            "\u001b[0;32m/usr/local/lib/python3.7/dist-packages/tensorflow/python/keras/engine/training.py\u001b[0m in \u001b[0;36msummary\u001b[0;34m(self, line_length, positions, print_fn)\u001b[0m\n\u001b[1;32m   2475\u001b[0m     \"\"\"\n\u001b[1;32m   2476\u001b[0m     \u001b[0;32mif\u001b[0m \u001b[0;32mnot\u001b[0m \u001b[0mself\u001b[0m\u001b[0;34m.\u001b[0m\u001b[0mbuilt\u001b[0m\u001b[0;34m:\u001b[0m\u001b[0;34m\u001b[0m\u001b[0;34m\u001b[0m\u001b[0m\n\u001b[0;32m-> 2477\u001b[0;31m       raise ValueError('This model has not yet been built. '\n\u001b[0m\u001b[1;32m   2478\u001b[0m                        \u001b[0;34m'Build the model first by calling `build()` or calling '\u001b[0m\u001b[0;34m\u001b[0m\u001b[0;34m\u001b[0m\u001b[0m\n\u001b[1;32m   2479\u001b[0m                        \u001b[0;34m'`fit()` with some data, or specify '\u001b[0m\u001b[0;34m\u001b[0m\u001b[0;34m\u001b[0m\u001b[0m\n",
            "\u001b[0;31mValueError\u001b[0m: This model has not yet been built. Build the model first by calling `build()` or calling `fit()` with some data, or specify an `input_shape` argument in the first layer(s) for automatic build."
          ]
        }
      ]
    },
    {
      "cell_type": "markdown",
      "metadata": {
        "id": "fefa95e7-29bd-46de-9224-9410f2f94398"
      },
      "source": [
        "Cela provoque une erreur qui est assez explicite.\n",
        "\n",
        "Nous n'avons pas encore \"construit\" notre modèle (il n'est pas entraîné) et nous n'avons pas non plus spécifié la forme des données d'entrée (*input shape*).\n",
        "\n",
        "Nous pouvons définir la forme de nos données en utilisant le paramètre `input_shape` de la première couche (lui donner par exemple la valeur `1`) :"
      ],
      "id": "fefa95e7-29bd-46de-9224-9410f2f94398"
    },
    {
      "cell_type": "code",
      "metadata": {
        "id": "38510de4-b5f7-489a-b81c-992d0ae0629d"
      },
      "source": [
        "# Choix du nombre aléatoire (pour la reproductibilité des calculs)\n",
        "tf.random.set_seed(42)\n",
        "\n",
        "# Création d'un modèle d'une couche en utilisant l'API séquentielle\n",
        "modele = tf.keras.Sequential([tf.keras.layers.Dense(1, input_shape=[1])])\n",
        "\n",
        "# Compilation du modèle, aevc la MAE comme fonction de coût et comme mesure de performance, et la descente de gradient SGD comme optimizer\n",
        "modele.compile(optimizer=\"sgd\", loss=tf.keras.losses.mae, metrics=[\"mae\"])\n"
      ],
      "id": "38510de4-b5f7-489a-b81c-992d0ae0629d",
      "execution_count": 24,
      "outputs": []
    },
    {
      "cell_type": "markdown",
      "metadata": {
        "id": "43afb890-95fd-4ae4-9e06-db7918f92a73"
      },
      "source": [
        "Cette fois, l'appel à la méthode `summary()` devrait fonctionner :"
      ],
      "id": "43afb890-95fd-4ae4-9e06-db7918f92a73"
    },
    {
      "cell_type": "code",
      "metadata": {
        "id": "c20817d4-e666-4cd6-b910-4f1dc1b62e89"
      },
      "source": [
        ""
      ],
      "id": "c20817d4-e666-4cd6-b910-4f1dc1b62e89",
      "execution_count": null,
      "outputs": []
    },
    {
      "cell_type": "code",
      "metadata": {
        "colab": {
          "base_uri": "https://localhost:8080/"
        },
        "id": "nUJ4mNJrlwt8",
        "outputId": "ab2c9d92-4d7d-4159-a20f-cdda122e3eca"
      },
      "source": [
        "modele.summary()"
      ],
      "id": "nUJ4mNJrlwt8",
      "execution_count": 25,
      "outputs": [
        {
          "output_type": "stream",
          "text": [
            "Model: \"sequential_4\"\n",
            "_________________________________________________________________\n",
            "Layer (type)                 Output Shape              Param #   \n",
            "=================================================================\n",
            "dense_4 (Dense)              (None, 1)                 2         \n",
            "=================================================================\n",
            "Total params: 2\n",
            "Trainable params: 2\n",
            "Non-trainable params: 0\n",
            "_________________________________________________________________\n"
          ],
          "name": "stdout"
        }
      ]
    },
    {
      "cell_type": "markdown",
      "metadata": {
        "id": "1f3698c7-d23d-41df-99e6-5d7fbb16be76"
      },
      "source": [
        "`summary()` nous montre les différentes couches du modèle, la forme des données de sortie et le nombre de paramètres :\n",
        "- **Total params :** nombre total de paramètres du modèle\n",
        "- **Trainable params :** ce sont les paramètres que le modèle met à jour au fur et à mesure de l'entraînement (ces paramètres sont aussi parfois appelés *patterns*)\n",
        "- **Non-trainable params :** ces paramètres ne sont pas mis à jour pendant l'entraînement du modèle\n",
        "\n",
        "Entraînons maintenant notre modèle sur le jeu d'entraînement :"
      ],
      "id": "1f3698c7-d23d-41df-99e6-5d7fbb16be76"
    },
    {
      "cell_type": "code",
      "metadata": {
        "id": "7d8a69da-4e9a-4499-aa7a-34777f3f6b7a"
      },
      "source": [
        "# entraînement sur 100 époques\n"
      ],
      "id": "7d8a69da-4e9a-4499-aa7a-34777f3f6b7a",
      "execution_count": null,
      "outputs": []
    },
    {
      "cell_type": "code",
      "metadata": {
        "colab": {
          "base_uri": "https://localhost:8080/"
        },
        "id": "_7DE97awl8Xx",
        "outputId": "d1288b68-e51a-4829-9aac-5f47e9663910"
      },
      "source": [
        "\n",
        "modele.fit(X_train, y_train, epochs=100)"
      ],
      "id": "_7DE97awl8Xx",
      "execution_count": 26,
      "outputs": [
        {
          "output_type": "stream",
          "text": [
            "Epoch 1/100\n",
            "2/2 [==============================] - 0s 9ms/step - loss: 15.9024 - mae: 15.9024\n",
            "Epoch 2/100\n",
            "2/2 [==============================] - 0s 13ms/step - loss: 11.2837 - mae: 11.2837\n",
            "Epoch 3/100\n",
            "2/2 [==============================] - 0s 5ms/step - loss: 11.1074 - mae: 11.1074\n",
            "Epoch 4/100\n",
            "2/2 [==============================] - 0s 9ms/step - loss: 9.2991 - mae: 9.2991\n",
            "Epoch 5/100\n",
            "2/2 [==============================] - 0s 8ms/step - loss: 10.1677 - mae: 10.1677\n",
            "Epoch 6/100\n",
            "2/2 [==============================] - 0s 8ms/step - loss: 9.4303 - mae: 9.4303\n",
            "Epoch 7/100\n",
            "2/2 [==============================] - 0s 5ms/step - loss: 8.5704 - mae: 8.5704\n",
            "Epoch 8/100\n",
            "2/2 [==============================] - 0s 5ms/step - loss: 9.0442 - mae: 9.0442\n",
            "Epoch 9/100\n",
            "2/2 [==============================] - 0s 8ms/step - loss: 18.7517 - mae: 18.7517\n",
            "Epoch 10/100\n",
            "2/2 [==============================] - 0s 5ms/step - loss: 10.1142 - mae: 10.1142\n",
            "Epoch 11/100\n",
            "2/2 [==============================] - 0s 6ms/step - loss: 8.3980 - mae: 8.3980\n",
            "Epoch 12/100\n",
            "2/2 [==============================] - 0s 7ms/step - loss: 10.6639 - mae: 10.6639\n",
            "Epoch 13/100\n",
            "2/2 [==============================] - 0s 5ms/step - loss: 9.7977 - mae: 9.7977\n",
            "Epoch 14/100\n",
            "2/2 [==============================] - 0s 7ms/step - loss: 16.0103 - mae: 16.0103\n",
            "Epoch 15/100\n",
            "2/2 [==============================] - 0s 6ms/step - loss: 11.4068 - mae: 11.4068\n",
            "Epoch 16/100\n",
            "2/2 [==============================] - 0s 5ms/step - loss: 8.5393 - mae: 8.5393\n",
            "Epoch 17/100\n",
            "2/2 [==============================] - 0s 4ms/step - loss: 13.6348 - mae: 13.6348\n",
            "Epoch 18/100\n",
            "2/2 [==============================] - 0s 7ms/step - loss: 11.4629 - mae: 11.4629\n",
            "Epoch 19/100\n",
            "2/2 [==============================] - 0s 8ms/step - loss: 17.9148 - mae: 17.9148\n",
            "Epoch 20/100\n",
            "2/2 [==============================] - 0s 5ms/step - loss: 15.0494 - mae: 15.0494\n",
            "Epoch 21/100\n",
            "2/2 [==============================] - 0s 4ms/step - loss: 11.0216 - mae: 11.0216\n",
            "Epoch 22/100\n",
            "2/2 [==============================] - 0s 4ms/step - loss: 8.1558 - mae: 8.1558\n",
            "Epoch 23/100\n",
            "2/2 [==============================] - 0s 5ms/step - loss: 9.5138 - mae: 9.5138\n",
            "Epoch 24/100\n",
            "2/2 [==============================] - 0s 6ms/step - loss: 7.6617 - mae: 7.6617\n",
            "Epoch 25/100\n",
            "2/2 [==============================] - 0s 12ms/step - loss: 13.1859 - mae: 13.1859\n",
            "Epoch 26/100\n",
            "2/2 [==============================] - 0s 11ms/step - loss: 16.4211 - mae: 16.4211\n",
            "Epoch 27/100\n",
            "2/2 [==============================] - 0s 6ms/step - loss: 13.1660 - mae: 13.1660\n",
            "Epoch 28/100\n",
            "2/2 [==============================] - 0s 8ms/step - loss: 14.2559 - mae: 14.2559\n",
            "Epoch 29/100\n",
            "2/2 [==============================] - 0s 7ms/step - loss: 10.0670 - mae: 10.0670\n",
            "Epoch 30/100\n",
            "2/2 [==============================] - 0s 5ms/step - loss: 16.3409 - mae: 16.3409\n",
            "Epoch 31/100\n",
            "2/2 [==============================] - 0s 6ms/step - loss: 23.6444 - mae: 23.6444\n",
            "Epoch 32/100\n",
            "2/2 [==============================] - 0s 4ms/step - loss: 7.6215 - mae: 7.6215\n",
            "Epoch 33/100\n",
            "2/2 [==============================] - 0s 6ms/step - loss: 9.3221 - mae: 9.3221\n",
            "Epoch 34/100\n",
            "2/2 [==============================] - 0s 12ms/step - loss: 13.7313 - mae: 13.7313\n",
            "Epoch 35/100\n",
            "2/2 [==============================] - 0s 5ms/step - loss: 11.1276 - mae: 11.1276\n",
            "Epoch 36/100\n",
            "2/2 [==============================] - 0s 4ms/step - loss: 13.3222 - mae: 13.3222\n",
            "Epoch 37/100\n",
            "2/2 [==============================] - 0s 4ms/step - loss: 9.4763 - mae: 9.4763\n",
            "Epoch 38/100\n",
            "2/2 [==============================] - 0s 4ms/step - loss: 10.1381 - mae: 10.1381\n",
            "Epoch 39/100\n",
            "2/2 [==============================] - 0s 4ms/step - loss: 10.1793 - mae: 10.1793\n",
            "Epoch 40/100\n",
            "2/2 [==============================] - 0s 4ms/step - loss: 10.9137 - mae: 10.9137\n",
            "Epoch 41/100\n",
            "2/2 [==============================] - 0s 4ms/step - loss: 7.9063 - mae: 7.9063\n",
            "Epoch 42/100\n",
            "2/2 [==============================] - 0s 4ms/step - loss: 10.0914 - mae: 10.0914\n",
            "Epoch 43/100\n",
            "2/2 [==============================] - 0s 4ms/step - loss: 8.7006 - mae: 8.7006\n",
            "Epoch 44/100\n",
            "2/2 [==============================] - 0s 4ms/step - loss: 12.2047 - mae: 12.2047\n",
            "Epoch 45/100\n",
            "2/2 [==============================] - 0s 7ms/step - loss: 13.7970 - mae: 13.7970\n",
            "Epoch 46/100\n",
            "2/2 [==============================] - 0s 5ms/step - loss: 8.4687 - mae: 8.4687\n",
            "Epoch 47/100\n",
            "2/2 [==============================] - 0s 4ms/step - loss: 9.1330 - mae: 9.1330\n",
            "Epoch 48/100\n",
            "2/2 [==============================] - 0s 6ms/step - loss: 10.6190 - mae: 10.6190\n",
            "Epoch 49/100\n",
            "2/2 [==============================] - 0s 4ms/step - loss: 7.7503 - mae: 7.7503\n",
            "Epoch 50/100\n",
            "2/2 [==============================] - 0s 4ms/step - loss: 9.5407 - mae: 9.5407\n",
            "Epoch 51/100\n",
            "2/2 [==============================] - 0s 9ms/step - loss: 9.1584 - mae: 9.1584\n",
            "Epoch 52/100\n",
            "2/2 [==============================] - 0s 4ms/step - loss: 16.3630 - mae: 16.3630\n",
            "Epoch 53/100\n",
            "2/2 [==============================] - 0s 4ms/step - loss: 14.1299 - mae: 14.1299\n",
            "Epoch 54/100\n",
            "2/2 [==============================] - 0s 4ms/step - loss: 21.1247 - mae: 21.1247\n",
            "Epoch 55/100\n",
            "2/2 [==============================] - 0s 5ms/step - loss: 16.3961 - mae: 16.3961\n",
            "Epoch 56/100\n",
            "2/2 [==============================] - 0s 4ms/step - loss: 9.9806 - mae: 9.9806\n",
            "Epoch 57/100\n",
            "2/2 [==============================] - 0s 4ms/step - loss: 9.9606 - mae: 9.9606\n",
            "Epoch 58/100\n",
            "2/2 [==============================] - 0s 4ms/step - loss: 9.2209 - mae: 9.2209\n",
            "Epoch 59/100\n",
            "2/2 [==============================] - 0s 7ms/step - loss: 8.4239 - mae: 8.4239\n",
            "Epoch 60/100\n",
            "2/2 [==============================] - 0s 8ms/step - loss: 9.4869 - mae: 9.4869\n",
            "Epoch 61/100\n",
            "2/2 [==============================] - 0s 4ms/step - loss: 11.4355 - mae: 11.4355\n",
            "Epoch 62/100\n",
            "2/2 [==============================] - 0s 3ms/step - loss: 11.6887 - mae: 11.6887\n",
            "Epoch 63/100\n",
            "2/2 [==============================] - 0s 4ms/step - loss: 7.0838 - mae: 7.0838\n",
            "Epoch 64/100\n",
            "2/2 [==============================] - 0s 4ms/step - loss: 16.9675 - mae: 16.9675\n",
            "Epoch 65/100\n",
            "2/2 [==============================] - 0s 4ms/step - loss: 12.4599 - mae: 12.4599\n",
            "Epoch 66/100\n",
            "2/2 [==============================] - 0s 4ms/step - loss: 13.0184 - mae: 13.0184\n",
            "Epoch 67/100\n",
            "2/2 [==============================] - 0s 4ms/step - loss: 8.0600 - mae: 8.0600\n",
            "Epoch 68/100\n",
            "2/2 [==============================] - 0s 4ms/step - loss: 10.1888 - mae: 10.1888\n",
            "Epoch 69/100\n",
            "2/2 [==============================] - 0s 4ms/step - loss: 12.3633 - mae: 12.3633\n",
            "Epoch 70/100\n",
            "2/2 [==============================] - 0s 3ms/step - loss: 9.0516 - mae: 9.0516\n",
            "Epoch 71/100\n",
            "2/2 [==============================] - 0s 5ms/step - loss: 10.0378 - mae: 10.0378\n",
            "Epoch 72/100\n",
            "2/2 [==============================] - 0s 4ms/step - loss: 10.0516 - mae: 10.0516\n",
            "Epoch 73/100\n",
            "2/2 [==============================] - 0s 4ms/step - loss: 12.6151 - mae: 12.6151\n",
            "Epoch 74/100\n",
            "2/2 [==============================] - 0s 4ms/step - loss: 10.3819 - mae: 10.3819\n",
            "Epoch 75/100\n",
            "2/2 [==============================] - 0s 4ms/step - loss: 9.7229 - mae: 9.7229\n",
            "Epoch 76/100\n",
            "2/2 [==============================] - 0s 4ms/step - loss: 11.2252 - mae: 11.2252\n",
            "Epoch 77/100\n",
            "2/2 [==============================] - 0s 6ms/step - loss: 8.3642 - mae: 8.3642\n",
            "Epoch 78/100\n",
            "2/2 [==============================] - 0s 4ms/step - loss: 9.1274 - mae: 9.1274\n",
            "Epoch 79/100\n",
            "2/2 [==============================] - 0s 6ms/step - loss: 19.5039 - mae: 19.5039\n",
            "Epoch 80/100\n",
            "2/2 [==============================] - 0s 4ms/step - loss: 14.8945 - mae: 14.8945\n",
            "Epoch 81/100\n",
            "2/2 [==============================] - 0s 4ms/step - loss: 9.0034 - mae: 9.0034\n",
            "Epoch 82/100\n",
            "2/2 [==============================] - 0s 16ms/step - loss: 13.0206 - mae: 13.0206\n",
            "Epoch 83/100\n",
            "2/2 [==============================] - 0s 10ms/step - loss: 7.9299 - mae: 7.9299\n",
            "Epoch 84/100\n",
            "2/2 [==============================] - 0s 8ms/step - loss: 7.6872 - mae: 7.6872\n",
            "Epoch 85/100\n",
            "2/2 [==============================] - 0s 4ms/step - loss: 10.0328 - mae: 10.0328\n",
            "Epoch 86/100\n",
            "2/2 [==============================] - 0s 4ms/step - loss: 9.2433 - mae: 9.2433\n",
            "Epoch 87/100\n",
            "2/2 [==============================] - 0s 5ms/step - loss: 12.0209 - mae: 12.0209\n",
            "Epoch 88/100\n",
            "2/2 [==============================] - 0s 6ms/step - loss: 10.6389 - mae: 10.6389\n",
            "Epoch 89/100\n",
            "2/2 [==============================] - 0s 5ms/step - loss: 7.2667 - mae: 7.2667\n",
            "Epoch 90/100\n",
            "2/2 [==============================] - 0s 6ms/step - loss: 12.7786 - mae: 12.7786\n",
            "Epoch 91/100\n",
            "2/2 [==============================] - 0s 8ms/step - loss: 7.3481 - mae: 7.3481\n",
            "Epoch 92/100\n",
            "2/2 [==============================] - 0s 5ms/step - loss: 7.7175 - mae: 7.7175\n",
            "Epoch 93/100\n",
            "2/2 [==============================] - 0s 6ms/step - loss: 7.1263 - mae: 7.1263\n",
            "Epoch 94/100\n",
            "2/2 [==============================] - 0s 7ms/step - loss: 12.6190 - mae: 12.6190\n",
            "Epoch 95/100\n",
            "2/2 [==============================] - 0s 4ms/step - loss: 10.0912 - mae: 10.0912\n",
            "Epoch 96/100\n",
            "2/2 [==============================] - 0s 7ms/step - loss: 9.3558 - mae: 9.3558\n",
            "Epoch 97/100\n",
            "2/2 [==============================] - 0s 6ms/step - loss: 12.6834 - mae: 12.6834\n",
            "Epoch 98/100\n",
            "2/2 [==============================] - 0s 10ms/step - loss: 8.6762 - mae: 8.6762\n",
            "Epoch 99/100\n",
            "2/2 [==============================] - 0s 9ms/step - loss: 9.4693 - mae: 9.4693\n",
            "Epoch 100/100\n",
            "2/2 [==============================] - 0s 4ms/step - loss: 8.7067 - mae: 8.7067\n"
          ],
          "name": "stdout"
        },
        {
          "output_type": "execute_result",
          "data": {
            "text/plain": [
              "<tensorflow.python.keras.callbacks.History at 0x7f9012681210>"
            ]
          },
          "metadata": {
            "tags": []
          },
          "execution_count": 26
        }
      ]
    },
    {
      "cell_type": "code",
      "metadata": {
        "id": "7ae758d4-5edc-46ba-9042-a4dd97f0f9c3"
      },
      "source": [
        "# appel à la méthode summary\n"
      ],
      "id": "7ae758d4-5edc-46ba-9042-a4dd97f0f9c3",
      "execution_count": null,
      "outputs": []
    },
    {
      "cell_type": "code",
      "metadata": {
        "colab": {
          "base_uri": "https://localhost:8080/"
        },
        "id": "lKJM5WPlmAnY",
        "outputId": "f903fafb-1179-439c-a3cf-271c881ea549"
      },
      "source": [
        "modele.summary()"
      ],
      "id": "lKJM5WPlmAnY",
      "execution_count": 27,
      "outputs": [
        {
          "output_type": "stream",
          "text": [
            "Model: \"sequential_4\"\n",
            "_________________________________________________________________\n",
            "Layer (type)                 Output Shape              Param #   \n",
            "=================================================================\n",
            "dense_4 (Dense)              (None, 1)                 2         \n",
            "=================================================================\n",
            "Total params: 2\n",
            "Trainable params: 2\n",
            "Non-trainable params: 0\n",
            "_________________________________________________________________\n"
          ],
          "name": "stdout"
        }
      ]
    },
    {
      "cell_type": "markdown",
      "metadata": {
        "id": "19a34ba9-3463-434b-ae53-909898650f8c"
      },
      "source": [
        "Nous pouvons également avoir une visualisation 2D de notre modèle à l'aide de `plot_model()` :"
      ],
      "id": "19a34ba9-3463-434b-ae53-909898650f8c"
    },
    {
      "cell_type": "markdown",
      "metadata": {
        "id": "8LaNWxoRqmBq"
      },
      "source": [
        "https://raw.githubusercontent.com/stedy/Machine-Learning-with-R-datasets/master/insurance.csv%22"
      ],
      "id": "8LaNWxoRqmBq"
    },
    {
      "cell_type": "code",
      "metadata": {
        "id": "2a13d25d-0166-4c51-a394-d7f29fb8befe"
      },
      "source": [
        "\n"
      ],
      "id": "2a13d25d-0166-4c51-a394-d7f29fb8befe",
      "execution_count": null,
      "outputs": []
    },
    {
      "cell_type": "code",
      "metadata": {
        "colab": {
          "base_uri": "https://localhost:8080/",
          "height": 201
        },
        "id": "xM5B3nHgqnMO",
        "outputId": "24fba992-1ff9-4a97-cd57-d67e6713ac51"
      },
      "source": [
        "tf.keras.utils.plot_model(modele,show_shapes=True)"
      ],
      "id": "xM5B3nHgqnMO",
      "execution_count": 28,
      "outputs": [
        {
          "output_type": "execute_result",
          "data": {
            "image/png": "[encoded data removed]",
            "text/plain": [
              "<IPython.core.display.Image object>"
            ]
          },
          "metadata": {
            "tags": []
          },
          "execution_count": 28
        }
      ]
    },
    {
      "cell_type": "markdown",
      "metadata": {
        "id": "855e6930-0e8b-4517-b5ce-809d45897f99"
      },
      "source": [
        "Vous pouvez constater que notre modèle ne comporte ici qu'une seule entrée et une sortie ; mais la visualisation de modèle complexes peut être très utile pour le débogage de problème.\n",
        "\n",
        "### 5.4. Visualiser les prédictions\n",
        "\n",
        "Le modèle étant entraîné, nous pouvons visualiser ses prédictions.\n",
        "\n",
        "Pour cela, c'est toujours une bonne idée de les tracer avec les valeurs réelles (lorsque cela est possible).\n",
        "\n",
        "Souvent cela est de la forme `y_test` vs `y_pred`.\n",
        "\n",
        "Commençons par faire les prédictions sur le jeu de test `X_test` :"
      ],
      "id": "855e6930-0e8b-4517-b5ce-809d45897f99"
    },
    {
      "cell_type": "code",
      "metadata": {
        "id": "b5dfdec3-003f-4b13-a651-fb6699c83fee"
      },
      "source": [
        "y_pred =\n",
        "y_pred"
      ],
      "id": "b5dfdec3-003f-4b13-a651-fb6699c83fee",
      "execution_count": null,
      "outputs": []
    },
    {
      "cell_type": "code",
      "metadata": {
        "colab": {
          "base_uri": "https://localhost:8080/"
        },
        "id": "HnLt3FQBwfTl",
        "outputId": "b59db31e-d0e4-4389-e58b-f9b7857f731e"
      },
      "source": [
        "y_pred = modele.predict(X_test)\n",
        "y_pred"
      ],
      "id": "HnLt3FQBwfTl",
      "execution_count": 29,
      "outputs": [
        {
          "output_type": "execute_result",
          "data": {
            "text/plain": [
              "array([[53.57109 ],\n",
              "       [57.05633 ],\n",
              "       [60.541573],\n",
              "       [64.02681 ],\n",
              "       [67.512054],\n",
              "       [70.99729 ],\n",
              "       [74.48254 ],\n",
              "       [77.96777 ],\n",
              "       [81.45301 ],\n",
              "       [84.938255]], dtype=float32)"
            ]
          },
          "metadata": {
            "tags": []
          },
          "execution_count": 29
        }
      ]
    },
    {
      "cell_type": "markdown",
      "metadata": {
        "id": "e49124d5-9d68-41a9-bb8d-84a90c392a3f"
      },
      "source": [
        "Créons une fonction qui nous permettra de faire notre visualisation à partir de la liste de prédictions obtenue :"
      ],
      "id": "e49124d5-9d68-41a9-bb8d-84a90c392a3f"
    },
    {
      "cell_type": "code",
      "metadata": {
        "id": "43afd719-8049-4e77-b8e7-af512843d3b9"
      },
      "source": [
        "def plot_predictions(train_data=X_train, train_labels=y_train, test_data=X_test, test_labels=y_test, predictions=y_pred):\n",
        "    \"\"\"\n",
        "    Tracé du jeu d'entraînement, du jeu de test et des prédictions du modèle\n",
        "    \"\"\"\n",
        "    plt.figure(figsize=(10, 7))\n",
        "    plt.scatter(train_data, train_labels, c='b', label=\"Jeu d'entraînement\")\n",
        "    plt.scatter(test_data, test_labels, c='g', label='Jeu de test')\n",
        "    plt.scatter(test_data, predictions, c=\"r\", label=\"Predictions\")\n",
        "    plt.legend();"
      ],
      "id": "43afd719-8049-4e77-b8e7-af512843d3b9",
      "execution_count": 30,
      "outputs": []
    },
    {
      "cell_type": "markdown",
      "metadata": {
        "id": "0acdc02a-d8db-4f8f-9c98-7c4bd554dbb0"
      },
      "source": [
        "Nous pouvons maintenant passer à la visualisation de nos prédictions :"
      ],
      "id": "0acdc02a-d8db-4f8f-9c98-7c4bd554dbb0"
    },
    {
      "cell_type": "code",
      "metadata": {
        "id": "90a8fa1e-e187-4f5b-a11d-7ede8b2116bc"
      },
      "source": [
        ""
      ],
      "id": "90a8fa1e-e187-4f5b-a11d-7ede8b2116bc",
      "execution_count": null,
      "outputs": []
    },
    {
      "cell_type": "code",
      "metadata": {
        "colab": {
          "base_uri": "https://localhost:8080/",
          "height": 428
        },
        "id": "ttTjjkuxw1G5",
        "outputId": "a0e466f0-3a66-433e-e6dd-cda427af92c8"
      },
      "source": [
        "plot_predictions()"
      ],
      "id": "ttTjjkuxw1G5",
      "execution_count": 31,
      "outputs": [
        {
          "output_type": "display_data",
          "data": {
            "image/png": "[encoded data removed]",
            "text/plain": [
              "<Figure size 720x504 with 1 Axes>"
            ]
          },
          "metadata": {
            "tags": [],
            "needs_background": "light"
          }
        }
      ]
    },
    {
      "cell_type": "markdown",
      "metadata": {
        "id": "00982d5a-a9bb-442c-9097-3760595ff16e"
      },
      "source": [
        "Nous pouvons constater que nos prédicitons ne sont pas totalement aberrantes mais qu'elles n'ont rien d'exceptionnel non plus.\n",
        "\n",
        "### 5.5. Evaluer les prédictions\n",
        "\n",
        "En parallèle de la visualisation, les métriques d'évaluation sont votre meilleure option pour évaluer votre modèle.\n",
        "\n",
        "En fonction du problème, les modèles utilisés ont différentes mesures de performance.\n",
        "\n",
        "Deux principales mesures utilisées pour les problèmes de régression sont :\n",
        "- **erreur absolue moyenne :** mean absolute error ou MAE en anglais\n",
        "- **erreur quadratique moyenne :** mean square error ou MSE en anglais\n",
        "\n",
        "Plus leurs valeurs sont faibles, mieux c'est.\n",
        "\n",
        "Vous pouvez également utiliser `modele.evaluate()` qui vous retournera la pete du modèle ainsi que les métriques définies pendant l'étape de compilation du modèle :"
      ],
      "id": "00982d5a-a9bb-442c-9097-3760595ff16e"
    },
    {
      "cell_type": "code",
      "metadata": {
        "id": "276cf546-7d2b-42c0-a62b-bb0c6983d6de"
      },
      "source": [
        ""
      ],
      "id": "276cf546-7d2b-42c0-a62b-bb0c6983d6de",
      "execution_count": null,
      "outputs": []
    },
    {
      "cell_type": "code",
      "metadata": {
        "colab": {
          "base_uri": "https://localhost:8080/"
        },
        "id": "JOqkbKl4xSgF",
        "outputId": "b3551e00-837d-45ef-81f7-f3f1bb0dff0b"
      },
      "source": [
        "modele.evaluate(X_test, y_test)"
      ],
      "id": "JOqkbKl4xSgF",
      "execution_count": 32,
      "outputs": [
        {
          "output_type": "stream",
          "text": [
            "1/1 [==============================] - 0s 122ms/step - loss: 18.7453 - mae: 18.7453\n"
          ],
          "name": "stdout"
        },
        {
          "output_type": "execute_result",
          "data": {
            "text/plain": [
              "[18.74532699584961, 18.74532699584961]"
            ]
          },
          "metadata": {
            "tags": []
          },
          "execution_count": 32
        }
      ]
    },
    {
      "cell_type": "markdown",
      "metadata": {
        "id": "032f8ef5-f01b-431f-8559-691f69c74f9e"
      },
      "source": [
        "Dans notre cas, puisque nous avons utilisé la MAE pour notre fonction coût et pour notre mesure de performance, `modele.evaluate()` nous retourne deux fois le même résultat.\n",
        "\n",
        "TensorFlow a des fonctions pré-disponibles pour la MSE et la MAE.\n",
        "\n",
        "Pour beaucoup de fonctions d'évaluation, le postulat est le même : comparer les prédictions aux valeurs réelles.\n",
        "\n",
        "Calculons l'erreur absolue moyenne (en utilisant la fonction disponible dans TensorFlow) :"
      ],
      "id": "032f8ef5-f01b-431f-8559-691f69c74f9e"
    },
    {
      "cell_type": "code",
      "metadata": {
        "id": "52025963-5491-42d9-b178-9015f028d8f2"
      },
      "source": [
        "mae =\n",
        "mae"
      ],
      "id": "52025963-5491-42d9-b178-9015f028d8f2",
      "execution_count": null,
      "outputs": []
    },
    {
      "cell_type": "code",
      "metadata": {
        "colab": {
          "base_uri": "https://localhost:8080/"
        },
        "id": "nO-7hDIN-PL7",
        "outputId": "897cf577-cc55-417d-b250-b7faa9769605"
      },
      "source": [
        "mae = tf.metrics.mean_absolute_error(y_true=y_test, y_pred=y_pred)\n",
        "mae"
      ],
      "id": "nO-7hDIN-PL7",
      "execution_count": 33,
      "outputs": [
        {
          "output_type": "execute_result",
          "data": {
            "text/plain": [
              "<tf.Tensor: shape=(10,), dtype=float32, numpy=\n",
              "array([34.42891 , 30.943668, 27.45843 , 23.97319 , 20.487946, 17.202168,\n",
              "       14.510478, 12.419336, 11.018796, 10.212349], dtype=float32)>"
            ]
          },
          "metadata": {
            "tags": []
          },
          "execution_count": 33
        }
      ]
    },
    {
      "cell_type": "markdown",
      "metadata": {
        "id": "159372f3-d4e1-4c31-9940-d3f1df0d0cb4"
      },
      "source": [
        "Ne devrait-on pas avoir une unique valeur, au lieu des 10 valeurs que nous obtenons ?\n",
        "\n",
        "Cela est dû au fait que `y_test` et `y_pred` ont des formes différentes :"
      ],
      "id": "159372f3-d4e1-4c31-9940-d3f1df0d0cb4"
    },
    {
      "cell_type": "code",
      "metadata": {
        "id": "d24683ba-0cfa-477e-85b1-e1186a8b1adf"
      },
      "source": [
        "y_test"
      ],
      "id": "d24683ba-0cfa-477e-85b1-e1186a8b1adf",
      "execution_count": null,
      "outputs": []
    },
    {
      "cell_type": "code",
      "metadata": {
        "colab": {
          "base_uri": "https://localhost:8080/"
        },
        "id": "GsYsyrjrCrMB",
        "outputId": "017c8a0b-7706-4187-e986-67afb1ff2e59"
      },
      "source": [
        "y_test"
      ],
      "id": "GsYsyrjrCrMB",
      "execution_count": 34,
      "outputs": [
        {
          "output_type": "execute_result",
          "data": {
            "text/plain": [
              "array([ 70,  74,  78,  82,  86,  90,  94,  98, 102, 106])"
            ]
          },
          "metadata": {
            "tags": []
          },
          "execution_count": 34
        }
      ]
    },
    {
      "cell_type": "code",
      "metadata": {
        "id": "ff4b3c5b-66df-4e9c-99ad-fc312766db46"
      },
      "source": [
        "y_pred"
      ],
      "id": "ff4b3c5b-66df-4e9c-99ad-fc312766db46",
      "execution_count": null,
      "outputs": []
    },
    {
      "cell_type": "code",
      "metadata": {
        "colab": {
          "base_uri": "https://localhost:8080/"
        },
        "id": "I9SfcU_fCtCl",
        "outputId": "bbac0dcb-b203-4b6d-d3e9-d95fb57fef74"
      },
      "source": [
        "y_pred"
      ],
      "id": "I9SfcU_fCtCl",
      "execution_count": 35,
      "outputs": [
        {
          "output_type": "execute_result",
          "data": {
            "text/plain": [
              "array([[53.57109 ],\n",
              "       [57.05633 ],\n",
              "       [60.541573],\n",
              "       [64.02681 ],\n",
              "       [67.512054],\n",
              "       [70.99729 ],\n",
              "       [74.48254 ],\n",
              "       [77.96777 ],\n",
              "       [81.45301 ],\n",
              "       [84.938255]], dtype=float32)"
            ]
          },
          "metadata": {
            "tags": []
          },
          "execution_count": 35
        }
      ]
    },
    {
      "cell_type": "code",
      "metadata": {
        "id": "b6fce6eb-6c29-455f-aef5-cd4e30145bea",
        "colab": {
          "base_uri": "https://localhost:8080/"
        },
        "outputId": "f76c5998-e7ca-43b2-a895-8ac58b621d9b"
      },
      "source": [
        "# forme des tenseurs\n",
        "y_test.shape, y_pred.shape"
      ],
      "id": "b6fce6eb-6c29-455f-aef5-cd4e30145bea",
      "execution_count": 37,
      "outputs": [
        {
          "output_type": "execute_result",
          "data": {
            "text/plain": [
              "((10,), (10, 1))"
            ]
          },
          "metadata": {
            "tags": []
          },
          "execution_count": 37
        }
      ]
    },
    {
      "cell_type": "code",
      "metadata": {
        "id": "qH6aQvjaPnp-"
      },
      "source": [
        "y_test.shape , y_pred.shape"
      ],
      "id": "qH6aQvjaPnp-",
      "execution_count": null,
      "outputs": []
    },
    {
      "cell_type": "markdown",
      "metadata": {
        "id": "883e740d-0577-4a66-ab6b-14a4b32be038"
      },
      "source": [
        "Nous l'avons déjà dit un peu plus haut : traiter les formes des données d'entrée et de sortie est un des problèmes les plus courants que vous rencontrerez.\n",
        "\n",
        "Pas de panique : nous pouvons corriger ce problème en utilisant `squeeze()`.\n",
        "Cela enlèvera la dimension `1` du tenseur `y_pred` afin qu'il ait la même forme que le tenseur `y_test` :"
      ],
      "id": "883e740d-0577-4a66-ab6b-14a4b32be038"
    },
    {
      "cell_type": "code",
      "metadata": {
        "id": "002e9228-0648-409b-964b-64b97538a5a9"
      },
      "source": [
        ""
      ],
      "id": "002e9228-0648-409b-964b-64b97538a5a9",
      "execution_count": null,
      "outputs": []
    },
    {
      "cell_type": "code",
      "metadata": {
        "colab": {
          "base_uri": "https://localhost:8080/"
        },
        "id": "OqUvfkLsQax9",
        "outputId": "654fe7fd-b5e1-4131-e9ff-4f7b37477735"
      },
      "source": [
        "y_pred.squeeze()"
      ],
      "id": "OqUvfkLsQax9",
      "execution_count": 38,
      "outputs": [
        {
          "output_type": "execute_result",
          "data": {
            "text/plain": [
              "array([53.57109 , 57.05633 , 60.541573, 64.02681 , 67.512054, 70.99729 ,\n",
              "       74.48254 , 77.96777 , 81.45301 , 84.938255], dtype=float32)"
            ]
          },
          "metadata": {
            "tags": []
          },
          "execution_count": 38
        }
      ]
    },
    {
      "cell_type": "code",
      "metadata": {
        "id": "48e1e908-164d-4518-bc3d-73aaec86e5f1"
      },
      "source": [
        "# forme du nouveau tenseur arès modification\n",
        "y_pred."
      ],
      "id": "48e1e908-164d-4518-bc3d-73aaec86e5f1",
      "execution_count": null,
      "outputs": []
    },
    {
      "cell_type": "code",
      "metadata": {
        "colab": {
          "base_uri": "https://localhost:8080/"
        },
        "id": "ciuWByYDQeIA",
        "outputId": "6124d15c-560b-4cfd-db74-a8d8679d910b"
      },
      "source": [
        "y_pred.squeeze().shape"
      ],
      "id": "ciuWByYDQeIA",
      "execution_count": 39,
      "outputs": [
        {
          "output_type": "execute_result",
          "data": {
            "text/plain": [
              "(10,)"
            ]
          },
          "metadata": {
            "tags": []
          },
          "execution_count": 39
        }
      ]
    },
    {
      "cell_type": "markdown",
      "metadata": {
        "id": "7e8813d3-ec02-4e40-b0c9-1e45cdc3fc7a"
      },
      "source": [
        "Nous pouvons maintenant utiliser notre mesure de performance :"
      ],
      "id": "7e8813d3-ec02-4e40-b0c9-1e45cdc3fc7a"
    },
    {
      "cell_type": "code",
      "metadata": {
        "id": "5229ef51-6ea6-4d08-9f3d-d82e18b71ab6"
      },
      "source": [
        "mae = \n",
        "mae"
      ],
      "id": "5229ef51-6ea6-4d08-9f3d-d82e18b71ab6",
      "execution_count": null,
      "outputs": []
    },
    {
      "cell_type": "code",
      "metadata": {
        "colab": {
          "base_uri": "https://localhost:8080/"
        },
        "id": "0F2P3MAgQmKC",
        "outputId": "9c16fce0-3429-46e7-e8ba-b9602c771bdc"
      },
      "source": [
        "mae = tf.metrics.mean_absolute_error(y_true=y_test, y_pred=y_pred.squeeze())\n",
        "mae"
      ],
      "id": "0F2P3MAgQmKC",
      "execution_count": 40,
      "outputs": [
        {
          "output_type": "execute_result",
          "data": {
            "text/plain": [
              "<tf.Tensor: shape=(), dtype=float32, numpy=18.745327>"
            ]
          },
          "metadata": {
            "tags": []
          },
          "execution_count": 40
        }
      ]
    },
    {
      "cell_type": "markdown",
      "metadata": {
        "id": "498e3697-7d89-4278-8ad8-dbed600d629a"
      },
      "source": [
        "Avec la MSE :"
      ],
      "id": "498e3697-7d89-4278-8ad8-dbed600d629a"
    },
    {
      "cell_type": "code",
      "metadata": {
        "id": "a171bf7e-cb0a-4622-9560-95f8588ebdf7"
      },
      "source": [
        "mse = \n",
        "mse"
      ],
      "id": "a171bf7e-cb0a-4622-9560-95f8588ebdf7",
      "execution_count": null,
      "outputs": []
    },
    {
      "cell_type": "code",
      "metadata": {
        "colab": {
          "base_uri": "https://localhost:8080/"
        },
        "id": "EwQ9XPHKRDh8",
        "outputId": "5c4ce741-32ad-43b1-e05a-4a865beffbd2"
      },
      "source": [
        "mse = tf.metrics.mean_squared_error(y_true=y_test, y_pred=y_pred.squeeze())\n",
        "mse"
      ],
      "id": "EwQ9XPHKRDh8",
      "execution_count": 41,
      "outputs": [
        {
          "output_type": "execute_result",
          "data": {
            "text/plain": [
              "<tf.Tensor: shape=(), dtype=float32, numpy=353.57336>"
            ]
          },
          "metadata": {
            "tags": []
          },
          "execution_count": 41
        }
      ]
    },
    {
      "cell_type": "markdown",
      "metadata": {
        "id": "0538a167-cbb5-4f21-a379-e310328ebad4"
      },
      "source": [
        "Vous pouvez également calculer la MAE en utilisant des fonctions de base de TensorFlow, en partant que la formule mathématique de la MAE :"
      ],
      "id": "0538a167-cbb5-4f21-a379-e310328ebad4"
    },
    {
      "cell_type": "code",
      "metadata": {
        "id": "f43e0499-9538-42a2-b502-95b36db20c62"
      },
      "source": [
        ""
      ],
      "id": "f43e0499-9538-42a2-b502-95b36db20c62",
      "execution_count": null,
      "outputs": []
    },
    {
      "cell_type": "code",
      "metadata": {
        "colab": {
          "base_uri": "https://localhost:8080/"
        },
        "id": "Dln6xy4WRRSR",
        "outputId": "8cf34f64-2bec-49fb-f40b-efe4b6f9d477"
      },
      "source": [
        "tf.reduce_mean(tf.abs(y_test-y_pred.squeeze()))"
      ],
      "id": "Dln6xy4WRRSR",
      "execution_count": 42,
      "outputs": [
        {
          "output_type": "execute_result",
          "data": {
            "text/plain": [
              "<tf.Tensor: shape=(), dtype=float64, numpy=18.745327377319335>"
            ]
          },
          "metadata": {
            "tags": []
          },
          "execution_count": 42
        }
      ]
    },
    {
      "cell_type": "markdown",
      "metadata": {
        "id": "93c58ce6-6f60-4edb-88de-d467879b1ca1"
      },
      "source": [
        "Nous pouvons définir des fonctions pour nos mesures de performances, que nous serons amenés à utiliser tout au long du notebook :"
      ],
      "id": "93c58ce6-6f60-4edb-88de-d467879b1ca1"
    },
    {
      "cell_type": "code",
      "metadata": {
        "id": "8c5c9e4a-379a-41e8-ba93-a6a5e23886a2"
      },
      "source": [
        "def mae(y_test, y_pred):\n",
        "    \"\"\"\n",
        "    Calcule l'erreur absolue moyenne entre y_test et y_pred.\n",
        "    \"\"\"\n",
        "    return \n",
        "\n",
        "def mse(y_test, y_pred):\n",
        "    \"\"\"\n",
        "    Calcule l'erreur quadratique moyenne entre y_test et y_pred.\n",
        "    \"\"\"\n",
        "    return "
      ],
      "id": "8c5c9e4a-379a-41e8-ba93-a6a5e23886a2",
      "execution_count": null,
      "outputs": []
    },
    {
      "cell_type": "code",
      "metadata": {
        "id": "Y0Z05DOCRnQH"
      },
      "source": [
        "def mae(y_test, y_pred):\n",
        "    \"\"\"\n",
        "    Calcule l'erreur absolue moyenne entre y_test et y_pred.\n",
        "    \"\"\"\n",
        "    return tf.metrics.mean_absolute_error(y_test, y_pred)\n",
        "\n",
        "def mse(y_test, y_pred):\n",
        "    \"\"\"\n",
        "    Calcule l'erreur quadratique moyenne entre y_test et y_pred.\n",
        "    \"\"\"\n",
        "    return tf.metrics.mean_squared_error(y_test, y_pred)"
      ],
      "id": "Y0Z05DOCRnQH",
      "execution_count": 43,
      "outputs": []
    },
    {
      "cell_type": "markdown",
      "metadata": {
        "id": "8de5ea78-8f6b-4794-9074-916faa33c2f5"
      },
      "source": [
        "### 5.6. Améliorer un modèle\n",
        "\n",
        "Après avoir vu les mesures de performance et les prédictions que votre modèle fait, il est très probable que vous souhaitiez améliorer votre modèle.\n",
        "Il y a plusieurs façons de procéder, mais voici trois principales manières d'améliorer un modèle :\n",
        "1. **obtenir plus de données :** obtenir plus d'exemples pour l'entraînement du modèle (plus d'opportunités d'apprendre de nouvelles relations (*patterns*)\n",
        "2. **rendre notre modèle plus \"large\" (utiliser un modèle plus complexe) :** cela peut consister à ajouter plus de couches (*layers*) ou plus de neurones (*hidden units*) dans chaque couche\n",
        "3. **augmenter le temps d'entraînement :** donner au modèle plus de chance de trouver des relations dans les données\n",
        "\n",
        "Puisque nous avons créé notre jeu de données ici, nous pourrions facilement ajouter plus de données ; néanmoins, cela n'est pas toujours faisable lorsque l'on travaille sur de vrais jeux de données.\n",
        "\n",
        "Nous allons plutôt considérer les points **2** et **3**.\n",
        "\n",
        "Pour cela, nous allons construire 3 modèles et comparer leurs résultats :\n",
        "1. `modele_1` : le même que le modèle d'origine, avec 1 couche et entrainé sur 100 époques\n",
        "2. `modele_2` : 2 couches et entraîné sur 100 époques\n",
        "3. `modele_3` : 2 couches et entraîné sur 500 époques\n",
        "\n",
        "Construisons ces modèles et affichons pour chaque modèle le tracé des prédictions ainsi que les deux mesures de performance MAE et MSE :"
      ],
      "id": "8de5ea78-8f6b-4794-9074-916faa33c2f5"
    },
    {
      "cell_type": "markdown",
      "metadata": {
        "id": "4724660d-4158-4c27-8edf-8b8ca96e3c5e"
      },
      "source": [
        "`modele_1` :"
      ],
      "id": "4724660d-4158-4c27-8edf-8b8ca96e3c5e"
    },
    {
      "cell_type": "code",
      "metadata": {
        "id": "cb5d8e40-e4fd-4324-b5e7-2d30e76c5c27"
      },
      "source": [
        "# Choix du nombre aléatoire (pour la reproductibilité des calculs)\n",
        "tf.random.set_seed(42)\n",
        "\n",
        "# Création d'un modèle en utilisant l'API séquentielle\n",
        "modele_1 = \n",
        "\n",
        "# Compilation du modèle\n",
        "\n",
        "\n",
        "# Entraînement du modèle\n"
      ],
      "id": "cb5d8e40-e4fd-4324-b5e7-2d30e76c5c27",
      "execution_count": null,
      "outputs": []
    },
    {
      "cell_type": "code",
      "metadata": {
        "colab": {
          "base_uri": "https://localhost:8080/"
        },
        "id": "X9VOIidxTmkM",
        "outputId": "b3a6cd82-13bb-402b-b7c8-5371528ad7ea"
      },
      "source": [
        "# Choix du nombre aléatoire (pour la reproductibilité des calculs)\n",
        "tf.random.set_seed(42)\n",
        "\n",
        "# Création d'un modèle en utilisant l'API séquentielle\n",
        "modele_1 = tf.keras.Sequential([tf.keras.layers.Dense(1)])\n",
        "\n",
        "# Compilation du modèle\n",
        "modele_1.compile(loss=tf.keras.losses.mae,optimizer=tf.keras.optimizers.SGD(),metrics=[\"mae\"])\n",
        "\n",
        "# Entraînement du modèle\n",
        "modele_1.fit(X_train, y_train, epochs=100)"
      ],
      "id": "X9VOIidxTmkM",
      "execution_count": 44,
      "outputs": [
        {
          "output_type": "stream",
          "text": [
            "Epoch 1/100\n",
            "2/2 [==============================] - 0s 6ms/step - loss: 15.9024 - mae: 15.9024\n",
            "Epoch 2/100\n",
            "2/2 [==============================] - 0s 6ms/step - loss: 11.2837 - mae: 11.2837\n",
            "Epoch 3/100\n",
            "2/2 [==============================] - 0s 10ms/step - loss: 11.1074 - mae: 11.1074\n",
            "Epoch 4/100\n",
            "2/2 [==============================] - 0s 9ms/step - loss: 9.2991 - mae: 9.2991\n",
            "Epoch 5/100\n",
            "2/2 [==============================] - 0s 5ms/step - loss: 10.1677 - mae: 10.1677\n",
            "Epoch 6/100\n",
            "2/2 [==============================] - 0s 8ms/step - loss: 9.4303 - mae: 9.4303\n",
            "Epoch 7/100\n",
            "2/2 [==============================] - 0s 8ms/step - loss: 8.5704 - mae: 8.5704\n",
            "Epoch 8/100\n",
            "2/2 [==============================] - 0s 6ms/step - loss: 9.0442 - mae: 9.0442\n",
            "Epoch 9/100\n",
            "2/2 [==============================] - 0s 5ms/step - loss: 18.7517 - mae: 18.7517\n",
            "Epoch 10/100\n",
            "2/2 [==============================] - 0s 4ms/step - loss: 10.1142 - mae: 10.1142\n",
            "Epoch 11/100\n",
            "2/2 [==============================] - 0s 4ms/step - loss: 8.3980 - mae: 8.3980\n",
            "Epoch 12/100\n",
            "2/2 [==============================] - 0s 9ms/step - loss: 10.6639 - mae: 10.6639\n",
            "Epoch 13/100\n",
            "2/2 [==============================] - 0s 5ms/step - loss: 9.7977 - mae: 9.7977\n",
            "Epoch 14/100\n",
            "2/2 [==============================] - 0s 8ms/step - loss: 16.0103 - mae: 16.0103\n",
            "Epoch 15/100\n",
            "2/2 [==============================] - 0s 7ms/step - loss: 11.4068 - mae: 11.4068\n",
            "Epoch 16/100\n",
            "2/2 [==============================] - 0s 10ms/step - loss: 8.5393 - mae: 8.5393\n",
            "Epoch 17/100\n",
            "2/2 [==============================] - 0s 7ms/step - loss: 13.6348 - mae: 13.6348\n",
            "Epoch 18/100\n",
            "2/2 [==============================] - 0s 8ms/step - loss: 11.4629 - mae: 11.4629\n",
            "Epoch 19/100\n",
            "2/2 [==============================] - 0s 5ms/step - loss: 17.9148 - mae: 17.9148\n",
            "Epoch 20/100\n",
            "2/2 [==============================] - 0s 7ms/step - loss: 15.0494 - mae: 15.0494\n",
            "Epoch 21/100\n",
            "2/2 [==============================] - 0s 11ms/step - loss: 11.0216 - mae: 11.0216\n",
            "Epoch 22/100\n",
            "2/2 [==============================] - 0s 9ms/step - loss: 8.1558 - mae: 8.1558\n",
            "Epoch 23/100\n",
            "2/2 [==============================] - 0s 9ms/step - loss: 9.5138 - mae: 9.5138\n",
            "Epoch 24/100\n",
            "2/2 [==============================] - 0s 10ms/step - loss: 7.6617 - mae: 7.6617\n",
            "Epoch 25/100\n",
            "2/2 [==============================] - 0s 14ms/step - loss: 13.1859 - mae: 13.1859\n",
            "Epoch 26/100\n",
            "2/2 [==============================] - 0s 7ms/step - loss: 16.4211 - mae: 16.4211\n",
            "Epoch 27/100\n",
            "2/2 [==============================] - 0s 8ms/step - loss: 13.1660 - mae: 13.1660\n",
            "Epoch 28/100\n",
            "2/2 [==============================] - 0s 7ms/step - loss: 14.2559 - mae: 14.2559\n",
            "Epoch 29/100\n",
            "2/2 [==============================] - 0s 6ms/step - loss: 10.0670 - mae: 10.0670\n",
            "Epoch 30/100\n",
            "2/2 [==============================] - 0s 6ms/step - loss: 16.3409 - mae: 16.3409\n",
            "Epoch 31/100\n",
            "2/2 [==============================] - 0s 7ms/step - loss: 23.6444 - mae: 23.6444\n",
            "Epoch 32/100\n",
            "2/2 [==============================] - 0s 13ms/step - loss: 7.6215 - mae: 7.6215\n",
            "Epoch 33/100\n",
            "2/2 [==============================] - 0s 8ms/step - loss: 9.3221 - mae: 9.3221\n",
            "Epoch 34/100\n",
            "2/2 [==============================] - 0s 7ms/step - loss: 13.7313 - mae: 13.7313\n",
            "Epoch 35/100\n",
            "2/2 [==============================] - 0s 7ms/step - loss: 11.1276 - mae: 11.1276\n",
            "Epoch 36/100\n",
            "2/2 [==============================] - 0s 6ms/step - loss: 13.3222 - mae: 13.3222\n",
            "Epoch 37/100\n",
            "2/2 [==============================] - 0s 3ms/step - loss: 9.4763 - mae: 9.4763\n",
            "Epoch 38/100\n",
            "2/2 [==============================] - 0s 3ms/step - loss: 10.1381 - mae: 10.1381\n",
            "Epoch 39/100\n",
            "2/2 [==============================] - 0s 11ms/step - loss: 10.1793 - mae: 10.1793\n",
            "Epoch 40/100\n",
            "2/2 [==============================] - 0s 4ms/step - loss: 10.9137 - mae: 10.9137\n",
            "Epoch 41/100\n",
            "2/2 [==============================] - 0s 8ms/step - loss: 7.9063 - mae: 7.9063\n",
            "Epoch 42/100\n",
            "2/2 [==============================] - 0s 8ms/step - loss: 10.0914 - mae: 10.0914\n",
            "Epoch 43/100\n",
            "2/2 [==============================] - 0s 7ms/step - loss: 8.7006 - mae: 8.7006\n",
            "Epoch 44/100\n",
            "2/2 [==============================] - 0s 3ms/step - loss: 12.2047 - mae: 12.2047\n",
            "Epoch 45/100\n",
            "2/2 [==============================] - 0s 4ms/step - loss: 13.7970 - mae: 13.7970\n",
            "Epoch 46/100\n",
            "2/2 [==============================] - 0s 4ms/step - loss: 8.4687 - mae: 8.4687\n",
            "Epoch 47/100\n",
            "2/2 [==============================] - 0s 4ms/step - loss: 9.1330 - mae: 9.1330\n",
            "Epoch 48/100\n",
            "2/2 [==============================] - 0s 4ms/step - loss: 10.6190 - mae: 10.6190\n",
            "Epoch 49/100\n",
            "2/2 [==============================] - 0s 4ms/step - loss: 7.7503 - mae: 7.7503\n",
            "Epoch 50/100\n",
            "2/2 [==============================] - 0s 3ms/step - loss: 9.5407 - mae: 9.5407\n",
            "Epoch 51/100\n",
            "2/2 [==============================] - 0s 4ms/step - loss: 9.1584 - mae: 9.1584\n",
            "Epoch 52/100\n",
            "2/2 [==============================] - 0s 4ms/step - loss: 16.3630 - mae: 16.3630\n",
            "Epoch 53/100\n",
            "2/2 [==============================] - 0s 7ms/step - loss: 14.1299 - mae: 14.1299\n",
            "Epoch 54/100\n",
            "2/2 [==============================] - 0s 4ms/step - loss: 21.1247 - mae: 21.1247\n",
            "Epoch 55/100\n",
            "2/2 [==============================] - 0s 4ms/step - loss: 16.3961 - mae: 16.3961\n",
            "Epoch 56/100\n",
            "2/2 [==============================] - 0s 4ms/step - loss: 9.9806 - mae: 9.9806\n",
            "Epoch 57/100\n",
            "2/2 [==============================] - 0s 4ms/step - loss: 9.9606 - mae: 9.9606\n",
            "Epoch 58/100\n",
            "2/2 [==============================] - 0s 3ms/step - loss: 9.2209 - mae: 9.2209\n",
            "Epoch 59/100\n",
            "2/2 [==============================] - 0s 4ms/step - loss: 8.4239 - mae: 8.4239\n",
            "Epoch 60/100\n",
            "2/2 [==============================] - 0s 3ms/step - loss: 9.4869 - mae: 9.4869\n",
            "Epoch 61/100\n",
            "2/2 [==============================] - 0s 20ms/step - loss: 11.4355 - mae: 11.4355\n",
            "Epoch 62/100\n",
            "2/2 [==============================] - 0s 5ms/step - loss: 11.6887 - mae: 11.6887\n",
            "Epoch 63/100\n",
            "2/2 [==============================] - 0s 4ms/step - loss: 7.0838 - mae: 7.0838\n",
            "Epoch 64/100\n",
            "2/2 [==============================] - 0s 8ms/step - loss: 16.9675 - mae: 16.9675\n",
            "Epoch 65/100\n",
            "2/2 [==============================] - 0s 8ms/step - loss: 12.4599 - mae: 12.4599\n",
            "Epoch 66/100\n",
            "2/2 [==============================] - 0s 6ms/step - loss: 13.0184 - mae: 13.0184\n",
            "Epoch 67/100\n",
            "2/2 [==============================] - 0s 5ms/step - loss: 8.0600 - mae: 8.0600\n",
            "Epoch 68/100\n",
            "2/2 [==============================] - 0s 6ms/step - loss: 10.1888 - mae: 10.1888\n",
            "Epoch 69/100\n",
            "2/2 [==============================] - 0s 6ms/step - loss: 12.3633 - mae: 12.3633\n",
            "Epoch 70/100\n",
            "2/2 [==============================] - 0s 15ms/step - loss: 9.0516 - mae: 9.0516\n",
            "Epoch 71/100\n",
            "2/2 [==============================] - 0s 4ms/step - loss: 10.0378 - mae: 10.0378\n",
            "Epoch 72/100\n",
            "2/2 [==============================] - 0s 3ms/step - loss: 10.0516 - mae: 10.0516\n",
            "Epoch 73/100\n",
            "2/2 [==============================] - 0s 3ms/step - loss: 12.6151 - mae: 12.6151\n",
            "Epoch 74/100\n",
            "2/2 [==============================] - 0s 6ms/step - loss: 10.3819 - mae: 10.3819\n",
            "Epoch 75/100\n",
            "2/2 [==============================] - 0s 3ms/step - loss: 9.7229 - mae: 9.7229\n",
            "Epoch 76/100\n",
            "2/2 [==============================] - 0s 8ms/step - loss: 11.2252 - mae: 11.2252\n",
            "Epoch 77/100\n",
            "2/2 [==============================] - 0s 3ms/step - loss: 8.3642 - mae: 8.3642\n",
            "Epoch 78/100\n",
            "2/2 [==============================] - 0s 5ms/step - loss: 9.1274 - mae: 9.1274\n",
            "Epoch 79/100\n",
            "2/2 [==============================] - 0s 11ms/step - loss: 19.5039 - mae: 19.5039\n",
            "Epoch 80/100\n",
            "2/2 [==============================] - 0s 4ms/step - loss: 14.8945 - mae: 14.8945\n",
            "Epoch 81/100\n",
            "2/2 [==============================] - 0s 4ms/step - loss: 9.0034 - mae: 9.0034\n",
            "Epoch 82/100\n",
            "2/2 [==============================] - 0s 4ms/step - loss: 13.0206 - mae: 13.0206\n",
            "Epoch 83/100\n",
            "2/2 [==============================] - 0s 4ms/step - loss: 7.9299 - mae: 7.9299\n",
            "Epoch 84/100\n",
            "2/2 [==============================] - 0s 7ms/step - loss: 7.6872 - mae: 7.6872\n",
            "Epoch 85/100\n",
            "2/2 [==============================] - 0s 7ms/step - loss: 10.0328 - mae: 10.0328\n",
            "Epoch 86/100\n",
            "2/2 [==============================] - 0s 7ms/step - loss: 9.2433 - mae: 9.2433\n",
            "Epoch 87/100\n",
            "2/2 [==============================] - 0s 5ms/step - loss: 12.0209 - mae: 12.0209\n",
            "Epoch 88/100\n",
            "2/2 [==============================] - 0s 4ms/step - loss: 10.6389 - mae: 10.6389\n",
            "Epoch 89/100\n",
            "2/2 [==============================] - 0s 30ms/step - loss: 7.2667 - mae: 7.2667\n",
            "Epoch 90/100\n",
            "2/2 [==============================] - 0s 12ms/step - loss: 12.7786 - mae: 12.7786\n",
            "Epoch 91/100\n",
            "2/2 [==============================] - 0s 8ms/step - loss: 7.3481 - mae: 7.3481\n",
            "Epoch 92/100\n",
            "2/2 [==============================] - 0s 5ms/step - loss: 7.7175 - mae: 7.7175\n",
            "Epoch 93/100\n",
            "2/2 [==============================] - 0s 3ms/step - loss: 7.1263 - mae: 7.1263\n",
            "Epoch 94/100\n",
            "2/2 [==============================] - 0s 5ms/step - loss: 12.6190 - mae: 12.6190\n",
            "Epoch 95/100\n",
            "2/2 [==============================] - 0s 6ms/step - loss: 10.0912 - mae: 10.0912\n",
            "Epoch 96/100\n",
            "2/2 [==============================] - 0s 7ms/step - loss: 9.3558 - mae: 9.3558\n",
            "Epoch 97/100\n",
            "2/2 [==============================] - 0s 7ms/step - loss: 12.6834 - mae: 12.6834\n",
            "Epoch 98/100\n",
            "2/2 [==============================] - 0s 4ms/step - loss: 8.6762 - mae: 8.6762\n",
            "Epoch 99/100\n",
            "2/2 [==============================] - 0s 5ms/step - loss: 9.4693 - mae: 9.4693\n",
            "Epoch 100/100\n",
            "2/2 [==============================] - 0s 6ms/step - loss: 8.7067 - mae: 8.7067\n"
          ],
          "name": "stdout"
        },
        {
          "output_type": "execute_result",
          "data": {
            "text/plain": [
              "<tensorflow.python.keras.callbacks.History at 0x7f90124d2250>"
            ]
          },
          "metadata": {
            "tags": []
          },
          "execution_count": 44
        }
      ]
    },
    {
      "cell_type": "code",
      "metadata": {
        "id": "99d79eea-7389-4f12-86ef-39904b6b2575"
      },
      "source": [
        "# Prédiction du premier modèle\n",
        "y_pred_1 = \n",
        "plot_predictions(predictions=y_pred_1)"
      ],
      "id": "99d79eea-7389-4f12-86ef-39904b6b2575",
      "execution_count": null,
      "outputs": []
    },
    {
      "cell_type": "code",
      "metadata": {
        "colab": {
          "base_uri": "https://localhost:8080/",
          "height": 465
        },
        "id": "xx1gKsWoTvTZ",
        "outputId": "4ea830d8-c57f-4c7d-c347-5a7315262ccc"
      },
      "source": [
        "y_pred_1 = modele_1.predict(X_test)\n",
        "plot_predictions(predictions=y_pred_1)"
      ],
      "id": "xx1gKsWoTvTZ",
      "execution_count": 45,
      "outputs": [
        {
          "output_type": "stream",
          "text": [
            "WARNING:tensorflow:5 out of the last 5 calls to <function Model.make_predict_function.<locals>.predict_function at 0x7f90139e8170> triggered tf.function retracing. Tracing is expensive and the excessive number of tracings could be due to (1) creating @tf.function repeatedly in a loop, (2) passing tensors with different shapes, (3) passing Python objects instead of tensors. For (1), please define your @tf.function outside of the loop. For (2), @tf.function has experimental_relax_shapes=True option that relaxes argument shapes that can avoid unnecessary retracing. For (3), please refer to https://www.tensorflow.org/guide/function#controlling_retracing and https://www.tensorflow.org/api_docs/python/tf/function for  more details.\n"
          ],
          "name": "stdout"
        },
        {
          "output_type": "display_data",
          "data": {
            "image/png": "[encoded data removed]",
            "text/plain": [
              "<Figure size 720x504 with 1 Axes>"
            ]
          },
          "metadata": {
            "tags": [],
            "needs_background": "light"
          }
        }
      ]
    },
    {
      "cell_type": "code",
      "metadata": {
        "id": "fe6ec55c-3090-4af0-9353-040222089996"
      },
      "source": [
        "# Mesures de performance\n",
        "mae_1 = mae(, ).numpy()\n",
        "mse_1 = mse(, ).numpy()\n",
        "mae_1, mse_1"
      ],
      "id": "fe6ec55c-3090-4af0-9353-040222089996",
      "execution_count": null,
      "outputs": []
    },
    {
      "cell_type": "code",
      "metadata": {
        "colab": {
          "base_uri": "https://localhost:8080/"
        },
        "id": "F9TtdOt4VAbh",
        "outputId": "1f3d5434-bcb7-4643-a4a5-944d9adfd900"
      },
      "source": [
        "mae_1 = mae(y_test, y_pred_1.squeeze()).numpy()\n",
        "mse_1 = mse(y_test, y_pred_1.squeeze()).numpy()\n",
        "mae_1, mse_1"
      ],
      "id": "F9TtdOt4VAbh",
      "execution_count": 46,
      "outputs": [
        {
          "output_type": "execute_result",
          "data": {
            "text/plain": [
              "(18.745327, 353.57336)"
            ]
          },
          "metadata": {
            "tags": []
          },
          "execution_count": 46
        }
      ]
    },
    {
      "cell_type": "markdown",
      "metadata": {
        "id": "3fd9b1df-732a-42dd-b825-4fc4b106cd97"
      },
      "source": [
        "`modele_2` :"
      ],
      "id": "3fd9b1df-732a-42dd-b825-4fc4b106cd97"
    },
    {
      "cell_type": "code",
      "metadata": {
        "id": "8b7634fd-8217-41ad-a4d1-6338d04aa36f"
      },
      "source": [
        "# Choix du nombre aléatoire (pour la reproductibilité des calculs)\n",
        "tf.random.set_seed(42)\n",
        "\n",
        "# Création d'un modèle en utilisant l'API séquentielle\n",
        "\n",
        "\n",
        "# Compilation du modèle\n",
        "\n",
        "\n",
        "# Entraînement du modèle\n"
      ],
      "id": "8b7634fd-8217-41ad-a4d1-6338d04aa36f",
      "execution_count": null,
      "outputs": []
    },
    {
      "cell_type": "code",
      "metadata": {
        "colab": {
          "base_uri": "https://localhost:8080/"
        },
        "id": "WzewAXnNVY3A",
        "outputId": "bc769540-0292-4e40-e076-40f4a537e776"
      },
      "source": [
        "tf.random.set_seed(42)\n",
        "\n",
        "# Création d'un modèle en utilisant l'API séquentielle\n",
        "modele_2 = tf.keras.Sequential([tf.keras.layers.Dense(1),tf.keras.layers.Dense(1)])\n",
        "\n",
        "# Compilation du modèle\n",
        "modele_2.compile(loss=tf.keras.losses.mae,optimizer=tf.keras.optimizers.SGD(),metrics=[\"mae\"])\n",
        "\n",
        "# Entraînement du modèle\n",
        "modele_2.fit(X_train, y_train, epochs=100, verbose=0)"
      ],
      "id": "WzewAXnNVY3A",
      "execution_count": 47,
      "outputs": [
        {
          "output_type": "execute_result",
          "data": {
            "text/plain": [
              "<tensorflow.python.keras.callbacks.History at 0x7f9013973f10>"
            ]
          },
          "metadata": {
            "tags": []
          },
          "execution_count": 47
        }
      ]
    },
    {
      "cell_type": "code",
      "metadata": {
        "id": "46380f2d-b478-481c-9893-994bc9bcb110"
      },
      "source": [
        "# Prédiction du deuxième modèle\n",
        "y_pred_2 = \n",
        "plot_predictions()"
      ],
      "id": "46380f2d-b478-481c-9893-994bc9bcb110",
      "execution_count": null,
      "outputs": []
    },
    {
      "cell_type": "code",
      "metadata": {
        "colab": {
          "base_uri": "https://localhost:8080/",
          "height": 465
        },
        "id": "v59rZjgdVeRP",
        "outputId": "2e7fd76f-9939-4142-84a5-cad0d6df5947"
      },
      "source": [
        "y_pred_2 = modele_2.predict(X_test)\n",
        "plot_predictions(predictions=y_pred_2)"
      ],
      "id": "v59rZjgdVeRP",
      "execution_count": 48,
      "outputs": [
        {
          "output_type": "stream",
          "text": [
            "WARNING:tensorflow:6 out of the last 6 calls to <function Model.make_predict_function.<locals>.predict_function at 0x7f90621378c0> triggered tf.function retracing. Tracing is expensive and the excessive number of tracings could be due to (1) creating @tf.function repeatedly in a loop, (2) passing tensors with different shapes, (3) passing Python objects instead of tensors. For (1), please define your @tf.function outside of the loop. For (2), @tf.function has experimental_relax_shapes=True option that relaxes argument shapes that can avoid unnecessary retracing. For (3), please refer to https://www.tensorflow.org/guide/function#controlling_retracing and https://www.tensorflow.org/api_docs/python/tf/function for  more details.\n"
          ],
          "name": "stdout"
        },
        {
          "output_type": "display_data",
          "data": {
            "image/png": "[encoded data removed]",
            "text/plain": [
              "<Figure size 720x504 with 1 Axes>"
            ]
          },
          "metadata": {
            "tags": [],
            "needs_background": "light"
          }
        }
      ]
    },
    {
      "cell_type": "code",
      "metadata": {
        "id": "37e9ff74-1023-42e4-8bfe-87e55236ff8d"
      },
      "source": [
        "# Mesures de performance\n",
        "mae_2 = \n",
        "mse_2 = \n",
        "mae_2, mse_2"
      ],
      "id": "37e9ff74-1023-42e4-8bfe-87e55236ff8d",
      "execution_count": null,
      "outputs": []
    },
    {
      "cell_type": "code",
      "metadata": {
        "colab": {
          "base_uri": "https://localhost:8080/"
        },
        "id": "ukwvRdTnVsCk",
        "outputId": "4771ddec-6414-4496-8bb4-0d48ee2bd7f2"
      },
      "source": [
        "mae_2 = mae(y_test, y_pred_2.squeeze()).numpy()\n",
        "mse_2 = mse(y_test, y_pred_2.squeeze()).numpy()\n",
        "mae_2, mse_2"
      ],
      "id": "ukwvRdTnVsCk",
      "execution_count": 49,
      "outputs": [
        {
          "output_type": "execute_result",
          "data": {
            "text/plain": [
              "(1.9098114, 5.459232)"
            ]
          },
          "metadata": {
            "tags": []
          },
          "execution_count": 49
        }
      ]
    },
    {
      "cell_type": "markdown",
      "metadata": {
        "id": "edeb09b6-1bb4-42ed-8a19-cef72fc2e899"
      },
      "source": [
        "`modele_3` :"
      ],
      "id": "edeb09b6-1bb4-42ed-8a19-cef72fc2e899"
    },
    {
      "cell_type": "code",
      "metadata": {
        "id": "d6aaf792-5409-42ea-ae48-922d70fa070a"
      },
      "source": [
        "# Choix du nombre aléatoire (pour la reproductibilité des calculs)\n",
        "tf.random.set_seed(42)\n",
        "\n",
        "# Création d'un modèle en utilisant l'API séquentielle\n",
        "modele_3 = \n",
        "\n",
        "# Compilation du modèle\n",
        "\n",
        "\n",
        "# Entraînement du modèle\n"
      ],
      "id": "d6aaf792-5409-42ea-ae48-922d70fa070a",
      "execution_count": null,
      "outputs": []
    },
    {
      "cell_type": "code",
      "metadata": {
        "colab": {
          "base_uri": "https://localhost:8080/"
        },
        "id": "iBz-NCMLVwtx",
        "outputId": "83f57667-12fe-4fb4-a042-66329372bb26"
      },
      "source": [
        "tf.random.set_seed(42)\n",
        "\n",
        "modele_3 = tf.keras.Sequential([tf.keras.layers.Dense(1),tf.keras.layers.Dense(1)])\n",
        "\n",
        "modele_3.compile(loss=tf.keras.losses.mae,optimizer=tf.keras.optimizers.SGD(),metrics=[\"mae\"])\n",
        "\n",
        "modele_3.fit(X_train, y_train, epochs=500, verbose=0)"
      ],
      "id": "iBz-NCMLVwtx",
      "execution_count": 50,
      "outputs": [
        {
          "output_type": "execute_result",
          "data": {
            "text/plain": [
              "<tensorflow.python.keras.callbacks.History at 0x7f9012546450>"
            ]
          },
          "metadata": {
            "tags": []
          },
          "execution_count": 50
        }
      ]
    },
    {
      "cell_type": "code",
      "metadata": {
        "id": "f65544fa-0c34-41f9-84c2-7c1d2b6eb1e4"
      },
      "source": [
        "# Prédiction du troisième modèle\n",
        "y_pred_3 = \n",
        "plot_predictions()"
      ],
      "id": "f65544fa-0c34-41f9-84c2-7c1d2b6eb1e4",
      "execution_count": null,
      "outputs": []
    },
    {
      "cell_type": "code",
      "metadata": {
        "colab": {
          "base_uri": "https://localhost:8080/",
          "height": 428
        },
        "id": "V6Sw5qc5V4xw",
        "outputId": "bccfc974-adc9-45aa-d12d-a38aba9dff9b"
      },
      "source": [
        "y_pred_3 = modele_3.predict(X_test)\n",
        "plot_predictions(predictions=y_pred_3)"
      ],
      "id": "V6Sw5qc5V4xw",
      "execution_count": 51,
      "outputs": [
        {
          "output_type": "display_data",
          "data": {
            "image/png": "[encoded data removed]",
            "text/plain": [
              "<Figure size 720x504 with 1 Axes>"
            ]
          },
          "metadata": {
            "tags": [],
            "needs_background": "light"
          }
        }
      ]
    },
    {
      "cell_type": "code",
      "metadata": {
        "id": "efd83962-749d-4ccc-acef-1a56bacfc54a"
      },
      "source": [
        "# Mesures de performance\n",
        "mae_3 = \n",
        "mse_3 = \n",
        "mae_3, mse_3"
      ],
      "id": "efd83962-749d-4ccc-acef-1a56bacfc54a",
      "execution_count": null,
      "outputs": []
    },
    {
      "cell_type": "code",
      "metadata": {
        "colab": {
          "base_uri": "https://localhost:8080/"
        },
        "id": "qgFLfzXGW9IN",
        "outputId": "a39b6430-9ede-4f4e-a375-5ea1b2934188"
      },
      "source": [
        "mae_3 = mae(y_test, y_pred_3.squeeze()).numpy()\n",
        "mse_3 = mse(y_test, y_pred_3.squeeze()).numpy()\n",
        "mae_3, mse_3"
      ],
      "id": "qgFLfzXGW9IN",
      "execution_count": 52,
      "outputs": [
        {
          "output_type": "execute_result",
          "data": {
            "text/plain": [
              "(68.68786, 4804.4717)"
            ]
          },
          "metadata": {
            "tags": []
          },
          "execution_count": 52
        }
      ]
    },
    {
      "cell_type": "markdown",
      "metadata": {
        "id": "c2a2548c-40e5-4378-bc50-62d98d888610"
      },
      "source": [
        "Etrange les résultats du dernier modèle ! Nous avons augmenté le temps d'entraînement par rapport à `modele_2` : nous aurions ainsi pu penser que cela donnerait à notre modèle plus de chance pour trouver les relations dans les données (*learn patterns* en anglais).\n",
        "\n",
        "Finalement, notre modèle s'est plutôt entraîné trop longtemps et a cela a conduit a des résultats plus médiocres.\n",
        "\n",
        "Comparons les résultats obtenus (les MAE et MSE pour chaque modèle) sous la forme d'un `DataFrame` :"
      ],
      "id": "c2a2548c-40e5-4378-bc50-62d98d888610"
    },
    {
      "cell_type": "code",
      "metadata": {
        "id": "a61996c1-79a7-458f-98ed-3c4a4000f099"
      },
      "source": [
        "resultats = [[\"modele_1\", , ],[\"modele_2\", , ],[\"modele_3\", , ]]"
      ],
      "id": "a61996c1-79a7-458f-98ed-3c4a4000f099",
      "execution_count": null,
      "outputs": []
    },
    {
      "cell_type": "code",
      "metadata": {
        "id": "FtI2ZG3lXwpW"
      },
      "source": [
        "resultats = [[\"modele_1\", mae_1, mse_1],[\"modele_2\", mae_2, mse_2],[\"modele_3\", mae_3, mse_3]]"
      ],
      "id": "FtI2ZG3lXwpW",
      "execution_count": 53,
      "outputs": []
    },
    {
      "cell_type": "code",
      "metadata": {
        "id": "229cd671-260d-4bdf-aa4e-37d9042a4d7c",
        "colab": {
          "base_uri": "https://localhost:8080/",
          "height": 142
        },
        "outputId": "e05e3ea5-93ac-44d3-8748-9f6708889eea"
      },
      "source": [
        "import pandas as pd\n",
        "df_resultats = pd.DataFrame(resultats, columns=[\"modele\", \"mae\", \"mse\"])\n",
        "df_resultats"
      ],
      "id": "229cd671-260d-4bdf-aa4e-37d9042a4d7c",
      "execution_count": 55,
      "outputs": [
        {
          "output_type": "execute_result",
          "data": {
            "text/html": [
              "<div>\n",
              "<style scoped>\n",
              "    .dataframe tbody tr th:only-of-type {\n",
              "        vertical-align: middle;\n",
              "    }\n",
              "\n",
              "    .dataframe tbody tr th {\n",
              "        vertical-align: top;\n",
              "    }\n",
              "\n",
              "    .dataframe thead th {\n",
              "        text-align: right;\n",
              "    }\n",
              "</style>\n",
              "<table border=\"1\" class=\"dataframe\">\n",
              "  <thead>\n",
              "    <tr style=\"text-align: right;\">\n",
              "      <th></th>\n",
              "      <th>modele</th>\n",
              "      <th>mae</th>\n",
              "      <th>mse</th>\n",
              "    </tr>\n",
              "  </thead>\n",
              "  <tbody>\n",
              "    <tr>\n",
              "      <th>0</th>\n",
              "      <td>modele_1</td>\n",
              "      <td>18.745327</td>\n",
              "      <td>353.573364</td>\n",
              "    </tr>\n",
              "    <tr>\n",
              "      <th>1</th>\n",
              "      <td>modele_2</td>\n",
              "      <td>1.909811</td>\n",
              "      <td>5.459232</td>\n",
              "    </tr>\n",
              "    <tr>\n",
              "      <th>2</th>\n",
              "      <td>modele_3</td>\n",
              "      <td>68.687859</td>\n",
              "      <td>4804.471680</td>\n",
              "    </tr>\n",
              "  </tbody>\n",
              "</table>\n",
              "</div>"
            ],
            "text/plain": [
              "     modele        mae          mse\n",
              "0  modele_1  18.745327   353.573364\n",
              "1  modele_2   1.909811     5.459232\n",
              "2  modele_3  68.687859  4804.471680"
            ]
          },
          "metadata": {
            "tags": []
          },
          "execution_count": 55
        }
      ]
    },
    {
      "cell_type": "markdown",
      "metadata": {
        "id": "c0debdf8-edb9-4db8-aeed-a27e8a560470"
      },
      "source": [
        "Ici, dans cet essai-là, il semble que `modele_2` est le plus performant."
      ],
      "id": "c0debdf8-edb9-4db8-aeed-a27e8a560470"
    },
    {
      "cell_type": "markdown",
      "metadata": {
        "id": "864e9c38-fd09-42ac-9652-a977d6cdd1c6"
      },
      "source": [
        "## 6. Sauvegarder un modèle\n",
        "\n",
        "Lors de vos projets, une fois que vous aurez entraîné un ou des modèles et que vous aurez trouvé le meilleur d'entre eux, vous voudrez probablement le sauvegarder pour pouvoir le réutiliser ailleurs (par exemple sur une application web ou un appareil portable).\n",
        "\n",
        "La méthode `save()` permet la sauvegarde d'un modèle TensorFlow/Keras.\n",
        "\n",
        "Il y a deux façons de faire cette sauvegarde de modèle :\n",
        "1. le [format SavedModel](https://www.tensorflow.org/tutorials/keras/save_and_load#savedmodel_format) (défaut)\n",
        "2. le [format HDF5](https://www.tensorflow.org/tutorials/keras/save_and_load#hdf5_format)\n",
        "\n",
        "Nous allons tester la sauvegarde dans les deux formats de notre meilleur modèle, `modele_2` :"
      ],
      "id": "864e9c38-fd09-42ac-9652-a977d6cdd1c6"
    },
    {
      "cell_type": "code",
      "metadata": {
        "id": "8a2e3f26-3a8a-43eb-a202-b077dc55e8fe",
        "colab": {
          "base_uri": "https://localhost:8080/"
        },
        "outputId": "830d60d7-d19d-4e71-9cd7-cdcd06625ce1"
      },
      "source": [
        "# Sauvegarde au format par défaut SavedModel\n",
        "modele_2.save('modele')\n"
      ],
      "id": "8a2e3f26-3a8a-43eb-a202-b077dc55e8fe",
      "execution_count": 56,
      "outputs": [
        {
          "output_type": "stream",
          "text": [
            "INFO:tensorflow:Assets written to: modele/assets\n"
          ],
          "name": "stdout"
        }
      ]
    },
    {
      "cell_type": "code",
      "metadata": {
        "id": "2ffa60da-00ea-435b-986e-b9c5dd1278b6",
        "colab": {
          "base_uri": "https://localhost:8080/"
        },
        "outputId": "141377f1-57e7-4df5-96d0-5fec3e8f445b"
      },
      "source": [
        "# Vérification du dossier créé\n",
        "!ls "
      ],
      "id": "2ffa60da-00ea-435b-986e-b9c5dd1278b6",
      "execution_count": 57,
      "outputs": [
        {
          "output_type": "stream",
          "text": [
            "modele\tmodel.png  sample_data\n"
          ],
          "name": "stdout"
        }
      ]
    },
    {
      "cell_type": "code",
      "metadata": {
        "id": "29e2413d-1c00-4dd2-b3fe-5a504f3ca280"
      },
      "source": [
        "# Sauvegarde au format HDF5\n",
        "modele_2.save('modele.h5')"
      ],
      "id": "29e2413d-1c00-4dd2-b3fe-5a504f3ca280",
      "execution_count": 58,
      "outputs": []
    },
    {
      "cell_type": "code",
      "metadata": {
        "id": "3a23ee3c-76d4-4d94-9f43-5ab9c4d358b8",
        "colab": {
          "base_uri": "https://localhost:8080/"
        },
        "outputId": "8bd5cb3b-2553-49f3-a805-839e0c7346ca"
      },
      "source": [
        "# Vérification du fichier créé\n",
        "!ls"
      ],
      "id": "3a23ee3c-76d4-4d94-9f43-5ab9c4d358b8",
      "execution_count": 59,
      "outputs": [
        {
          "output_type": "stream",
          "text": [
            "modele\tmodele.h5  model.png  sample_data\n"
          ],
          "name": "stdout"
        }
      ]
    },
    {
      "cell_type": "markdown",
      "metadata": {
        "id": "a5daa61f-4b04-429b-bf8a-bb939f0dcdde"
      },
      "source": [
        "## 6. Charger un modèle\n",
        "\n",
        "Nous pouvons utiliser la méthode `load_model()` du module `models` de Keras dans TensorFlow, pour charger un modèle sauvegardé.\n",
        "\n",
        "Le chargement des différents formats (SavedModel et HDF5) est le même.\n",
        "\n",
        "Testons cela en commençant par charger le modèle au format SavedModel puis en vérifiant que les prédictions sont les mêmes que `modele_2` :"
      ],
      "id": "a5daa61f-4b04-429b-bf8a-bb939f0dcdde"
    },
    {
      "cell_type": "code",
      "metadata": {
        "id": "84722922-8ead-4607-9ddf-ff35720c7f3f",
        "colab": {
          "base_uri": "https://localhost:8080/"
        },
        "outputId": "e68b7010-3ef4-44cc-e80a-66cf7921f3df"
      },
      "source": [
        "# Chargement du modèle\n",
        "modele_SavedModel = tf.keras.models.load_model('modele')\n",
        "modele_SavedModel.summary()"
      ],
      "id": "84722922-8ead-4607-9ddf-ff35720c7f3f",
      "execution_count": 61,
      "outputs": [
        {
          "output_type": "stream",
          "text": [
            "Model: \"sequential_6\"\n",
            "_________________________________________________________________\n",
            "Layer (type)                 Output Shape              Param #   \n",
            "=================================================================\n",
            "dense_6 (Dense)              (None, 1)                 2         \n",
            "_________________________________________________________________\n",
            "dense_7 (Dense)              (None, 1)                 2         \n",
            "=================================================================\n",
            "Total params: 4\n",
            "Trainable params: 4\n",
            "Non-trainable params: 0\n",
            "_________________________________________________________________\n"
          ],
          "name": "stdout"
        }
      ]
    },
    {
      "cell_type": "code",
      "metadata": {
        "id": "b8c5b609-eb52-47ec-a307-1b3b2997dbeb",
        "colab": {
          "base_uri": "https://localhost:8080/"
        },
        "outputId": "59eb077c-364e-46af-99b8-4c8f5797b4c6"
      },
      "source": [
        "# Comparaison des prédictions de ce modèle et du modèle modele_2, sur le jeu de test\n",
        "modele_2_pred = modele_2.predict(X_test)\n",
        "modele_SavedModel_pred = modele_SavedModel.predict(X_test)\n",
        "mae(y_test, modele_SavedModel_pred.squeeze()).numpy() == mae(y_test, modele_2_pred.squeeze()).numpy()"
      ],
      "id": "b8c5b609-eb52-47ec-a307-1b3b2997dbeb",
      "execution_count": 62,
      "outputs": [
        {
          "output_type": "execute_result",
          "data": {
            "text/plain": [
              "True"
            ]
          },
          "metadata": {
            "tags": []
          },
          "execution_count": 62
        }
      ]
    },
    {
      "cell_type": "markdown",
      "metadata": {
        "id": "f9448e1c-3801-41e3-a8c2-ca5bd0cf2d4b"
      },
      "source": [
        "Les deux modèles étant identiques, nous trouvons évidemment que la MAE est identique pour les deux modèles sur le jeu de test.\n",
        "\n",
        "Au tour du modèle de format HDF5 :"
      ],
      "id": "f9448e1c-3801-41e3-a8c2-ca5bd0cf2d4b"
    },
    {
      "cell_type": "code",
      "metadata": {
        "id": "0109380e-3cb9-4b65-9837-64e3ddd54c3f",
        "colab": {
          "base_uri": "https://localhost:8080/"
        },
        "outputId": "0975a090-b22e-49ee-98be-4471941a2260"
      },
      "source": [
        "# Chargement du modèle\n",
        "modele_h5 = tf.keras.models.load_model('modele.h5')\n",
        "modele_h5.summary()\n"
      ],
      "id": "0109380e-3cb9-4b65-9837-64e3ddd54c3f",
      "execution_count": 64,
      "outputs": [
        {
          "output_type": "stream",
          "text": [
            "Model: \"sequential_6\"\n",
            "_________________________________________________________________\n",
            "Layer (type)                 Output Shape              Param #   \n",
            "=================================================================\n",
            "dense_6 (Dense)              (None, 1)                 2         \n",
            "_________________________________________________________________\n",
            "dense_7 (Dense)              (None, 1)                 2         \n",
            "=================================================================\n",
            "Total params: 4\n",
            "Trainable params: 4\n",
            "Non-trainable params: 0\n",
            "_________________________________________________________________\n"
          ],
          "name": "stdout"
        }
      ]
    },
    {
      "cell_type": "code",
      "metadata": {
        "id": "a0c94033-75bd-4dc9-85ed-37962de3cdd5",
        "colab": {
          "base_uri": "https://localhost:8080/"
        },
        "outputId": "c7432e10-b439-4808-b7b1-3ad81521a845"
      },
      "source": [
        "# Comparaison des prédictions de ce modèle et du modèle modele_2, sur le jeu de test\n",
        "modele_h5_pred = modele_h5.predict(X_test)\n",
        "mae(y_test, modele_h5_pred.squeeze()).numpy() == mae(y_test, modele_2_pred.squeeze()).numpy()\n"
      ],
      "id": "a0c94033-75bd-4dc9-85ed-37962de3cdd5",
      "execution_count": 65,
      "outputs": [
        {
          "output_type": "execute_result",
          "data": {
            "text/plain": [
              "True"
            ]
          },
          "metadata": {
            "tags": []
          },
          "execution_count": 65
        }
      ]
    },
    {
      "cell_type": "markdown",
      "metadata": {
        "id": "529cb116-f998-4fa1-a453-d3aa1139d493"
      },
      "source": [
        "Là encore, c'est bien le résultat attendu.\n",
        "\n",
        "## 7. Télécharger un modèle\n",
        "\n",
        "Supposons par exemple que vous souhaitez récupérer votre modèle depuis Google Colab.\n",
        "\n",
        "Vous pouvez le faire :\n",
        "- soit via le panneau : faire un clic droit sur le fichier puis clic sur \"Télécharger\"\n",
        "- soit en utilisant le code ci-dessous"
      ],
      "id": "529cb116-f998-4fa1-a453-d3aa1139d493"
    },
    {
      "cell_type": "code",
      "metadata": {
        "id": "479ef7e5-d112-429b-85c4-6a16cb932848",
        "colab": {
          "base_uri": "https://localhost:8080/",
          "height": 17
        },
        "outputId": "bb2b5d59-8da7-4c95-9aa0-dfcb2974a1c3"
      },
      "source": [
        "# Téléchargement du modèle (ou n'importe quel autre fichier) depuis Google Colab sur votre machine en local\n",
        "from google.colab import files\n",
        "files.download(\"modele.h5\")"
      ],
      "id": "479ef7e5-d112-429b-85c4-6a16cb932848",
      "execution_count": 66,
      "outputs": [
        {
          "output_type": "display_data",
          "data": {
            "application/javascript": [
              "\n",
              "    async function download(id, filename, size) {\n",
              "      if (!google.colab.kernel.accessAllowed) {\n",
              "        return;\n",
              "      }\n",
              "      const div = document.createElement('div');\n",
              "      const label = document.createElement('label');\n",
              "      label.textContent = `Downloading \"${filename}\": `;\n",
              "      div.appendChild(label);\n",
              "      const progress = document.createElement('progress');\n",
              "      progress.max = size;\n",
              "      div.appendChild(progress);\n",
              "      document.body.appendChild(div);\n",
              "\n",
              "      const buffers = [];\n",
              "      let downloaded = 0;\n",
              "\n",
              "      const channel = await google.colab.kernel.comms.open(id);\n",
              "      // Send a message to notify the kernel that we're ready.\n",
              "      channel.send({})\n",
              "\n",
              "      for await (const message of channel.messages) {\n",
              "        // Send a message to notify the kernel that we're ready.\n",
              "        channel.send({})\n",
              "        if (message.buffers) {\n",
              "          for (const buffer of message.buffers) {\n",
              "            buffers.push(buffer);\n",
              "            downloaded += buffer.byteLength;\n",
              "            progress.value = downloaded;\n",
              "          }\n",
              "        }\n",
              "      }\n",
              "      const blob = new Blob(buffers, {type: 'application/binary'});\n",
              "      const a = document.createElement('a');\n",
              "      a.href = window.URL.createObjectURL(blob);\n",
              "      a.download = filename;\n",
              "      div.appendChild(a);\n",
              "      a.click();\n",
              "      div.remove();\n",
              "    }\n",
              "  "
            ],
            "text/plain": [
              "<IPython.core.display.Javascript object>"
            ]
          },
          "metadata": {
            "tags": []
          }
        },
        {
          "output_type": "display_data",
          "data": {
            "application/javascript": [
              "download(\"download_7fb18de9-26f7-48ef-bc25-706fab42d79b\", \"modele.h5\", 17040)"
            ],
            "text/plain": [
              "<IPython.core.display.Javascript object>"
            ]
          },
          "metadata": {
            "tags": []
          }
        }
      ]
    }
  ]
}